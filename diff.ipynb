{
 "cells": [
  {
   "cell_type": "code",
   "execution_count": 35,
   "metadata": {},
   "outputs": [],
   "source": [
    "import subprocess as sp\n",
    "from collections import defaultdict\n",
    "from pathlib import Path"
   ]
  },
  {
   "cell_type": "code",
   "execution_count": 6,
   "metadata": {},
   "outputs": [],
   "source": [
    "diff = sp.getoutput(\"diff '--exclude=*.txt' '--exclude=.git' '--exclude=*.mp4' --suppress-common-lines --strip-trailing-cr -drBwbZET --brief /mnt/c/shared-dir/discrete_math /mnt/c/shared-dir/CS/discrete_math\")"
   ]
  },
  {
   "cell_type": "code",
   "execution_count": 14,
   "metadata": {
    "scrolled": true
   },
   "outputs": [
    {
     "data": {
      "text/plain": [
       "['Only in /mnt/c/shared-dir/discrete_math: .ipynb_checkpoints',\n",
       " 'Only in /mnt/c/shared-dir/discrete_math: .virtual_documents',\n",
       " 'Only in /mnt/c/shared-dir/discrete_math: Discrete mathematics and its applications - Rosen - 8th edition.pdf',\n",
       " 'Only in /mnt/c/shared-dir/discrete_math/Exams/2018: 2018.83 form scan.pdf',\n",
       " 'Only in /mnt/c/shared-dir/discrete_math/Exams/2018: 2018.83 solution notebook scan.pdf',\n",
       " 'Only in /mnt/c/shared-dir/discrete_math/Exams/2018: 2018.84 digital.pdf',\n",
       " 'Only in /mnt/c/shared-dir/discrete_math/Exams/2018: 2018.84 solution notebook scan.pdf',\n",
       " 'Only in /mnt/c/shared-dir/discrete_math/Exams/2018: 2018.85 digital.pdf',\n",
       " 'Only in /mnt/c/shared-dir/discrete_math/Exams/2018: 2018.85 solution notebook scan 1.pdf',\n",
       " 'Only in /mnt/c/shared-dir/discrete_math/Exams/2018: 2018.85 solution notebook scan 2.pdf',\n",
       " 'Only in /mnt/c/shared-dir/discrete_math/Exams/2018: 2018.94 form scan.pdf',\n",
       " 'Only in /mnt/c/shared-dir/discrete_math/Exams/2018: 2018.94 solution notebook scan.pdf',\n",
       " 'Only in /mnt/c/shared-dir/CS/discrete_math/Exams/2018: 2018b_83_shelon - Copy.pdf',\n",
       " 'Only in /mnt/c/shared-dir/CS/discrete_math/Exams/2018: 2018b_83_shelon.pdf',\n",
       " 'Only in /mnt/c/shared-dir/CS/discrete_math/Exams/2018: 2018b_83_sol.pdf',\n",
       " 'Only in /mnt/c/shared-dir/CS/discrete_math/Exams/2018: 2018b_84_shelon.pdf',\n",
       " 'Only in /mnt/c/shared-dir/CS/discrete_math/Exams/2018: 2018b_84_sol.pdf',\n",
       " 'Only in /mnt/c/shared-dir/CS/discrete_math/Exams/2018: 2018b_94_shelon.pdf',\n",
       " 'Only in /mnt/c/shared-dir/CS/discrete_math/Exams/2018: 2018b_94_sol.pdf',\n",
       " 'Only in /mnt/c/shared-dir/CS/discrete_math/Exams/2018: 2018c_85_shelon.pdf',\n",
       " 'Only in /mnt/c/shared-dir/CS/discrete_math/Exams/2018: 2018c_85_sol_100a.pdf',\n",
       " 'Only in /mnt/c/shared-dir/CS/discrete_math/Exams/2018: 2018c_85_sol_100b.pdf',\n",
       " 'Only in /mnt/c/shared-dir/discrete_math/Exams/2019: 2019.82',\n",
       " 'Only in /mnt/c/shared-dir/discrete_math/Exams/2019: 2019.83',\n",
       " 'Only in /mnt/c/shared-dir/discrete_math/Exams/2019: 2019.92',\n",
       " 'Only in /mnt/c/shared-dir/CS/discrete_math/Exams/2019: 2019_82b',\n",
       " 'Only in /mnt/c/shared-dir/CS/discrete_math/Exams/2019: 2019_semester_c_moed92',\n",
       " 'Only in /mnt/c/shared-dir/CS/discrete_math/Exams/2019: 2019a1_m82_.pdf',\n",
       " 'Only in /mnt/c/shared-dir/CS/discrete_math/Exams/2019: 2019a2_83',\n",
       " 'Only in /mnt/c/shared-dir/CS/discrete_math/Exams/2019: 2019a2_83_sol_grade97.pdf',\n",
       " 'Only in /mnt/c/shared-dir/CS/discrete_math/Exams/2019: 2019a2_m83.pdf',\n",
       " 'Files /mnt/c/shared-dir/discrete_math/Exams/2019/2019ב_מועד_ב/2019b_b (2).jpg and /mnt/c/shared-dir/CS/discrete_math/Exams/2019/2019ב_מועד_ב/2019b_b (2).jpg differ',\n",
       " 'Only in /mnt/c/shared-dir/discrete_math/Exams/2020: 2020.82',\n",
       " 'Only in /mnt/c/shared-dir/discrete_math/Exams/2020: 2020.84',\n",
       " 'Only in /mnt/c/shared-dir/CS/discrete_math/Exams/2020: 2020a-Moed82',\n",
       " 'Only in /mnt/c/shared-dir/CS/discrete_math/Exams/2020: 2020a-moed84',\n",
       " 'Only in /mnt/c/shared-dir/CS/discrete_math/Exams/2020: 490_82.pdf',\n",
       " 'Only in /mnt/c/shared-dir/CS/discrete_math/Exams/2020: מבחן בדידה.pdf',\n",
       " 'Only in /mnt/c/shared-dir/discrete_math/Exams: exams_index.docx',\n",
       " 'Only in /mnt/c/shared-dir/CS/discrete_math/Exams: exams_index.md',\n",
       " 'Only in /mnt/c/shared-dir/CS/discrete_math/Exams: exams_index.odt',\n",
       " 'Only in /mnt/c/shared-dir/discrete_math/Exams: exams_snippets.docx',\n",
       " 'Only in /mnt/c/shared-dir/discrete_math/Exams: משקל נושאים.xlsx',\n",
       " 'Only in /mnt/c/shared-dir/discrete_math/Exams/קבצים מלאים של מבחנים: 2012.86 - 2014.87.pdf',\n",
       " 'Only in /mnt/c/shared-dir/discrete_math/Exams/קבצים מלאים של מבחנים: 2013.82a - 2015.90.pdf',\n",
       " 'Only in /mnt/c/shared-dir/CS/discrete_math/Exams/קבצים מלאים של מבחנים: Exams1.pdf',\n",
       " 'Only in /mnt/c/shared-dir/CS/discrete_math/Exams/קבצים מלאים של מבחנים: Exams2.pdf',\n",
       " 'Only in /mnt/c/shared-dir/discrete_math: _pdf2txt.sh',\n",
       " 'Only in /mnt/c/shared-dir/discrete_math: combinatorics',\n",
       " 'Only in /mnt/c/shared-dir/discrete_math: diff.ipynb',\n",
       " 'Only in /mnt/c/shared-dir/CS/discrete_math: difference',\n",
       " 'Only in /mnt/c/shared-dir/discrete_math: discrete_math_rosen_chapter9_mathematica',\n",
       " 'Only in /mnt/c/shared-dir/discrete_math: discrete_math_rosen_chapter9_mathematica.zip',\n",
       " 'Only in /mnt/c/shared-dir/discrete_math: exam85',\n",
       " 'Only in /mnt/c/shared-dir/discrete_math/formulas: debug.log',\n",
       " 'Only in /mnt/c/shared-dir/discrete_math/identities: .ipynb_checkpoints',\n",
       " 'Files /mnt/c/shared-dir/discrete_math/identities/identities.ipynb and /mnt/c/shared-dir/CS/discrete_math/identities/identities.ipynb differ',\n",
       " 'Only in /mnt/c/shared-dir/CS/discrete_math/identities: identities.pdf',\n",
       " 'Only in /mnt/c/shared-dir/CS/discrete_math: lessons',\n",
       " 'Only in /mnt/c/shared-dir/discrete_math/mamans/past: tmp.log',\n",
       " 'Only in /mnt/c/shared-dir/discrete_math: office365_forstudents.pdf',\n",
       " 'Only in /mnt/c/shared-dir/discrete_math/relations: .ipynb_checkpoints',\n",
       " 'Only in /mnt/c/shared-dir/discrete_math/relations: .mypy_cache',\n",
       " 'Only in /mnt/c/shared-dir/discrete_math/relations: .vscode',\n",
       " 'Only in /mnt/c/shared-dir/discrete_math/relations: 5 יחסי שקילות ויחסי סדר טלי אביגד.pdf',\n",
       " 'Only in /mnt/c/shared-dir/discrete_math/relations: 6 יחסי שקילות ויחסי סדר טלי אביגד.pdf',\n",
       " 'Only in /mnt/c/shared-dir/discrete_math/relations: Untitled.ipynb',\n",
       " 'Only in /mnt/c/shared-dir/discrete_math/relations: __pycache__',\n",
       " 'Only in /mnt/c/shared-dir/discrete_math/relations: _relations.ipynb',\n",
       " 'Only in /mnt/c/shared-dir/discrete_math/relations: _tmp.py',\n",
       " 'Only in /mnt/c/shared-dir/discrete_math/relations: relation_new.ipynb',\n",
       " 'Only in /mnt/c/shared-dir/CS/discrete_math/relations: relations.ipynb',\n",
       " 'Files /mnt/c/shared-dir/discrete_math/relations/relations.md and /mnt/c/shared-dir/CS/discrete_math/relations/relations.md differ',\n",
       " 'Files /mnt/c/shared-dir/discrete_math/relations/relations.py and /mnt/c/shared-dir/CS/discrete_math/relations/relations.py differ',\n",
       " 'Only in /mnt/c/shared-dir/discrete_math/relations: relations_py.md',\n",
       " 'Only in /mnt/c/shared-dir/discrete_math: מבוא מהיר ללוגיקה.pdf',\n",
       " 'Only in /mnt/c/shared-dir/discrete_math: קומבינטוריקה מקומפרס.pdf',\n",
       " 'Only in /mnt/c/shared-dir/discrete_math: קומבינטוריקה.pdf']"
      ]
     },
     "execution_count": 14,
     "metadata": {},
     "output_type": "execute_result"
    }
   ],
   "source": [
    "lines = diff.splitlines()\n",
    "lines"
   ]
  },
  {
   "cell_type": "code",
   "execution_count": 40,
   "metadata": {},
   "outputs": [],
   "source": [
    "shared = dict()\n",
    "repo = dict()\n",
    "other = dict()\n",
    "for line in lines:\n",
    "    if line.startswith(\"Only in /mnt/c/shared-dir/discrete_math\"):\n",
    "        basename = line[40:].replace(\": \",\"/\").strip()\n",
    "        path = Path('/mnt/c/shared-dir/discrete_math').joinpath(basename)\n",
    "        size = path.stat().st_size\n",
    "        shared[basename] = size\n",
    "    elif line.startswith(\"Only in /mnt/c/shared-dir/CS/discrete_math\"):\n",
    "        basename = line[43:].replace(\": \",\"/\").strip()\n",
    "        path = Path('/mnt/c/shared-dir/CS/discrete_math').joinpath(basename)\n",
    "        size = path.stat().st_size\n",
    "        repo[basename] = size\n",
    "    else:\n",
    "        other[line] = None\n",
    "        "
   ]
  },
  {
   "cell_type": "code",
   "execution_count": 41,
   "metadata": {},
   "outputs": [
    {
     "data": {
      "text/plain": [
       "{'.ipynb_checkpoints': 4096,\n",
       " '.virtual_documents': 4096,\n",
       " 'Discrete mathematics and its applications - Rosen - 8th edition.pdf': 8729085,\n",
       " 'Exams/2018/2018.83 form scan.pdf': 203141,\n",
       " 'Exams/2018/2018.83 solution notebook scan.pdf': 5061533,\n",
       " 'Exams/2018/2018.84 digital.pdf': 1584478,\n",
       " 'Exams/2018/2018.84 solution notebook scan.pdf': 5452212,\n",
       " 'Exams/2018/2018.85 digital.pdf': 1788373,\n",
       " 'Exams/2018/2018.85 solution notebook scan 1.pdf': 5463160,\n",
       " 'Exams/2018/2018.85 solution notebook scan 2.pdf': 2756346,\n",
       " 'Exams/2018/2018.94 form scan.pdf': 1273943,\n",
       " 'Exams/2018/2018.94 solution notebook scan.pdf': 7561788,\n",
       " 'Exams/2019/2019.82': 4096,\n",
       " 'Exams/2019/2019.83': 4096,\n",
       " 'Exams/2019/2019.92': 4096,\n",
       " 'Exams/2020/2020.82': 4096,\n",
       " 'Exams/2020/2020.84': 4096,\n",
       " 'Exams/exams_index.docx': 21571,\n",
       " 'Exams/exams_snippets.docx': 11908,\n",
       " 'Exams/משקל נושאים.xlsx': 10071,\n",
       " 'Exams/קבצים מלאים של מבחנים/2012.86 - 2014.87.pdf': 2709749,\n",
       " 'Exams/קבצים מלאים של מבחנים/2013.82a - 2015.90.pdf': 19256590,\n",
       " '_pdf2txt.sh': 444,\n",
       " 'combinatorics': 4096,\n",
       " 'diff.ipynb': 13214,\n",
       " 'discrete_math_rosen_chapter9_mathematica': 4096,\n",
       " 'discrete_math_rosen_chapter9_mathematica.zip': 795781,\n",
       " 'exam85': 4096,\n",
       " 'formulas/debug.log': 622,\n",
       " 'identities/.ipynb_checkpoints': 4096,\n",
       " 'mamans/past/tmp.log': 497,\n",
       " 'office365_forstudents.pdf': 579106,\n",
       " 'relations/.ipynb_checkpoints': 4096,\n",
       " 'relations/.mypy_cache': 4096,\n",
       " 'relations/.vscode': 4096,\n",
       " 'relations/5 יחסי שקילות ויחסי סדר טלי אביגד.pdf': 6003393,\n",
       " 'relations/6 יחסי שקילות ויחסי סדר טלי אביגד.pdf': 5440254,\n",
       " 'relations/Untitled.ipynb': 72,\n",
       " 'relations/__pycache__': 4096,\n",
       " 'relations/_relations.ipynb': 32351,\n",
       " 'relations/_tmp.py': 25,\n",
       " 'relations/relation_new.ipynb': 4370,\n",
       " 'relations/relations_py.md': 9241,\n",
       " 'מבוא מהיר ללוגיקה.pdf': 1118264,\n",
       " 'קומבינטוריקה מקומפרס.pdf': 13424379,\n",
       " 'קומבינטוריקה.pdf': 53359734}"
      ]
     },
     "execution_count": 41,
     "metadata": {},
     "output_type": "execute_result"
    }
   ],
   "source": [
    "shared"
   ]
  },
  {
   "cell_type": "code",
   "execution_count": 25,
   "metadata": {},
   "outputs": [
    {
     "data": {
      "text/plain": [
       "{'Files /mnt/c/shared-dir/discrete_math/Exams/2019/2019ב_מועד_ב/2019b_b (2).jpg and /mnt/c/shared-dir/CS/discrete_math/Exams/2019/2019ב_מועד_ב/2019b_b (2).jpg differ': None,\n",
       " 'Files /mnt/c/shared-dir/discrete_math/identities/identities.ipynb and /mnt/c/shared-dir/CS/discrete_math/identities/identities.ipynb differ': None,\n",
       " 'Files /mnt/c/shared-dir/discrete_math/relations/relations.md and /mnt/c/shared-dir/CS/discrete_math/relations/relations.md differ': None,\n",
       " 'Files /mnt/c/shared-dir/discrete_math/relations/relations.py and /mnt/c/shared-dir/CS/discrete_math/relations/relations.py differ': None}"
      ]
     },
     "execution_count": 25,
     "metadata": {},
     "output_type": "execute_result"
    }
   ],
   "source": [
    "other"
   ]
  },
  {
   "cell_type": "code",
   "execution_count": null,
   "metadata": {},
   "outputs": [],
   "source": []
  }
 ],
 "metadata": {
  "kernelspec": {
   "display_name": "Python 3",
   "language": "python",
   "name": "python3"
  },
  "language_info": {
   "codemirror_mode": {
    "name": "ipython",
    "version": 3
   },
   "file_extension": ".py",
   "mimetype": "text/x-python",
   "name": "python",
   "nbconvert_exporter": "python",
   "pygments_lexer": "ipython3",
   "version": "3.8.6"
  }
 },
 "nbformat": 4,
 "nbformat_minor": 4
}
