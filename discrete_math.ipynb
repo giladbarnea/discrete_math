{
 "cells": [
  {
   "cell_type": "code",
   "execution_count": 1,
   "metadata": {},
   "outputs": [
    {
     "name": "stdout",
     "output_type": "stream",
     "text": [
      "combinatorics/__init__.py\n",
      "combinatorics/comb.py\n"
     ]
    }
   ],
   "source": [
    "import combinatorics as comb"
   ]
  },
  {
   "cell_type": "code",
   "execution_count": 2,
   "metadata": {},
   "outputs": [
    {
     "name": "stdout",
     "output_type": "stream",
     "text": [
      "C(\u001b[1m5\u001b[0m,\u001b[1m3\u001b[0m) \u001b[97mvI\u001b[0m\n",
      "\t\u001b[1m10\u001b[0m ways to select \u001b[1m3\u001b[0m different letters from \u001b[1m5\u001b[0m letters\n",
      "\tset {\u001b[1m1\u001b[0m, \u001b[1m2\u001b[0m, \u001b[1m3\u001b[0m, \u001b[1m4\u001b[0m, \u001b[1m5\u001b[0m} has \u001b[1m10\u001b[0m subsets whose size=\u001b[1m3\u001b[0m\n",
      "\t• Order doesn't matter, so 'ABC' and 'BCA' count as one thing\n",
      "\t• No repetitions allowed\n"
     ]
    },
    {
     "data": {
      "text/plain": [
       "10"
      ]
     },
     "execution_count": 2,
     "metadata": {},
     "output_type": "execute_result"
    }
   ],
   "source": [
    "comb.C(5,3)"
   ]
  },
  {
   "cell_type": "code",
   "execution_count": 6,
   "metadata": {},
   "outputs": [
    {
     "name": "stdout",
     "output_type": "stream",
     "text": [
      "D(\u001b[1m2\u001b[0m,\u001b[1m3\u001b[0m) \u001b[97mvI\u001b[0m\n",
      "\t\u001b[1m4\u001b[0m ways to place \u001b[1m3\u001b[0m identical balls in \u001b[1m2\u001b[0m partitions\n",
      "\t\u001b[1m4\u001b[0m ways to choose \u001b[1m3\u001b[0m from 'AB' with repetition\n",
      "\t\u001b[1m4\u001b[0m possible solutions to a+b=\u001b[1m3\u001b[0m\n",
      "\t• With repetitions\n",
      "\t• Order doesn't matter, so '○○○' and '○○○' count as one thing\n",
      "D(\u001b[1m2\u001b[0m,\u001b[1m3\u001b[0m) \u001b[97mvIa\u001b[0m  = C(\u001b[1m4\u001b[0m,\u001b[1m3\u001b[0m) \u001b[97mvI\u001b[0m  = P(\u001b[1m4\u001b[0m,\u001b[1m3\u001b[0m)/P(\u001b[1m3\u001b[0m) = (\u001b[1m4\u001b[0m·\u001b[1m3\u001b[0m·\u001b[1m2\u001b[0m)/(\u001b[1m3\u001b[0m·\u001b[1m2\u001b[0m·\u001b[1m1\u001b[0m) = \u001b[1m24\u001b[0m/\u001b[1m6\u001b[0m = \u001b[1m4\u001b[0m\n",
      "D(\u001b[1m2\u001b[0m,\u001b[1m3\u001b[0m) \u001b[97mvIb\u001b[0m  = C(\u001b[1m4\u001b[0m,\u001b[1m1\u001b[0m) \u001b[97mvII\u001b[0m = P(\u001b[1m4\u001b[0m,\u001b[1m1\u001b[0m)/P(\u001b[1m1\u001b[0m) = (\u001b[1m4\u001b[0m)/(\u001b[1m1\u001b[0m) = \u001b[1m4\u001b[0m/\u001b[1m1\u001b[0m = \u001b[1m4\u001b[0m\n",
      "\n",
      "C(\u001b[1m4\u001b[0m,\u001b[1m3\u001b[0m) \u001b[97mvI\u001b[0m\n",
      "\t\u001b[1m4\u001b[0m ways to select \u001b[1m3\u001b[0m different letters from \u001b[1m4\u001b[0m letters\n",
      "\tset {\u001b[1m1\u001b[0m, \u001b[1m2\u001b[0m, \u001b[1m3\u001b[0m, \u001b[1m4\u001b[0m} has \u001b[1m4\u001b[0m subsets whose size=\u001b[1m3\u001b[0m\n",
      "\t• Order doesn't matter, so 'ABC' and 'BCA' count as one thing\n",
      "\t• No repetitions allowed\n",
      "\n",
      "D(\u001b[1m4\u001b[0m,\u001b[1m1\u001b[0m) \u001b[97mvII\u001b[0m\n",
      "\t\u001b[1m4\u001b[0m ways to place \u001b[1m1\u001b[0m balls in \u001b[1m4\u001b[0m partitions\n",
      "\t\u001b[1m4\u001b[0m ways to choose \u001b[1m1\u001b[0m from 'ABCD' with repetition\n",
      "\t\u001b[1m4\u001b[0m possible solutions to a+b+c+d=\u001b[1m1\u001b[0m\n",
      "D(\u001b[1m4\u001b[0m,\u001b[1m1\u001b[0m) \u001b[97mvIIa\u001b[0m = C(\u001b[1m4\u001b[0m,\u001b[1m1\u001b[0m) \u001b[97mvI\u001b[0m  = P(\u001b[1m4\u001b[0m,\u001b[1m1\u001b[0m)/P(\u001b[1m1\u001b[0m) = (\u001b[1m4\u001b[0m)/(\u001b[1m1\u001b[0m) = \u001b[1m4\u001b[0m/\u001b[1m1\u001b[0m\n",
      "D(\u001b[1m4\u001b[0m,\u001b[1m1\u001b[0m) \u001b[97mvIIb\u001b[0m = C(\u001b[1m4\u001b[0m,\u001b[1m3\u001b[0m) \u001b[97mvII\u001b[0m = P(\u001b[1m4\u001b[0m,\u001b[1m3\u001b[0m)/P(\u001b[1m3\u001b[0m) = (\u001b[1m4\u001b[0m·\u001b[1m3\u001b[0m·\u001b[1m2\u001b[0m)/(\u001b[1m3\u001b[0m·\u001b[1m2\u001b[0m·\u001b[1m1\u001b[0m) = \u001b[1m24\u001b[0m/\u001b[1m6\u001b[0m\n",
      "\n",
      "C(\u001b[1m4\u001b[0m,\u001b[1m1\u001b[0m) \u001b[97mvI\u001b[0m\n",
      "\t\u001b[1m4\u001b[0m ways to select \u001b[1m1\u001b[0m different letters from \u001b[1m4\u001b[0m letters\n",
      "\tset {\u001b[1m1\u001b[0m, \u001b[1m2\u001b[0m, \u001b[1m3\u001b[0m, \u001b[1m4\u001b[0m} has \u001b[1m4\u001b[0m subsets whose size=\u001b[1m1\u001b[0m\n",
      "\t• Order doesn't matter, so 'A' and 'A' count as one thing\n",
      "\t• No repetitions allowed\n"
     ]
    }
   ],
   "source": [
    "comb.C2D(4,3)"
   ]
  },
  {
   "cell_type": "code",
   "execution_count": 5,
   "metadata": {},
   "outputs": [
    {
     "name": "stdout",
     "output_type": "stream",
     "text": [
      "i1=0\n",
      "i1=1\n",
      "\ti2=0\n",
      "i1=2\n",
      "\ti2=0\n",
      "\ti2=1\n",
      "\t\ti3=0, k:0→1\n",
      "i1=3\n",
      "\ti2=0\n",
      "\ti2=1\n",
      "\t\ti3=0, k:1→2\n",
      "\ti2=2\n",
      "\t\ti3=0, k:2→3\n",
      "\t\ti3=1, k:3→4\n",
      "4\n"
     ]
    }
   ],
   "source": [
    "k=0\n",
    "n=4\n",
    "for i1 in range(n):\n",
    "    print(f'{i1=}')\n",
    "    for i2 in range(i1):\n",
    "        print(f'\\t{i2=}')\n",
    "        for i3 in range(i2):\n",
    "            k=k+1\n",
    "            print(f'\\t\\t{i3=}, k:{k-1}→{k}')\n",
    "print(k)"
   ]
  },
  {
   "cell_type": "code",
   "execution_count": null,
   "metadata": {},
   "outputs": [],
   "source": []
  }
 ],
 "metadata": {
  "kernelspec": {
   "display_name": "Python 3",
   "language": "python",
   "name": "python3"
  },
  "language_info": {
   "codemirror_mode": {
    "name": "ipython",
    "version": 3
   },
   "file_extension": ".py",
   "mimetype": "text/x-python",
   "name": "python",
   "nbconvert_exporter": "python",
   "pygments_lexer": "ipython3",
   "version": "3.8.5"
  },
  "varInspector": {
   "cols": {
    "lenName": 16,
    "lenType": 16,
    "lenVar": 40
   },
   "kernels_config": {
    "python": {
     "delete_cmd_postfix": "",
     "delete_cmd_prefix": "del ",
     "library": "var_list.py",
     "varRefreshCmd": "print(var_dic_list())"
    },
    "r": {
     "delete_cmd_postfix": ") ",
     "delete_cmd_prefix": "rm(",
     "library": "var_list.r",
     "varRefreshCmd": "cat(var_dic_list()) "
    }
   },
   "position": {
    "height": "248.4px",
    "left": "1179px",
    "right": "20px",
    "top": "121px",
    "width": "337px"
   },
   "types_to_exclude": [
    "module",
    "function",
    "builtin_function_or_method",
    "instance",
    "_Feature"
   ],
   "window_display": true
  }
 },
 "nbformat": 4,
 "nbformat_minor": 4
}
