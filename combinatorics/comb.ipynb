{
 "cells": [
  {
   "cell_type": "code",
   "execution_count": 1,
   "metadata": {},
   "outputs": [
    {
     "name": "stdout",
     "output_type": "stream",
     "text": [
      "combinatorics/comb.py\n"
     ]
    }
   ],
   "source": [
    "from itertools import permutations, product, combinations_with_replacement as comb_w_rep\n",
    "from comb import *"
   ]
  },
  {
   "cell_type": "code",
   "execution_count": 2,
   "metadata": {},
   "outputs": [
    {
     "name": "stdout",
     "output_type": "stream",
     "text": [
      "P(\u001b[1m4\u001b[0m,\u001b[1m2\u001b[0m) = \u001b[1m12\u001b[0m ways to organize \u001b[1m2\u001b[0m letters from a collection of \u001b[1m4\u001b[0m letters\n",
      "\tOrder matters, so 'BA' and 'AB' are both counted.\n",
      "\tNo repetitions allowed\n",
      "P(\u001b[1m4\u001b[0m,\u001b[1m2\u001b[0m) from ABCD:\n",
      "\u001b[1m1\u001b[0m:\tAB\n",
      "\u001b[1m2\u001b[0m:\tAC\n",
      "\u001b[1m3\u001b[0m:\tAD\n",
      "\u001b[1m4\u001b[0m:\tBA\n",
      "\u001b[1m5\u001b[0m:\tBC\n",
      "\u001b[1m6\u001b[0m:\tBD\n",
      "\u001b[1m7\u001b[0m:\tCA\n",
      "\u001b[1m8\u001b[0m:\tCB\n",
      "\u001b[1m9\u001b[0m:\tCD\n",
      "\u001b[1m10\u001b[0m:\tDA\n",
      "\u001b[1m11\u001b[0m:\tDB\n",
      "\u001b[1m12\u001b[0m:\tDC\n"
     ]
    },
    {
     "data": {
      "text/plain": [
       "12"
      ]
     },
     "execution_count": 2,
     "metadata": {},
     "output_type": "execute_result"
    }
   ],
   "source": [
    "P(4,2,example=True)"
   ]
  },
  {
   "cell_type": "code",
   "execution_count": 3,
   "metadata": {},
   "outputs": [
    {
     "data": {
      "text/plain": [
       "[('A', 'A', 'A'),\n",
       " ('A', 'A', 'B'),\n",
       " ('A', 'A', 'C'),\n",
       " ('A', 'A', 'D'),\n",
       " ('A', 'B', 'B'),\n",
       " ('A', 'B', 'C'),\n",
       " ('A', 'B', 'D'),\n",
       " ('A', 'C', 'C'),\n",
       " ('A', 'C', 'D'),\n",
       " ('A', 'D', 'D'),\n",
       " ('B', 'B', 'B'),\n",
       " ('B', 'B', 'C'),\n",
       " ('B', 'B', 'D'),\n",
       " ('B', 'C', 'C'),\n",
       " ('B', 'C', 'D'),\n",
       " ('B', 'D', 'D'),\n",
       " ('C', 'C', 'C'),\n",
       " ('C', 'C', 'D'),\n",
       " ('C', 'D', 'D'),\n",
       " ('D', 'D', 'D')]"
      ]
     },
     "execution_count": 3,
     "metadata": {},
     "output_type": "execute_result"
    }
   ],
   "source": [
    "list(comb_w_rep(\"ABCD\", 3))"
   ]
  },
  {
   "cell_type": "code",
   "execution_count": 4,
   "metadata": {},
   "outputs": [
    {
     "data": {
      "text/plain": [
       "{('A', 'A', 'A'),\n",
       " ('A', 'A', 'B'),\n",
       " ('A', 'A', 'C'),\n",
       " ('A', 'A', 'D'),\n",
       " ('A', 'B', 'B'),\n",
       " ('A', 'B', 'C'),\n",
       " ('A', 'B', 'D'),\n",
       " ('A', 'C', 'B'),\n",
       " ('A', 'C', 'C'),\n",
       " ('A', 'C', 'D'),\n",
       " ('A', 'D', 'B'),\n",
       " ('A', 'D', 'C'),\n",
       " ('A', 'D', 'D'),\n",
       " ('B', 'A', 'C'),\n",
       " ('B', 'A', 'D'),\n",
       " ('B', 'B', 'B'),\n",
       " ('B', 'B', 'C'),\n",
       " ('B', 'B', 'D'),\n",
       " ('B', 'C', 'A'),\n",
       " ('B', 'C', 'C'),\n",
       " ('B', 'C', 'D'),\n",
       " ('B', 'D', 'A'),\n",
       " ('B', 'D', 'C'),\n",
       " ('B', 'D', 'D'),\n",
       " ('C', 'A', 'B'),\n",
       " ('C', 'A', 'D'),\n",
       " ('C', 'B', 'A'),\n",
       " ('C', 'B', 'D'),\n",
       " ('C', 'C', 'C'),\n",
       " ('C', 'C', 'D'),\n",
       " ('C', 'D', 'A'),\n",
       " ('C', 'D', 'B'),\n",
       " ('C', 'D', 'D'),\n",
       " ('D', 'A', 'B'),\n",
       " ('D', 'A', 'C'),\n",
       " ('D', 'B', 'A'),\n",
       " ('D', 'B', 'C'),\n",
       " ('D', 'C', 'A'),\n",
       " ('D', 'C', 'B'),\n",
       " ('D', 'D', 'D')}"
      ]
     },
     "execution_count": 4,
     "metadata": {},
     "output_type": "execute_result"
    }
   ],
   "source": [
    "set(permutations(\"ABCD\",3)).union(set(comb_w_rep(\"ABCD\", 3)))"
   ]
  },
  {
   "cell_type": "code",
   "execution_count": 5,
   "metadata": {},
   "outputs": [
    {
     "data": {
      "text/plain": [
       "[('A', 'A'),\n",
       " ('A', 'B'),\n",
       " ('A', 'C'),\n",
       " ('A', 'D'),\n",
       " ('B', 'A'),\n",
       " ('B', 'B'),\n",
       " ('B', 'C'),\n",
       " ('B', 'D'),\n",
       " ('C', 'A'),\n",
       " ('C', 'B'),\n",
       " ('C', 'C'),\n",
       " ('C', 'D'),\n",
       " ('D', 'A'),\n",
       " ('D', 'B'),\n",
       " ('D', 'C'),\n",
       " ('D', 'D')]"
      ]
     },
     "execution_count": 5,
     "metadata": {},
     "output_type": "execute_result"
    }
   ],
   "source": [
    "list(product(\"ABCD\", \"ABCD\"))"
   ]
  },
  {
   "cell_type": "code",
   "execution_count": 6,
   "metadata": {},
   "outputs": [
    {
     "name": "stdout",
     "output_type": "stream",
     "text": [
      "\n",
      "\u001b[1mnk Examples\u001b[0m\n",
      "\u001b[1m4\u001b[0m^\u001b[1m3\u001b[0m from ABCD:\n",
      "\u001b[1m1\u001b[0m:\tAAA\n",
      "\u001b[1m2\u001b[0m:\tAAB\n",
      "\u001b[1m3\u001b[0m:\tAAC\n",
      "\u001b[1m4\u001b[0m:\tAAD\n",
      "\u001b[1m5\u001b[0m:\tABB\n",
      "\u001b[1m6\u001b[0m:\tABC\n",
      "\u001b[1m7\u001b[0m:\tABD\n",
      "\u001b[1m8\u001b[0m:\tACB\n",
      "\u001b[1m9\u001b[0m:\tACC\n",
      "\u001b[1m10\u001b[0m:\tACD\n",
      "\u001b[1m11\u001b[0m:\tADB\n",
      "\u001b[1m12\u001b[0m:\tADC\n",
      "\u001b[1m13\u001b[0m:\tADD\n",
      "\u001b[1m14\u001b[0m:\tBAC\n",
      "\u001b[1m15\u001b[0m:\tBAD\n",
      "\u001b[1m16\u001b[0m:\tBBB\n",
      "\u001b[1m17\u001b[0m:\tBBC\n",
      "\u001b[1m18\u001b[0m:\tBBD\n",
      "\u001b[1m19\u001b[0m:\tBCA\n",
      "\u001b[1m20\u001b[0m:\tBCC\n",
      "\u001b[1m21\u001b[0m:\tBCD\n",
      "\u001b[1m22\u001b[0m:\tBDA\n",
      "\u001b[1m23\u001b[0m:\tBDC\n",
      "\u001b[1m24\u001b[0m:\tBDD\n",
      "\u001b[1m25\u001b[0m:\tCAB\n",
      "\u001b[1m26\u001b[0m:\tCAD\n",
      "\u001b[1m27\u001b[0m:\tCBA\n",
      "\u001b[1m28\u001b[0m:\tCBD\n",
      "\u001b[1m29\u001b[0m:\tCCC\n",
      "\u001b[1m30\u001b[0m:\tCCD\n",
      "\u001b[1m31\u001b[0m:\tCDA\n",
      "\u001b[1m32\u001b[0m:\tCDB\n",
      "\u001b[1m33\u001b[0m:\tCDD\n",
      "\u001b[1m34\u001b[0m:\tDAB\n",
      "\u001b[1m35\u001b[0m:\tDAC\n",
      "\u001b[1m36\u001b[0m:\tDBA\n",
      "\u001b[1m37\u001b[0m:\tDBC\n",
      "\u001b[1m38\u001b[0m:\tDCA\n",
      "\u001b[1m39\u001b[0m:\tDCB\n",
      "\u001b[1m40\u001b[0m:\tDDD\n",
      "\n"
     ]
    },
    {
     "data": {
      "text/plain": [
       "64"
      ]
     },
     "execution_count": 6,
     "metadata": {},
     "output_type": "execute_result"
    }
   ],
   "source": [
    "nk(4,3, example=True)"
   ]
  },
  {
   "cell_type": "code",
   "execution_count": 7,
   "metadata": {},
   "outputs": [],
   "source": []
  },
  {
   "cell_type": "code",
   "execution_count": 8,
   "metadata": {},
   "outputs": [],
   "source": []
  },
  {
   "cell_type": "code",
   "execution_count": 9,
   "metadata": {},
   "outputs": [],
   "source": []
  },
  {
   "cell_type": "code",
   "execution_count": 10,
   "metadata": {},
   "outputs": [
    {
     "name": "stdout",
     "output_type": "stream",
     "text": [
      "D(\u001b[1m3\u001b[0m,\u001b[1m5\u001b[0m) \u001b[97mvI\u001b[0m\n",
      "\t\u001b[1m21\u001b[0m ways to place \u001b[1m5\u001b[0m identical balls in \u001b[1m3\u001b[0m partitions\n",
      "\t\u001b[1m21\u001b[0m ways to choose \u001b[1m5\u001b[0m from 'ABC' with repetition\n",
      "\t\u001b[1m21\u001b[0m possible solutions to a+b+c=\u001b[1m5\u001b[0m\n",
      "\t• With repetitions\n",
      "\t• Order doesn't matter, so '○○○○○' and '○○○○○' count as one thing\n",
      "D(\u001b[1m3\u001b[0m,\u001b[1m5\u001b[0m) \u001b[97mvIa\u001b[0m  = C(\u001b[1m7\u001b[0m,\u001b[1m5\u001b[0m) \u001b[97mvI\u001b[0m  = P(\u001b[1m7\u001b[0m,\u001b[1m5\u001b[0m)/P(\u001b[1m5\u001b[0m) = (\u001b[1m7\u001b[0m·\u001b[1m6\u001b[0m·\u001b[1m5\u001b[0m·\u001b[1m4\u001b[0m·\u001b[1m3\u001b[0m)/(\u001b[1m5\u001b[0m·\u001b[1m4\u001b[0m·\u001b[1m3\u001b[0m·\u001b[1m2\u001b[0m·\u001b[1m1\u001b[0m) = \u001b[1m2520\u001b[0m/\u001b[1m120\u001b[0m = \u001b[1m21\u001b[0m\n",
      "D(\u001b[1m3\u001b[0m,\u001b[1m5\u001b[0m) \u001b[97mvIb\u001b[0m  = C(\u001b[1m7\u001b[0m,\u001b[1m2\u001b[0m) \u001b[97mvII\u001b[0m = P(\u001b[1m7\u001b[0m,\u001b[1m2\u001b[0m)/P(\u001b[1m2\u001b[0m) = (\u001b[1m7\u001b[0m·\u001b[1m6\u001b[0m)/(\u001b[1m2\u001b[0m·\u001b[1m1\u001b[0m) = \u001b[1m42\u001b[0m/\u001b[1m2\u001b[0m = \u001b[1m21\u001b[0m\n",
      "C(\u001b[1m7\u001b[0m,\u001b[1m5\u001b[0m) \u001b[97mvI\u001b[0m  = \u001b[1m21\u001b[0m ways to select \u001b[1m5\u001b[0m different letters from \u001b[1m7\u001b[0m letters\n",
      "\tOrder doesn't matter, so 'ABCDE' and 'BCDEA' count as one thing\n",
      "\tNo repetitions allowed\n",
      "\n",
      "\u001b[1mC Examples\u001b[0m\n",
      "C(\u001b[1m7\u001b[0m,\u001b[1m5\u001b[0m) from ABCDEFG:\n",
      "\u001b[1m1\u001b[0m:\tABCDE\n",
      "\u001b[1m2\u001b[0m:\tABCDF\n",
      "\u001b[1m3\u001b[0m:\tABCDG\n",
      "\u001b[1m4\u001b[0m:\tABCEF\n",
      "\u001b[1m5\u001b[0m:\tABCEG\n",
      "\u001b[1m6\u001b[0m:\tABCFG\n",
      "\u001b[1m7\u001b[0m:\tABDEF\n",
      "\u001b[1m8\u001b[0m:\tABDEG\n",
      "\u001b[1m9\u001b[0m:\tABDFG\n",
      "\u001b[1m10\u001b[0m:\tABEFG\n",
      "\u001b[1m11\u001b[0m:\tACDEF\n",
      "\u001b[1m12\u001b[0m:\tACDEG\n",
      "\u001b[1m13\u001b[0m:\tACDFG\n",
      "\u001b[1m14\u001b[0m:\tACEFG\n",
      "\u001b[1m15\u001b[0m:\tADEFG\n",
      "\u001b[1m16\u001b[0m:\tBCDEF\n",
      "\u001b[1m17\u001b[0m:\tBCDEG\n",
      "\u001b[1m18\u001b[0m:\tBCDFG\n",
      "\u001b[1m19\u001b[0m:\tBCEFG\n",
      "\u001b[1m20\u001b[0m:\tBDEFG\n",
      "\u001b[1m21\u001b[0m:\tCDEFG\n",
      "\n",
      "D(\u001b[1m6\u001b[0m,\u001b[1m2\u001b[0m) \u001b[97mvII\u001b[0m = \u001b[1m21\u001b[0m ways to place \u001b[1m2\u001b[0m balls in \u001b[1m6\u001b[0m partitions\n",
      "D(\u001b[1m6\u001b[0m,\u001b[1m2\u001b[0m) \u001b[97mvIIa\u001b[0m = C(\u001b[1m7\u001b[0m,\u001b[1m2\u001b[0m) \u001b[97mvI\u001b[0m  = P(\u001b[1m7\u001b[0m,\u001b[1m2\u001b[0m)/P(\u001b[1m2\u001b[0m) = (\u001b[1m7\u001b[0m·\u001b[1m6\u001b[0m)/(\u001b[1m2\u001b[0m·\u001b[1m1\u001b[0m) = \u001b[1m42\u001b[0m/\u001b[1m2\u001b[0m\n",
      "D(\u001b[1m6\u001b[0m,\u001b[1m2\u001b[0m) \u001b[97mvIIb\u001b[0m = C(\u001b[1m7\u001b[0m,\u001b[1m5\u001b[0m) \u001b[97mvII\u001b[0m = P(\u001b[1m7\u001b[0m,\u001b[1m5\u001b[0m)/P(\u001b[1m5\u001b[0m) = (\u001b[1m7\u001b[0m·\u001b[1m6\u001b[0m·\u001b[1m5\u001b[0m·\u001b[1m4\u001b[0m·\u001b[1m3\u001b[0m)/(\u001b[1m5\u001b[0m·\u001b[1m4\u001b[0m·\u001b[1m3\u001b[0m·\u001b[1m2\u001b[0m·\u001b[1m1\u001b[0m) = \u001b[1m2520\u001b[0m/\u001b[1m120\u001b[0m\n",
      "C(\u001b[1m7\u001b[0m,\u001b[1m2\u001b[0m) \u001b[97mvI\u001b[0m  = \u001b[1m21\u001b[0m ways to select \u001b[1m2\u001b[0m different letters from \u001b[1m7\u001b[0m letters\n",
      "\tOrder doesn't matter, so 'AB' and 'BA' count as one thing\n",
      "\tNo repetitions allowed\n",
      "\n",
      "\u001b[1mC Examples\u001b[0m\n",
      "C(\u001b[1m7\u001b[0m,\u001b[1m2\u001b[0m) from ABCDEFG:\n",
      "\u001b[1m1\u001b[0m:\tAB\n",
      "\u001b[1m2\u001b[0m:\tAC\n",
      "\u001b[1m3\u001b[0m:\tAD\n",
      "\u001b[1m4\u001b[0m:\tAE\n",
      "\u001b[1m5\u001b[0m:\tAF\n",
      "\u001b[1m6\u001b[0m:\tAG\n",
      "\u001b[1m7\u001b[0m:\tBC\n",
      "\u001b[1m8\u001b[0m:\tBD\n",
      "\u001b[1m9\u001b[0m:\tBE\n",
      "\u001b[1m10\u001b[0m:\tBF\n",
      "\u001b[1m11\u001b[0m:\tBG\n",
      "\u001b[1m12\u001b[0m:\tCD\n",
      "\u001b[1m13\u001b[0m:\tCE\n",
      "\u001b[1m14\u001b[0m:\tCF\n",
      "\u001b[1m15\u001b[0m:\tCG\n",
      "\u001b[1m16\u001b[0m:\tDE\n",
      "\u001b[1m17\u001b[0m:\tDF\n",
      "\u001b[1m18\u001b[0m:\tDG\n",
      "\u001b[1m19\u001b[0m:\tEF\n",
      "\u001b[1m20\u001b[0m:\tEG\n",
      "\u001b[1m21\u001b[0m:\tFG\n",
      "\n",
      "\n",
      "\u001b[1mD(3,5) Examples\u001b[0m\n",
      "\u001b[1m1\u001b[0m:\t○○○||○○\n",
      "\u001b[1m2\u001b[0m:\t|○|○○○○\n",
      "\u001b[1m3\u001b[0m:\t○|○○○|○\n",
      "\u001b[1m4\u001b[0m:\t○|○○|○○\n",
      "\u001b[1m5\u001b[0m:\t○||○○○○\n",
      "\u001b[1m6\u001b[0m:\t○○○○|○|\n",
      "\u001b[1m7\u001b[0m:\t○○|○○|○\n",
      "\u001b[1m8\u001b[0m:\t||○○○○○\n",
      "\u001b[1m9\u001b[0m:\t○○○○||○\n",
      "\u001b[1m10\u001b[0m:\t|○○○|○○\n",
      "\u001b[1m11\u001b[0m:\t○|○○○○|\n",
      "\u001b[1m12\u001b[0m:\t|○○|○○○\n",
      "\u001b[1m13\u001b[0m:\t|○○○○|○\n",
      "\u001b[1m14\u001b[0m:\t○○|○○○|\n",
      "\u001b[1m15\u001b[0m:\t|○○○○○|\n",
      "\u001b[1m16\u001b[0m:\t○○○|○○|\n",
      "\u001b[1m17\u001b[0m:\t○○○○○||\n",
      "\u001b[1m18\u001b[0m:\t○○|○|○○\n",
      "\u001b[1m19\u001b[0m:\t○○||○○○\n",
      "\u001b[1m20\u001b[0m:\t○○○|○|○\n",
      "\u001b[1m21\u001b[0m:\t○|○|○○○\n",
      "\n",
      "\u001b[1mD(6,2) Examples\u001b[0m\n",
      "\u001b[1m1\u001b[0m:\t||○||○|\n",
      "\u001b[1m2\u001b[0m:\t|○|||○|\n",
      "\u001b[1m3\u001b[0m:\t|○|○|||\n",
      "\u001b[1m4\u001b[0m:\t○|○||||\n",
      "\u001b[1m5\u001b[0m:\t○|||||○\n",
      "\u001b[1m6\u001b[0m:\t○||||○|\n",
      "\u001b[1m7\u001b[0m:\t||○|○||\n",
      "\u001b[1m8\u001b[0m:\t|○○||||\n",
      "\u001b[1m9\u001b[0m:\t||○○|||\n",
      "\u001b[1m10\u001b[0m:\t|||○○||\n",
      "\u001b[1m11\u001b[0m:\t|○||○||\n",
      "\u001b[1m12\u001b[0m:\t○|||○||\n",
      "\u001b[1m13\u001b[0m:\t|||||○○\n",
      "\u001b[1m14\u001b[0m:\t|||○||○\n",
      "\u001b[1m15\u001b[0m:\t|||○|○|\n",
      "\u001b[1m16\u001b[0m:\t○||○|||\n",
      "\u001b[1m17\u001b[0m:\t||||○|○\n",
      "\u001b[1m18\u001b[0m:\t||○|||○\n",
      "\u001b[1m19\u001b[0m:\t○○|||||\n",
      "\u001b[1m20\u001b[0m:\t|○||||○\n",
      "\u001b[1m21\u001b[0m:\t||||○○|\n",
      "\n"
     ]
    },
    {
     "data": {
      "text/plain": [
       "21"
      ]
     },
     "execution_count": 10,
     "metadata": {},
     "output_type": "execute_result"
    }
   ],
   "source": [
    "D(3, 5, explain=True, example=True, identities=True)"
   ]
  },
  {
   "cell_type": "code",
   "execution_count": null,
   "metadata": {},
   "outputs": [],
   "source": []
  },
  {
   "cell_type": "code",
   "execution_count": 55,
   "metadata": {},
   "outputs": [
    {
     "name": "stdout",
     "output_type": "stream",
     "text": [
      "P(\u001b[1m5\u001b[0m,\u001b[1m3\u001b[0m) \u001b[97mvIII\u001b[0m = P(k)\u001b[97mI\u001b[0m · C(n,k) = k!C(n,k)\n"
     ]
    }
   ],
   "source": [
    "print(P_id(5, 3, 'III'))"
   ]
  },
  {
   "cell_type": "code",
   "execution_count": 56,
   "metadata": {},
   "outputs": [
    {
     "name": "stdout",
     "output_type": "stream",
     "text": [
      "P(\u001b[1m1\u001b[0m,\u001b[1m1\u001b[0m): \u001b[1m1\u001b[0m\n",
      "\n",
      "P(\u001b[1m2\u001b[0m,\u001b[1m1\u001b[0m): \u001b[1m2\u001b[0m\n",
      "P(\u001b[1m2\u001b[0m,\u001b[1m2\u001b[0m): \u001b[1m2\u001b[0m\n",
      "\n",
      "P(\u001b[1m3\u001b[0m,\u001b[1m1\u001b[0m): \u001b[1m3\u001b[0m\n",
      "P(\u001b[1m3\u001b[0m,\u001b[1m2\u001b[0m): \u001b[1m6\u001b[0m\n",
      "P(\u001b[1m3\u001b[0m,\u001b[1m3\u001b[0m): \u001b[1m6\u001b[0m\n",
      "\n",
      "P(\u001b[1m4\u001b[0m,\u001b[1m1\u001b[0m): \u001b[1m4\u001b[0m\n",
      "P(\u001b[1m4\u001b[0m,\u001b[1m2\u001b[0m): \u001b[1m12\u001b[0m\n",
      "P(\u001b[1m4\u001b[0m,\u001b[1m3\u001b[0m): \u001b[1m24\u001b[0m\n",
      "P(\u001b[1m4\u001b[0m,\u001b[1m4\u001b[0m): \u001b[1m24\u001b[0m\n",
      "\n",
      "P(\u001b[1m5\u001b[0m,\u001b[1m1\u001b[0m): \u001b[1m5\u001b[0m\n",
      "P(\u001b[1m5\u001b[0m,\u001b[1m2\u001b[0m): \u001b[1m20\u001b[0m\n",
      "P(\u001b[1m5\u001b[0m,\u001b[1m3\u001b[0m): \u001b[1m60\u001b[0m\n",
      "P(\u001b[1m5\u001b[0m,\u001b[1m4\u001b[0m): \u001b[1m120\u001b[0m\n",
      "P(\u001b[1m5\u001b[0m,\u001b[1m5\u001b[0m): \u001b[1m120\u001b[0m\n",
      "\n",
      "P(\u001b[1m6\u001b[0m,\u001b[1m1\u001b[0m): \u001b[1m6\u001b[0m\n",
      "P(\u001b[1m6\u001b[0m,\u001b[1m2\u001b[0m): \u001b[1m30\u001b[0m\n",
      "P(\u001b[1m6\u001b[0m,\u001b[1m3\u001b[0m): \u001b[1m120\u001b[0m\n",
      "P(\u001b[1m6\u001b[0m,\u001b[1m4\u001b[0m): \u001b[1m360\u001b[0m\n",
      "P(\u001b[1m6\u001b[0m,\u001b[1m5\u001b[0m): \u001b[1m720\u001b[0m\n",
      "P(\u001b[1m6\u001b[0m,\u001b[1m6\u001b[0m): \u001b[1m720\u001b[0m\n",
      "\n",
      "P(\u001b[1m7\u001b[0m,\u001b[1m1\u001b[0m): \u001b[1m7\u001b[0m\n",
      "P(\u001b[1m7\u001b[0m,\u001b[1m2\u001b[0m): \u001b[1m42\u001b[0m\n",
      "P(\u001b[1m7\u001b[0m,\u001b[1m3\u001b[0m): \u001b[1m210\u001b[0m\n",
      "P(\u001b[1m7\u001b[0m,\u001b[1m4\u001b[0m): \u001b[1m840\u001b[0m\n",
      "P(\u001b[1m7\u001b[0m,\u001b[1m5\u001b[0m): \u001b[1m2520\u001b[0m\n",
      "P(\u001b[1m7\u001b[0m,\u001b[1m6\u001b[0m): \u001b[1m5040\u001b[0m\n",
      "P(\u001b[1m7\u001b[0m,\u001b[1m7\u001b[0m): \u001b[1m5040\u001b[0m\n",
      "\n",
      "P(\u001b[1m8\u001b[0m,\u001b[1m1\u001b[0m): \u001b[1m8\u001b[0m\n",
      "P(\u001b[1m8\u001b[0m,\u001b[1m2\u001b[0m): \u001b[1m56\u001b[0m\n",
      "P(\u001b[1m8\u001b[0m,\u001b[1m3\u001b[0m): \u001b[1m336\u001b[0m\n",
      "P(\u001b[1m8\u001b[0m,\u001b[1m4\u001b[0m): \u001b[1m1680\u001b[0m\n",
      "P(\u001b[1m8\u001b[0m,\u001b[1m5\u001b[0m): \u001b[1m6720\u001b[0m\n",
      "P(\u001b[1m8\u001b[0m,\u001b[1m6\u001b[0m): \u001b[1m20160\u001b[0m\n",
      "P(\u001b[1m8\u001b[0m,\u001b[1m7\u001b[0m): \u001b[1m40320\u001b[0m\n",
      "P(\u001b[1m8\u001b[0m,\u001b[1m8\u001b[0m): \u001b[1m40320\u001b[0m\n",
      "\n",
      "P(\u001b[1m9\u001b[0m,\u001b[1m1\u001b[0m): \u001b[1m9\u001b[0m\n",
      "P(\u001b[1m9\u001b[0m,\u001b[1m2\u001b[0m): \u001b[1m72\u001b[0m\n",
      "P(\u001b[1m9\u001b[0m,\u001b[1m3\u001b[0m): \u001b[1m504\u001b[0m\n",
      "P(\u001b[1m9\u001b[0m,\u001b[1m4\u001b[0m): \u001b[1m3024\u001b[0m\n",
      "P(\u001b[1m9\u001b[0m,\u001b[1m5\u001b[0m): \u001b[1m15120\u001b[0m\n",
      "P(\u001b[1m9\u001b[0m,\u001b[1m6\u001b[0m): \u001b[1m60480\u001b[0m\n",
      "P(\u001b[1m9\u001b[0m,\u001b[1m7\u001b[0m): \u001b[1m181440\u001b[0m\n",
      "P(\u001b[1m9\u001b[0m,\u001b[1m8\u001b[0m): \u001b[1m362880\u001b[0m\n",
      "P(\u001b[1m9\u001b[0m,\u001b[1m9\u001b[0m): \u001b[1m362880\u001b[0m\n",
      "\n",
      "P(\u001b[1m10\u001b[0m,\u001b[1m1\u001b[0m): \u001b[1m10\u001b[0m\n",
      "P(\u001b[1m10\u001b[0m,\u001b[1m2\u001b[0m): \u001b[1m90\u001b[0m\n",
      "P(\u001b[1m10\u001b[0m,\u001b[1m3\u001b[0m): \u001b[1m720\u001b[0m\n",
      "P(\u001b[1m10\u001b[0m,\u001b[1m4\u001b[0m): \u001b[1m5040\u001b[0m\n",
      "P(\u001b[1m10\u001b[0m,\u001b[1m5\u001b[0m): \u001b[1m30240\u001b[0m\n",
      "P(\u001b[1m10\u001b[0m,\u001b[1m6\u001b[0m): \u001b[1m151200\u001b[0m\n",
      "P(\u001b[1m10\u001b[0m,\u001b[1m7\u001b[0m): \u001b[1m604800\u001b[0m\n",
      "P(\u001b[1m10\u001b[0m,\u001b[1m8\u001b[0m): \u001b[1m1814400\u001b[0m\n",
      "P(\u001b[1m10\u001b[0m,\u001b[1m9\u001b[0m): \u001b[1m3628800\u001b[0m\n",
      "P(\u001b[1m10\u001b[0m,\u001b[1m10\u001b[0m): \u001b[1m3628800\u001b[0m\n",
      "\n"
     ]
    }
   ],
   "source": [
    "P_spam()"
   ]
  },
  {
   "cell_type": "code",
   "execution_count": 57,
   "metadata": {},
   "outputs": [
    {
     "name": "stdout",
     "output_type": "stream",
     "text": [
      "C(\u001b[1m1\u001b[0m,\u001b[1m1\u001b[0m): \u001b[1m1\u001b[0m\n",
      "\n",
      "C(\u001b[1m2\u001b[0m,\u001b[1m1\u001b[0m): \u001b[1m2\u001b[0m\n",
      "C(\u001b[1m2\u001b[0m,\u001b[1m2\u001b[0m): \u001b[1m1\u001b[0m\n",
      "\n",
      "C(\u001b[1m3\u001b[0m,\u001b[1m1\u001b[0m): \u001b[1m3\u001b[0m\n",
      "C(\u001b[1m3\u001b[0m,\u001b[1m2\u001b[0m): \u001b[1m3\u001b[0m\n",
      "C(\u001b[1m3\u001b[0m,\u001b[1m3\u001b[0m): \u001b[1m1\u001b[0m\n",
      "\n",
      "C(\u001b[1m4\u001b[0m,\u001b[1m1\u001b[0m): \u001b[1m4\u001b[0m\n",
      "C(\u001b[1m4\u001b[0m,\u001b[1m2\u001b[0m): \u001b[1m6\u001b[0m\n",
      "C(\u001b[1m4\u001b[0m,\u001b[1m3\u001b[0m): \u001b[1m4\u001b[0m\n",
      "C(\u001b[1m4\u001b[0m,\u001b[1m4\u001b[0m): \u001b[1m1\u001b[0m\n",
      "\n",
      "C(\u001b[1m5\u001b[0m,\u001b[1m1\u001b[0m): \u001b[1m5\u001b[0m\n",
      "C(\u001b[1m5\u001b[0m,\u001b[1m2\u001b[0m): \u001b[1m10\u001b[0m\n",
      "C(\u001b[1m5\u001b[0m,\u001b[1m3\u001b[0m): \u001b[1m10\u001b[0m\n",
      "C(\u001b[1m5\u001b[0m,\u001b[1m4\u001b[0m): \u001b[1m5\u001b[0m\n",
      "C(\u001b[1m5\u001b[0m,\u001b[1m5\u001b[0m): \u001b[1m1\u001b[0m\n",
      "\n",
      "C(\u001b[1m6\u001b[0m,\u001b[1m1\u001b[0m): \u001b[1m6\u001b[0m\n",
      "C(\u001b[1m6\u001b[0m,\u001b[1m2\u001b[0m): \u001b[1m15\u001b[0m\n",
      "C(\u001b[1m6\u001b[0m,\u001b[1m3\u001b[0m): \u001b[1m20\u001b[0m\n",
      "C(\u001b[1m6\u001b[0m,\u001b[1m4\u001b[0m): \u001b[1m15\u001b[0m\n",
      "C(\u001b[1m6\u001b[0m,\u001b[1m5\u001b[0m): \u001b[1m6\u001b[0m\n",
      "C(\u001b[1m6\u001b[0m,\u001b[1m6\u001b[0m): \u001b[1m1\u001b[0m\n",
      "\n",
      "C(\u001b[1m7\u001b[0m,\u001b[1m1\u001b[0m): \u001b[1m7\u001b[0m\n",
      "C(\u001b[1m7\u001b[0m,\u001b[1m2\u001b[0m): \u001b[1m21\u001b[0m\n",
      "C(\u001b[1m7\u001b[0m,\u001b[1m3\u001b[0m): \u001b[1m35\u001b[0m\n",
      "C(\u001b[1m7\u001b[0m,\u001b[1m4\u001b[0m): \u001b[1m35\u001b[0m\n",
      "C(\u001b[1m7\u001b[0m,\u001b[1m5\u001b[0m): \u001b[1m21\u001b[0m\n",
      "C(\u001b[1m7\u001b[0m,\u001b[1m6\u001b[0m): \u001b[1m7\u001b[0m\n",
      "C(\u001b[1m7\u001b[0m,\u001b[1m7\u001b[0m): \u001b[1m1\u001b[0m\n",
      "\n",
      "C(\u001b[1m8\u001b[0m,\u001b[1m1\u001b[0m): \u001b[1m8\u001b[0m\n",
      "C(\u001b[1m8\u001b[0m,\u001b[1m2\u001b[0m): \u001b[1m28\u001b[0m\n",
      "C(\u001b[1m8\u001b[0m,\u001b[1m3\u001b[0m): \u001b[1m56\u001b[0m\n",
      "C(\u001b[1m8\u001b[0m,\u001b[1m4\u001b[0m): \u001b[1m70\u001b[0m\n",
      "C(\u001b[1m8\u001b[0m,\u001b[1m5\u001b[0m): \u001b[1m56\u001b[0m\n",
      "C(\u001b[1m8\u001b[0m,\u001b[1m6\u001b[0m): \u001b[1m28\u001b[0m\n",
      "C(\u001b[1m8\u001b[0m,\u001b[1m7\u001b[0m): \u001b[1m8\u001b[0m\n",
      "C(\u001b[1m8\u001b[0m,\u001b[1m8\u001b[0m): \u001b[1m1\u001b[0m\n",
      "\n",
      "C(\u001b[1m9\u001b[0m,\u001b[1m1\u001b[0m): \u001b[1m9\u001b[0m\n",
      "C(\u001b[1m9\u001b[0m,\u001b[1m2\u001b[0m): \u001b[1m36\u001b[0m\n",
      "C(\u001b[1m9\u001b[0m,\u001b[1m3\u001b[0m): \u001b[1m84\u001b[0m\n",
      "C(\u001b[1m9\u001b[0m,\u001b[1m4\u001b[0m): \u001b[1m126\u001b[0m\n",
      "C(\u001b[1m9\u001b[0m,\u001b[1m5\u001b[0m): \u001b[1m126\u001b[0m\n",
      "C(\u001b[1m9\u001b[0m,\u001b[1m6\u001b[0m): \u001b[1m84\u001b[0m\n",
      "C(\u001b[1m9\u001b[0m,\u001b[1m7\u001b[0m): \u001b[1m36\u001b[0m\n",
      "C(\u001b[1m9\u001b[0m,\u001b[1m8\u001b[0m): \u001b[1m9\u001b[0m\n",
      "C(\u001b[1m9\u001b[0m,\u001b[1m9\u001b[0m): \u001b[1m1\u001b[0m\n",
      "\n",
      "C(\u001b[1m10\u001b[0m,\u001b[1m1\u001b[0m): \u001b[1m10\u001b[0m\n",
      "C(\u001b[1m10\u001b[0m,\u001b[1m2\u001b[0m): \u001b[1m45\u001b[0m\n",
      "C(\u001b[1m10\u001b[0m,\u001b[1m3\u001b[0m): \u001b[1m120\u001b[0m\n",
      "C(\u001b[1m10\u001b[0m,\u001b[1m4\u001b[0m): \u001b[1m210\u001b[0m\n",
      "C(\u001b[1m10\u001b[0m,\u001b[1m5\u001b[0m): \u001b[1m252\u001b[0m\n",
      "C(\u001b[1m10\u001b[0m,\u001b[1m6\u001b[0m): \u001b[1m210\u001b[0m\n",
      "C(\u001b[1m10\u001b[0m,\u001b[1m7\u001b[0m): \u001b[1m120\u001b[0m\n",
      "C(\u001b[1m10\u001b[0m,\u001b[1m8\u001b[0m): \u001b[1m45\u001b[0m\n",
      "C(\u001b[1m10\u001b[0m,\u001b[1m9\u001b[0m): \u001b[1m10\u001b[0m\n",
      "C(\u001b[1m10\u001b[0m,\u001b[1m10\u001b[0m): \u001b[1m1\u001b[0m\n",
      "\n"
     ]
    }
   ],
   "source": [
    "C_spam()"
   ]
  },
  {
   "cell_type": "code",
   "execution_count": 58,
   "metadata": {},
   "outputs": [
    {
     "data": {
      "text/plain": [
       "[('A', 'B'),\n",
       " ('A', 'C'),\n",
       " ('A', 'D'),\n",
       " ('B', 'A'),\n",
       " ('B', 'C'),\n",
       " ('B', 'D'),\n",
       " ('C', 'A'),\n",
       " ('C', 'B'),\n",
       " ('C', 'D'),\n",
       " ('D', 'A'),\n",
       " ('D', 'B'),\n",
       " ('D', 'C')]"
      ]
     },
     "execution_count": 58,
     "metadata": {},
     "output_type": "execute_result"
    }
   ],
   "source": [
    "P(\"ABCD\",2)"
   ]
  },
  {
   "cell_type": "code",
   "execution_count": null,
   "metadata": {},
   "outputs": [],
   "source": []
  }
 ],
 "metadata": {
  "kernelspec": {
   "display_name": "Python 3",
   "language": "python",
   "name": "python3"
  },
  "language_info": {
   "codemirror_mode": {
    "name": "ipython",
    "version": 3
   },
   "file_extension": ".py",
   "mimetype": "text/x-python",
   "name": "python",
   "nbconvert_exporter": "python",
   "pygments_lexer": "ipython3",
   "version": "3.8.6"
  },
  "toc-showcode": true,
  "varInspector": {
   "cols": {
    "lenName": 16,
    "lenType": 16,
    "lenVar": 40
   },
   "kernels_config": {
    "python": {
     "delete_cmd_postfix": "",
     "delete_cmd_prefix": "del ",
     "library": "var_list.py",
     "varRefreshCmd": "print(var_dic_list())"
    },
    "r": {
     "delete_cmd_postfix": ") ",
     "delete_cmd_prefix": "rm(",
     "library": "var_list.r",
     "varRefreshCmd": "cat(var_dic_list()) "
    }
   },
   "types_to_exclude": [
    "module",
    "function",
    "builtin_function_or_method",
    "instance",
    "_Feature"
   ],
   "window_display": false
  }
 },
 "nbformat": 4,
 "nbformat_minor": 4
}
