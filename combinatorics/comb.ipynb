{
 "cells": [
  {
   "cell_type": "code",
   "execution_count": 1,
   "metadata": {
    "run_control": {
     "marked": false
    }
   },
   "outputs": [
    {
     "name": "stdout",
     "output_type": "stream",
     "text": [
      "combinatorics/comb.py\n"
     ]
    }
   ],
   "source": [
    "from itertools import permutations, product, combinations_with_replacement as comb_w_rep\n",
    "from comb import *"
   ]
  },
  {
   "cell_type": "code",
   "execution_count": null,
   "metadata": {
    "cell_style": "center",
    "jupyter": {
     "outputs_hidden": true
    },
    "run_control": {
     "marked": false
    }
   },
   "outputs": [],
   "source": [
    "P_spam()"
   ]
  },
  {
   "cell_type": "code",
   "execution_count": null,
   "metadata": {
    "jupyter": {
     "outputs_hidden": true
    }
   },
   "outputs": [],
   "source": [
    "D_spam(byres=True)"
   ]
  },
  {
   "cell_type": "code",
   "execution_count": null,
   "metadata": {
    "jupyter": {
     "outputs_hidden": true
    }
   },
   "outputs": [],
   "source": [
    "C_spam()"
   ]
  },
  {
   "cell_type": "code",
   "execution_count": null,
   "metadata": {},
   "outputs": [],
   "source": [
    "P(4,2,explain=True,identities=True, example=True)"
   ]
  },
  {
   "cell_type": "code",
   "execution_count": null,
   "metadata": {
    "code_folding": []
   },
   "outputs": [],
   "source": [
    "def S1(n,j):\n",
    "    \"\"\"\n",
    "    n distinguishable objects into j indistinguishable boxes,\n",
    "    so that no box is empty\n",
    "    \"\"\"\n",
    "    print(f'\\tS1({n=},{j=})')\n",
    "    scalar = 1/fac(j)\n",
    "    print(f'\\t\\t{scalar}∙∑')\n",
    "    res = 0\n",
    "    for i in range(j):\n",
    "        \n",
    "        sign = ((-1)**i)\n",
    "        Cji = C(j,i,example=False,explain=False,identities=False)\n",
    "        j_minus_i = j-i\n",
    "        tmp = sign * Cji * (j_minus_i**n)\n",
    "        print(f'\\t\\t\\t(-1)^{i}∙C(j,{i})∙(j-{i})^{n} = {sign}({Cji})∙({j_minus_i})^{n} = {tmp}')\n",
    "        res += tmp\n",
    "    rv = scalar * res\n",
    "    print(f'\\t\\t\\t= {rv}')\n",
    "    return rv\n",
    "\n",
    "\n",
    "S1(4,3)"
   ]
  },
  {
   "cell_type": "code",
   "execution_count": null,
   "metadata": {
    "code_folding": []
   },
   "outputs": [],
   "source": [
    "def S2(n,k):\n",
    "    \"\"\"\n",
    "    n distinguishable objects into k indistinguishable boxes\n",
    "    \"\"\"\n",
    "    res = 0\n",
    "    print(f'S2({n},{k})')\n",
    "    for j in range(1,k+1):\n",
    "        s = S1(n,j)\n",
    "        res+=s\n",
    "        print(f'\\t{j=}, {k=}, {s=}, {res=}')\n",
    "    print(f'\\t-> {res}')\n",
    "    return int(res)\n",
    "\n",
    "S2(2,3)"
   ]
  },
  {
   "cell_type": "code",
   "execution_count": null,
   "metadata": {
    "code_folding": []
   },
   "outputs": [],
   "source": [
    "def S_spam(*, byres=False):\n",
    "    results = defaultdict(list)\n",
    "    for n in range(1, 10):\n",
    "        for k in range(1, 10):\n",
    "            rv = S2(n,k)\n",
    "            if byres:\n",
    "                results[rv].append(f\"S({n},{k})\")\n",
    "            else:\n",
    "                print(f\"S({n},{k}): {rv}\")\n",
    "        \n",
    "    if byres:\n",
    "        for res, how in sorted(results.items()):\n",
    "            print(f\"{res}:\\t{', '.join(how)}\")"
   ]
  },
  {
   "cell_type": "code",
   "execution_count": null,
   "metadata": {},
   "outputs": [],
   "source": [
    "S_spam(byres=True)"
   ]
  },
  {
   "cell_type": "code",
   "execution_count": null,
   "metadata": {
    "cell_style": "center"
   },
   "outputs": [],
   "source": [
    "D(3,2, example=True)"
   ]
  },
  {
   "cell_type": "code",
   "execution_count": null,
   "metadata": {},
   "outputs": [],
   "source": [
    "C2D(3,2, example=False, explain=False, identities=False)"
   ]
  },
  {
   "cell_type": "code",
   "execution_count": null,
   "metadata": {},
   "outputs": [],
   "source": []
  }
 ],
 "metadata": {
  "hide_input": false,
  "kernelspec": {
   "display_name": "Python 3",
   "language": "python",
   "name": "python3"
  },
  "language_info": {
   "codemirror_mode": {
    "name": "ipython",
    "version": 3
   },
   "file_extension": ".py",
   "mimetype": "text/x-python",
   "name": "python",
   "nbconvert_exporter": "python",
   "pygments_lexer": "ipython3",
   "version": "3.8.6"
  },
  "toc-showcode": true,
  "varInspector": {
   "cols": {
    "lenName": 16,
    "lenType": 16,
    "lenVar": 40
   },
   "kernels_config": {
    "python": {
     "delete_cmd_postfix": "",
     "delete_cmd_prefix": "del ",
     "library": "var_list.py",
     "varRefreshCmd": "print(var_dic_list())"
    },
    "r": {
     "delete_cmd_postfix": ") ",
     "delete_cmd_prefix": "rm(",
     "library": "var_list.r",
     "varRefreshCmd": "cat(var_dic_list()) "
    }
   },
   "position": {
    "height": "138.4px",
    "left": "1177px",
    "right": "20px",
    "top": "120px",
    "width": "340px"
   },
   "types_to_exclude": [
    "module",
    "function",
    "builtin_function_or_method",
    "instance",
    "_Feature"
   ],
   "window_display": true
  }
 },
 "nbformat": 4,
 "nbformat_minor": 4
}
