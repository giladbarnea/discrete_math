{
 "cells": [
  {
   "cell_type": "code",
   "execution_count": 1,
   "metadata": {},
   "outputs": [
    {
     "name": "stdout",
     "output_type": "stream",
     "text": [
      "combinatorics/comb.py\n"
     ]
    }
   ],
   "source": [
    "from itertools import permutations, product, combinations_with_replacement as comb_w_rep\n",
    "from comb import *"
   ]
  },
  {
   "cell_type": "code",
   "execution_count": 15,
   "metadata": {},
   "outputs": [
    {
     "name": "stdout",
     "output_type": "stream",
     "text": [
      "P(\u001b[1m4\u001b[0m,\u001b[1m3\u001b[0m) = \u001b[1m24\u001b[0m ways to organize \u001b[1m3\u001b[0m letters from a collection of \u001b[1m4\u001b[0m letters\n",
      "\tOrder matters, so 'BA' and 'AB' are both counted.\n",
      "\tNo repetitions allowed\n",
      "P(\u001b[1m4\u001b[0m,\u001b[1m3\u001b[0m) from ABCD:\n",
      "\u001b[1m1\u001b[0m:\tABC\n",
      "\u001b[1m2\u001b[0m:\tABD\n",
      "\u001b[1m3\u001b[0m:\tACB\n",
      "\u001b[1m4\u001b[0m:\tACD\n",
      "\u001b[1m5\u001b[0m:\tADB\n",
      "\u001b[1m6\u001b[0m:\tADC\n",
      "\u001b[1m7\u001b[0m:\tBAC\n",
      "\u001b[1m8\u001b[0m:\tBAD\n",
      "\u001b[1m9\u001b[0m:\tBCA\n",
      "\u001b[1m10\u001b[0m:\tBCD\n",
      "\u001b[1m11\u001b[0m:\tBDA\n",
      "\u001b[1m12\u001b[0m:\tBDC\n",
      "\u001b[1m13\u001b[0m:\tCAB\n",
      "\u001b[1m14\u001b[0m:\tCAD\n",
      "\u001b[1m15\u001b[0m:\tCBA\n",
      "\u001b[1m16\u001b[0m:\tCBD\n",
      "\u001b[1m17\u001b[0m:\tCDA\n",
      "\u001b[1m18\u001b[0m:\tCDB\n",
      "\u001b[1m19\u001b[0m:\tDAB\n",
      "\u001b[1m20\u001b[0m:\tDAC\n",
      "\u001b[1m21\u001b[0m:\tDBA\n",
      "\u001b[1m22\u001b[0m:\tDBC\n",
      "\u001b[1m23\u001b[0m:\tDCA\n",
      "\u001b[1m24\u001b[0m:\tDCB\n"
     ]
    },
    {
     "data": {
      "text/plain": [
       "24"
      ]
     },
     "execution_count": 15,
     "metadata": {},
     "output_type": "execute_result"
    }
   ],
   "source": [
    "P(4,3,example=True)"
   ]
  },
  {
   "cell_type": "code",
   "execution_count": 3,
   "metadata": {},
   "outputs": [
    {
     "name": "stdout",
     "output_type": "stream",
     "text": [
      "\u001b[1m1\u001b[0m:\tAAA\n",
      "\u001b[1m2\u001b[0m:\tAAB\n",
      "\u001b[1m3\u001b[0m:\tAAC\n",
      "\u001b[1m4\u001b[0m:\tAAD\n",
      "\u001b[1m5\u001b[0m:\tABB\n",
      "\u001b[1m6\u001b[0m:\tABC\n",
      "\u001b[1m7\u001b[0m:\tABD\n",
      "\u001b[1m8\u001b[0m:\tACC\n",
      "\u001b[1m9\u001b[0m:\tACD\n",
      "\u001b[1m10\u001b[0m:\tADD\n",
      "\u001b[1m11\u001b[0m:\tBBB\n",
      "\u001b[1m12\u001b[0m:\tBBC\n",
      "\u001b[1m13\u001b[0m:\tBBD\n",
      "\u001b[1m14\u001b[0m:\tBCC\n",
      "\u001b[1m15\u001b[0m:\tBCD\n",
      "\u001b[1m16\u001b[0m:\tBDD\n",
      "\u001b[1m17\u001b[0m:\tCCC\n",
      "\u001b[1m18\u001b[0m:\tCCD\n",
      "\u001b[1m19\u001b[0m:\tCDD\n",
      "\u001b[1m20\u001b[0m:\tDDD\n"
     ]
    }
   ],
   "source": [
    "for i,c in enumerate(comb_w_rep(\"ABCD\", 3),1):\n",
    "    print(f'{i}:\\t{\"\".join(c)}')"
   ]
  },
  {
   "cell_type": "code",
   "execution_count": 4,
   "metadata": {},
   "outputs": [
    {
     "name": "stdout",
     "output_type": "stream",
     "text": [
      "\u001b[1m1\u001b[0m:\tBBB\n",
      "\u001b[1m2\u001b[0m:\tABD\n",
      "\u001b[1m3\u001b[0m:\tCDD\n",
      "\u001b[1m4\u001b[0m:\tBCA\n",
      "\u001b[1m5\u001b[0m:\tBCC\n",
      "\u001b[1m6\u001b[0m:\tBDD\n",
      "\u001b[1m7\u001b[0m:\tADC\n",
      "\u001b[1m8\u001b[0m:\tADB\n",
      "\u001b[1m9\u001b[0m:\tCAB\n",
      "\u001b[1m10\u001b[0m:\tCBD\n",
      "\u001b[1m11\u001b[0m:\tBAC\n",
      "\u001b[1m12\u001b[0m:\tAAD\n",
      "\u001b[1m13\u001b[0m:\tACC\n",
      "\u001b[1m14\u001b[0m:\tBBD\n",
      "\u001b[1m15\u001b[0m:\tABC\n",
      "\u001b[1m16\u001b[0m:\tDBA\n",
      "\u001b[1m17\u001b[0m:\tACB\n",
      "\u001b[1m18\u001b[0m:\tCDA\n",
      "\u001b[1m19\u001b[0m:\tDBC\n",
      "\u001b[1m20\u001b[0m:\tDCA\n",
      "\u001b[1m21\u001b[0m:\tCCD\n",
      "\u001b[1m22\u001b[0m:\tABB\n",
      "\u001b[1m23\u001b[0m:\tBDA\n",
      "\u001b[1m24\u001b[0m:\tCDB\n",
      "\u001b[1m25\u001b[0m:\tDDD\n",
      "\u001b[1m26\u001b[0m:\tBCD\n",
      "\u001b[1m27\u001b[0m:\tBDC\n",
      "\u001b[1m28\u001b[0m:\tDCB\n",
      "\u001b[1m29\u001b[0m:\tADD\n",
      "\u001b[1m30\u001b[0m:\tCBA\n",
      "\u001b[1m31\u001b[0m:\tAAA\n",
      "\u001b[1m32\u001b[0m:\tAAC\n",
      "\u001b[1m33\u001b[0m:\tCAD\n",
      "\u001b[1m34\u001b[0m:\tDAC\n",
      "\u001b[1m35\u001b[0m:\tAAB\n",
      "\u001b[1m36\u001b[0m:\tBBC\n",
      "\u001b[1m37\u001b[0m:\tBAD\n",
      "\u001b[1m38\u001b[0m:\tDAB\n",
      "\u001b[1m39\u001b[0m:\tACD\n",
      "\u001b[1m40\u001b[0m:\tCCC\n"
     ]
    }
   ],
   "source": [
    "for i,c in enumerate(set(permutations(\"ABCD\",3)).union(set(comb_w_rep(\"ABCD\", 3))),1):\n",
    "    print(f'{i}:\\t{\"\".join(c)}')"
   ]
  },
  {
   "cell_type": "code",
   "execution_count": 5,
   "metadata": {},
   "outputs": [
    {
     "name": "stdout",
     "output_type": "stream",
     "text": [
      "\u001b[1m1\u001b[0m:\tAA\n",
      "\u001b[1m2\u001b[0m:\tAB\n",
      "\u001b[1m3\u001b[0m:\tAC\n",
      "\u001b[1m4\u001b[0m:\tAD\n",
      "\u001b[1m5\u001b[0m:\tBA\n",
      "\u001b[1m6\u001b[0m:\tBB\n",
      "\u001b[1m7\u001b[0m:\tBC\n",
      "\u001b[1m8\u001b[0m:\tBD\n",
      "\u001b[1m9\u001b[0m:\tCA\n",
      "\u001b[1m10\u001b[0m:\tCB\n",
      "\u001b[1m11\u001b[0m:\tCC\n",
      "\u001b[1m12\u001b[0m:\tCD\n",
      "\u001b[1m13\u001b[0m:\tDA\n",
      "\u001b[1m14\u001b[0m:\tDB\n",
      "\u001b[1m15\u001b[0m:\tDC\n",
      "\u001b[1m16\u001b[0m:\tDD\n"
     ]
    }
   ],
   "source": [
    "for i,c in enumerate(product(\"ABCD\", \"ABCD\"),1):\n",
    "    print(f'{i}:\\t{\"\".join(c)}')"
   ]
  },
  {
   "cell_type": "code",
   "execution_count": 6,
   "metadata": {},
   "outputs": [
    {
     "name": "stdout",
     "output_type": "stream",
     "text": [
      "D(\u001b[1m3\u001b[0m,\u001b[1m5\u001b[0m) \u001b[97mvI\u001b[0m\n",
      "\t\u001b[1m21\u001b[0m ways to place \u001b[1m5\u001b[0m identical balls in \u001b[1m3\u001b[0m partitions\n",
      "\t\u001b[1m21\u001b[0m ways to choose \u001b[1m5\u001b[0m from 'ABC' with repetition\n",
      "\t\u001b[1m21\u001b[0m possible solutions to a+b+c=\u001b[1m5\u001b[0m\n",
      "\t• With repetitions\n",
      "\t• Order doesn't matter, so '○○○○○' and '○○○○○' count as one thing\n",
      "D(\u001b[1m3\u001b[0m,\u001b[1m5\u001b[0m) \u001b[97mvIa\u001b[0m  = C(\u001b[1m7\u001b[0m,\u001b[1m5\u001b[0m) \u001b[97mvI\u001b[0m  = P(\u001b[1m7\u001b[0m,\u001b[1m5\u001b[0m)/P(\u001b[1m5\u001b[0m) = (\u001b[1m7\u001b[0m·\u001b[1m6\u001b[0m·\u001b[1m5\u001b[0m·\u001b[1m4\u001b[0m·\u001b[1m3\u001b[0m)/(\u001b[1m5\u001b[0m·\u001b[1m4\u001b[0m·\u001b[1m3\u001b[0m·\u001b[1m2\u001b[0m·\u001b[1m1\u001b[0m) = \u001b[1m2520\u001b[0m/\u001b[1m120\u001b[0m = \u001b[1m21\u001b[0m\n",
      "D(\u001b[1m3\u001b[0m,\u001b[1m5\u001b[0m) \u001b[97mvIb\u001b[0m  = C(\u001b[1m7\u001b[0m,\u001b[1m2\u001b[0m) \u001b[97mvII\u001b[0m = P(\u001b[1m7\u001b[0m,\u001b[1m2\u001b[0m)/P(\u001b[1m2\u001b[0m) = (\u001b[1m7\u001b[0m·\u001b[1m6\u001b[0m)/(\u001b[1m2\u001b[0m·\u001b[1m1\u001b[0m) = \u001b[1m42\u001b[0m/\u001b[1m2\u001b[0m = \u001b[1m21\u001b[0m\n",
      "\n",
      "C(\u001b[1m7\u001b[0m,\u001b[1m5\u001b[0m) \u001b[97mvI\u001b[0m\n",
      "\t\u001b[1m21\u001b[0m ways to select \u001b[1m5\u001b[0m different letters from \u001b[1m7\u001b[0m letters\n",
      "\tset {\u001b[1m1\u001b[0m, \u001b[1m2\u001b[0m, \u001b[1m3\u001b[0m, \u001b[1m4\u001b[0m, \u001b[1m5\u001b[0m, \u001b[1m6\u001b[0m, \u001b[1m7\u001b[0m} has \u001b[1m21\u001b[0m subsets whose size=\u001b[1m5\u001b[0m\n",
      "\t• Order doesn't matter, so 'ABCDE' and 'BCDEA' count as one thing\n",
      "\t• No repetitions allowed\n",
      "\n",
      "\u001b[1mC Examples\u001b[0m\n",
      "C(\u001b[1m7\u001b[0m,\u001b[1m5\u001b[0m) from ABCDEFG:\n",
      "\u001b[1m1\u001b[0m:\tABCDE\n",
      "\u001b[1m2\u001b[0m:\tABCDF\n",
      "\u001b[1m3\u001b[0m:\tABCDG\n",
      "\u001b[1m4\u001b[0m:\tABCEF\n",
      "\u001b[1m5\u001b[0m:\tABCEG\n",
      "\u001b[1m6\u001b[0m:\tABCFG\n",
      "\u001b[1m7\u001b[0m:\tABDEF\n",
      "\u001b[1m8\u001b[0m:\tABDEG\n",
      "\u001b[1m9\u001b[0m:\tABDFG\n",
      "\u001b[1m10\u001b[0m:\tABEFG\n",
      "\u001b[1m11\u001b[0m:\tACDEF\n",
      "\u001b[1m12\u001b[0m:\tACDEG\n",
      "\u001b[1m13\u001b[0m:\tACDFG\n",
      "\u001b[1m14\u001b[0m:\tACEFG\n",
      "\u001b[1m15\u001b[0m:\tADEFG\n",
      "\u001b[1m16\u001b[0m:\tBCDEF\n",
      "\u001b[1m17\u001b[0m:\tBCDEG\n",
      "\u001b[1m18\u001b[0m:\tBCDFG\n",
      "\u001b[1m19\u001b[0m:\tBCEFG\n",
      "\u001b[1m20\u001b[0m:\tBDEFG\n",
      "\u001b[1m21\u001b[0m:\tCDEFG\n",
      "\n",
      "\n",
      "D(\u001b[1m6\u001b[0m,\u001b[1m2\u001b[0m) \u001b[97mvII\u001b[0m\n",
      "\t\u001b[1m21\u001b[0m ways to place \u001b[1m2\u001b[0m balls in \u001b[1m6\u001b[0m partitions\n",
      "\t\u001b[1m21\u001b[0m ways to choose \u001b[1m2\u001b[0m from 'ABCDEF' with repetition\n",
      "\t\u001b[1m21\u001b[0m possible solutions to a+b+c+d+e+f=\u001b[1m2\u001b[0m\n",
      "D(\u001b[1m6\u001b[0m,\u001b[1m2\u001b[0m) \u001b[97mvIIa\u001b[0m = C(\u001b[1m7\u001b[0m,\u001b[1m2\u001b[0m) \u001b[97mvI\u001b[0m  = P(\u001b[1m7\u001b[0m,\u001b[1m2\u001b[0m)/P(\u001b[1m2\u001b[0m) = (\u001b[1m7\u001b[0m·\u001b[1m6\u001b[0m)/(\u001b[1m2\u001b[0m·\u001b[1m1\u001b[0m) = \u001b[1m42\u001b[0m/\u001b[1m2\u001b[0m\n",
      "D(\u001b[1m6\u001b[0m,\u001b[1m2\u001b[0m) \u001b[97mvIIb\u001b[0m = C(\u001b[1m7\u001b[0m,\u001b[1m5\u001b[0m) \u001b[97mvII\u001b[0m = P(\u001b[1m7\u001b[0m,\u001b[1m5\u001b[0m)/P(\u001b[1m5\u001b[0m) = (\u001b[1m7\u001b[0m·\u001b[1m6\u001b[0m·\u001b[1m5\u001b[0m·\u001b[1m4\u001b[0m·\u001b[1m3\u001b[0m)/(\u001b[1m5\u001b[0m·\u001b[1m4\u001b[0m·\u001b[1m3\u001b[0m·\u001b[1m2\u001b[0m·\u001b[1m1\u001b[0m) = \u001b[1m2520\u001b[0m/\u001b[1m120\u001b[0m\n",
      "\n",
      "C(\u001b[1m7\u001b[0m,\u001b[1m2\u001b[0m) \u001b[97mvI\u001b[0m\n",
      "\t\u001b[1m21\u001b[0m ways to select \u001b[1m2\u001b[0m different letters from \u001b[1m7\u001b[0m letters\n",
      "\tset {\u001b[1m1\u001b[0m, \u001b[1m2\u001b[0m, \u001b[1m3\u001b[0m, \u001b[1m4\u001b[0m, \u001b[1m5\u001b[0m, \u001b[1m6\u001b[0m, \u001b[1m7\u001b[0m} has \u001b[1m21\u001b[0m subsets whose size=\u001b[1m2\u001b[0m\n",
      "\t• Order doesn't matter, so 'AB' and 'BA' count as one thing\n",
      "\t• No repetitions allowed\n",
      "\n",
      "\u001b[1mC Examples\u001b[0m\n",
      "C(\u001b[1m7\u001b[0m,\u001b[1m2\u001b[0m) from ABCDEFG:\n",
      "\u001b[1m1\u001b[0m:\tAB\n",
      "\u001b[1m2\u001b[0m:\tAC\n",
      "\u001b[1m3\u001b[0m:\tAD\n",
      "\u001b[1m4\u001b[0m:\tAE\n",
      "\u001b[1m5\u001b[0m:\tAF\n",
      "\u001b[1m6\u001b[0m:\tAG\n",
      "\u001b[1m7\u001b[0m:\tBC\n",
      "\u001b[1m8\u001b[0m:\tBD\n",
      "\u001b[1m9\u001b[0m:\tBE\n",
      "\u001b[1m10\u001b[0m:\tBF\n",
      "\u001b[1m11\u001b[0m:\tBG\n",
      "\u001b[1m12\u001b[0m:\tCD\n",
      "\u001b[1m13\u001b[0m:\tCE\n",
      "\u001b[1m14\u001b[0m:\tCF\n",
      "\u001b[1m15\u001b[0m:\tCG\n",
      "\u001b[1m16\u001b[0m:\tDE\n",
      "\u001b[1m17\u001b[0m:\tDF\n",
      "\u001b[1m18\u001b[0m:\tDG\n",
      "\u001b[1m19\u001b[0m:\tEF\n",
      "\u001b[1m20\u001b[0m:\tEG\n",
      "\u001b[1m21\u001b[0m:\tFG\n",
      "\n",
      "\n",
      "\u001b[1mD(3,5) Examples\u001b[0m\n",
      "\u001b[1m1\u001b[0m:\t○○|○○|○\n",
      "\u001b[1m2\u001b[0m:\t○○||○○○\n",
      "\u001b[1m3\u001b[0m:\t○|○○○○|\n",
      "\u001b[1m4\u001b[0m:\t○||○○○○\n",
      "\u001b[1m5\u001b[0m:\t○|○|○○○\n",
      "\u001b[1m6\u001b[0m:\t|○○|○○○\n",
      "\u001b[1m7\u001b[0m:\t||○○○○○\n",
      "\u001b[1m8\u001b[0m:\t|○○○○|○\n",
      "\u001b[1m9\u001b[0m:\t○○|○○○|\n",
      "\u001b[1m10\u001b[0m:\t○○○|○|○\n",
      "\u001b[1m11\u001b[0m:\t○○○○○||\n",
      "\u001b[1m12\u001b[0m:\t|○|○○○○\n",
      "\u001b[1m13\u001b[0m:\t|○○○|○○\n",
      "\u001b[1m14\u001b[0m:\t○○○||○○\n",
      "\u001b[1m15\u001b[0m:\t|○○○○○|\n",
      "\u001b[1m16\u001b[0m:\t○○○○||○\n",
      "\u001b[1m17\u001b[0m:\t○○○|○○|\n",
      "\u001b[1m18\u001b[0m:\t○|○○|○○\n",
      "\u001b[1m19\u001b[0m:\t○|○○○|○\n",
      "\u001b[1m20\u001b[0m:\t○○○○|○|\n",
      "\u001b[1m21\u001b[0m:\t○○|○|○○\n",
      "\n",
      "\u001b[1mD(6,2) Examples\u001b[0m\n",
      "\u001b[1m1\u001b[0m:\t|○○||||\n",
      "\u001b[1m2\u001b[0m:\t|○||||○\n",
      "\u001b[1m3\u001b[0m:\t|||○|○|\n",
      "\u001b[1m4\u001b[0m:\t○|||○||\n",
      "\u001b[1m5\u001b[0m:\t○|○||||\n",
      "\u001b[1m6\u001b[0m:\t|○|||○|\n",
      "\u001b[1m7\u001b[0m:\t○|||||○\n",
      "\u001b[1m8\u001b[0m:\t|○|○|||\n",
      "\u001b[1m9\u001b[0m:\t○○|||||\n",
      "\u001b[1m10\u001b[0m:\t||○|||○\n",
      "\u001b[1m11\u001b[0m:\t|○||○||\n",
      "\u001b[1m12\u001b[0m:\t||||○|○\n",
      "\u001b[1m13\u001b[0m:\t○||○|||\n",
      "\u001b[1m14\u001b[0m:\t○||||○|\n",
      "\u001b[1m15\u001b[0m:\t|||○○||\n",
      "\u001b[1m16\u001b[0m:\t||○○|||\n",
      "\u001b[1m17\u001b[0m:\t||○|○||\n",
      "\u001b[1m18\u001b[0m:\t||||○○|\n",
      "\u001b[1m19\u001b[0m:\t||○||○|\n",
      "\u001b[1m20\u001b[0m:\t|||○||○\n",
      "\u001b[1m21\u001b[0m:\t|||||○○\n",
      "\n"
     ]
    },
    {
     "data": {
      "text/plain": [
       "21"
      ]
     },
     "execution_count": 6,
     "metadata": {},
     "output_type": "execute_result"
    }
   ],
   "source": [
    "D(3, 5, explain=True, example=True, identities=True)"
   ]
  },
  {
   "cell_type": "code",
   "execution_count": 7,
   "metadata": {},
   "outputs": [
    {
     "name": "stdout",
     "output_type": "stream",
     "text": [
      "\u001b[1m1\u001b[0m:\tP(\u001b[1m1\u001b[0m,\u001b[1m1\u001b[0m)\n",
      "\u001b[1m2\u001b[0m:\tP(\u001b[1m2\u001b[0m,\u001b[1m1\u001b[0m), P(\u001b[1m2\u001b[0m,\u001b[1m2\u001b[0m)\n",
      "\u001b[1m3\u001b[0m:\tP(\u001b[1m3\u001b[0m,\u001b[1m1\u001b[0m)\n",
      "\u001b[1m4\u001b[0m:\tP(\u001b[1m4\u001b[0m,\u001b[1m1\u001b[0m)\n",
      "\u001b[1m5\u001b[0m:\tP(\u001b[1m5\u001b[0m,\u001b[1m1\u001b[0m)\n",
      "\u001b[1m6\u001b[0m:\tP(\u001b[1m3\u001b[0m,\u001b[1m2\u001b[0m), P(\u001b[1m3\u001b[0m,\u001b[1m3\u001b[0m), P(\u001b[1m6\u001b[0m,\u001b[1m1\u001b[0m)\n",
      "\u001b[1m7\u001b[0m:\tP(\u001b[1m7\u001b[0m,\u001b[1m1\u001b[0m)\n",
      "\u001b[1m8\u001b[0m:\tP(\u001b[1m8\u001b[0m,\u001b[1m1\u001b[0m)\n",
      "\u001b[1m9\u001b[0m:\tP(\u001b[1m9\u001b[0m,\u001b[1m1\u001b[0m)\n",
      "\u001b[1m12\u001b[0m:\tP(\u001b[1m4\u001b[0m,\u001b[1m2\u001b[0m)\n",
      "\u001b[1m20\u001b[0m:\tP(\u001b[1m5\u001b[0m,\u001b[1m2\u001b[0m)\n",
      "\u001b[1m24\u001b[0m:\tP(\u001b[1m4\u001b[0m,\u001b[1m3\u001b[0m), P(\u001b[1m4\u001b[0m,\u001b[1m4\u001b[0m)\n",
      "\u001b[1m30\u001b[0m:\tP(\u001b[1m6\u001b[0m,\u001b[1m2\u001b[0m)\n",
      "\u001b[1m42\u001b[0m:\tP(\u001b[1m7\u001b[0m,\u001b[1m2\u001b[0m)\n",
      "\u001b[1m56\u001b[0m:\tP(\u001b[1m8\u001b[0m,\u001b[1m2\u001b[0m)\n",
      "\u001b[1m60\u001b[0m:\tP(\u001b[1m5\u001b[0m,\u001b[1m3\u001b[0m)\n",
      "\u001b[1m72\u001b[0m:\tP(\u001b[1m9\u001b[0m,\u001b[1m2\u001b[0m)\n",
      "\u001b[1m120\u001b[0m:\tP(\u001b[1m5\u001b[0m,\u001b[1m4\u001b[0m), P(\u001b[1m5\u001b[0m,\u001b[1m5\u001b[0m), P(\u001b[1m6\u001b[0m,\u001b[1m3\u001b[0m)\n",
      "\u001b[1m210\u001b[0m:\tP(\u001b[1m7\u001b[0m,\u001b[1m3\u001b[0m)\n",
      "\u001b[1m336\u001b[0m:\tP(\u001b[1m8\u001b[0m,\u001b[1m3\u001b[0m)\n",
      "\u001b[1m360\u001b[0m:\tP(\u001b[1m6\u001b[0m,\u001b[1m4\u001b[0m)\n",
      "\u001b[1m504\u001b[0m:\tP(\u001b[1m9\u001b[0m,\u001b[1m3\u001b[0m)\n",
      "\u001b[1m720\u001b[0m:\tP(\u001b[1m6\u001b[0m,\u001b[1m5\u001b[0m), P(\u001b[1m6\u001b[0m,\u001b[1m6\u001b[0m)\n",
      "\u001b[1m840\u001b[0m:\tP(\u001b[1m7\u001b[0m,\u001b[1m4\u001b[0m)\n",
      "\u001b[1m1680\u001b[0m:\tP(\u001b[1m8\u001b[0m,\u001b[1m4\u001b[0m)\n",
      "\u001b[1m2520\u001b[0m:\tP(\u001b[1m7\u001b[0m,\u001b[1m5\u001b[0m)\n",
      "\u001b[1m3024\u001b[0m:\tP(\u001b[1m9\u001b[0m,\u001b[1m4\u001b[0m)\n",
      "\u001b[1m5040\u001b[0m:\tP(\u001b[1m7\u001b[0m,\u001b[1m6\u001b[0m), P(\u001b[1m7\u001b[0m,\u001b[1m7\u001b[0m)\n",
      "\u001b[1m6720\u001b[0m:\tP(\u001b[1m8\u001b[0m,\u001b[1m5\u001b[0m)\n",
      "\u001b[1m15120\u001b[0m:\tP(\u001b[1m9\u001b[0m,\u001b[1m5\u001b[0m)\n",
      "\u001b[1m20160\u001b[0m:\tP(\u001b[1m8\u001b[0m,\u001b[1m6\u001b[0m)\n",
      "\u001b[1m40320\u001b[0m:\tP(\u001b[1m8\u001b[0m,\u001b[1m7\u001b[0m), P(\u001b[1m8\u001b[0m,\u001b[1m8\u001b[0m)\n",
      "\u001b[1m60480\u001b[0m:\tP(\u001b[1m9\u001b[0m,\u001b[1m6\u001b[0m)\n",
      "\u001b[1m181440\u001b[0m:\tP(\u001b[1m9\u001b[0m,\u001b[1m7\u001b[0m)\n",
      "\u001b[1m362880\u001b[0m:\tP(\u001b[1m9\u001b[0m,\u001b[1m8\u001b[0m), P(\u001b[1m9\u001b[0m,\u001b[1m9\u001b[0m)\n"
     ]
    }
   ],
   "source": [
    "P_spam(byres=True)"
   ]
  },
  {
   "cell_type": "code",
   "execution_count": 8,
   "metadata": {},
   "outputs": [
    {
     "name": "stdout",
     "output_type": "stream",
     "text": [
      "\u001b[1m1\u001b[0m:\tC(\u001b[1m1\u001b[0m,\u001b[1m1\u001b[0m), C(\u001b[1m2\u001b[0m,\u001b[1m2\u001b[0m), C(\u001b[1m3\u001b[0m,\u001b[1m3\u001b[0m), C(\u001b[1m4\u001b[0m,\u001b[1m4\u001b[0m), C(\u001b[1m5\u001b[0m,\u001b[1m5\u001b[0m), C(\u001b[1m6\u001b[0m,\u001b[1m6\u001b[0m), C(\u001b[1m7\u001b[0m,\u001b[1m7\u001b[0m), C(\u001b[1m8\u001b[0m,\u001b[1m8\u001b[0m), C(\u001b[1m9\u001b[0m,\u001b[1m9\u001b[0m), C(\u001b[1m10\u001b[0m,\u001b[1m10\u001b[0m)\n",
      "\u001b[1m2\u001b[0m:\tC(\u001b[1m2\u001b[0m,\u001b[1m1\u001b[0m)\n",
      "\u001b[1m3\u001b[0m:\tC(\u001b[1m3\u001b[0m,\u001b[1m1\u001b[0m), C(\u001b[1m3\u001b[0m,\u001b[1m2\u001b[0m)\n",
      "\u001b[1m4\u001b[0m:\tC(\u001b[1m4\u001b[0m,\u001b[1m1\u001b[0m), C(\u001b[1m4\u001b[0m,\u001b[1m3\u001b[0m)\n",
      "\u001b[1m5\u001b[0m:\tC(\u001b[1m5\u001b[0m,\u001b[1m1\u001b[0m), C(\u001b[1m5\u001b[0m,\u001b[1m4\u001b[0m)\n",
      "\u001b[1m6\u001b[0m:\tC(\u001b[1m4\u001b[0m,\u001b[1m2\u001b[0m), C(\u001b[1m6\u001b[0m,\u001b[1m1\u001b[0m), C(\u001b[1m6\u001b[0m,\u001b[1m5\u001b[0m)\n",
      "\u001b[1m7\u001b[0m:\tC(\u001b[1m7\u001b[0m,\u001b[1m1\u001b[0m), C(\u001b[1m7\u001b[0m,\u001b[1m6\u001b[0m)\n",
      "\u001b[1m8\u001b[0m:\tC(\u001b[1m8\u001b[0m,\u001b[1m1\u001b[0m), C(\u001b[1m8\u001b[0m,\u001b[1m7\u001b[0m)\n",
      "\u001b[1m9\u001b[0m:\tC(\u001b[1m9\u001b[0m,\u001b[1m1\u001b[0m), C(\u001b[1m9\u001b[0m,\u001b[1m8\u001b[0m)\n",
      "\u001b[1m10\u001b[0m:\tC(\u001b[1m5\u001b[0m,\u001b[1m2\u001b[0m), C(\u001b[1m5\u001b[0m,\u001b[1m3\u001b[0m), C(\u001b[1m10\u001b[0m,\u001b[1m1\u001b[0m), C(\u001b[1m10\u001b[0m,\u001b[1m9\u001b[0m)\n",
      "\u001b[1m15\u001b[0m:\tC(\u001b[1m6\u001b[0m,\u001b[1m2\u001b[0m), C(\u001b[1m6\u001b[0m,\u001b[1m4\u001b[0m)\n",
      "\u001b[1m20\u001b[0m:\tC(\u001b[1m6\u001b[0m,\u001b[1m3\u001b[0m)\n",
      "\u001b[1m21\u001b[0m:\tC(\u001b[1m7\u001b[0m,\u001b[1m2\u001b[0m), C(\u001b[1m7\u001b[0m,\u001b[1m5\u001b[0m)\n",
      "\u001b[1m28\u001b[0m:\tC(\u001b[1m8\u001b[0m,\u001b[1m2\u001b[0m), C(\u001b[1m8\u001b[0m,\u001b[1m6\u001b[0m)\n",
      "\u001b[1m35\u001b[0m:\tC(\u001b[1m7\u001b[0m,\u001b[1m3\u001b[0m), C(\u001b[1m7\u001b[0m,\u001b[1m4\u001b[0m)\n",
      "\u001b[1m36\u001b[0m:\tC(\u001b[1m9\u001b[0m,\u001b[1m2\u001b[0m), C(\u001b[1m9\u001b[0m,\u001b[1m7\u001b[0m)\n",
      "\u001b[1m45\u001b[0m:\tC(\u001b[1m10\u001b[0m,\u001b[1m2\u001b[0m), C(\u001b[1m10\u001b[0m,\u001b[1m8\u001b[0m)\n",
      "\u001b[1m56\u001b[0m:\tC(\u001b[1m8\u001b[0m,\u001b[1m3\u001b[0m), C(\u001b[1m8\u001b[0m,\u001b[1m5\u001b[0m)\n",
      "\u001b[1m70\u001b[0m:\tC(\u001b[1m8\u001b[0m,\u001b[1m4\u001b[0m)\n",
      "\u001b[1m84\u001b[0m:\tC(\u001b[1m9\u001b[0m,\u001b[1m3\u001b[0m), C(\u001b[1m9\u001b[0m,\u001b[1m6\u001b[0m)\n",
      "\u001b[1m120\u001b[0m:\tC(\u001b[1m10\u001b[0m,\u001b[1m3\u001b[0m), C(\u001b[1m10\u001b[0m,\u001b[1m7\u001b[0m)\n",
      "\u001b[1m126\u001b[0m:\tC(\u001b[1m9\u001b[0m,\u001b[1m4\u001b[0m), C(\u001b[1m9\u001b[0m,\u001b[1m5\u001b[0m)\n",
      "\u001b[1m210\u001b[0m:\tC(\u001b[1m10\u001b[0m,\u001b[1m4\u001b[0m), C(\u001b[1m10\u001b[0m,\u001b[1m6\u001b[0m)\n",
      "\u001b[1m252\u001b[0m:\tC(\u001b[1m10\u001b[0m,\u001b[1m5\u001b[0m)\n"
     ]
    }
   ],
   "source": [
    "C_spam(byres=True)"
   ]
  },
  {
   "cell_type": "code",
   "execution_count": 9,
   "metadata": {},
   "outputs": [
    {
     "name": "stdout",
     "output_type": "stream",
     "text": [
      "\u001b[1m5\u001b[0m:\tD(\u001b[1m2\u001b[0m,\u001b[1m4\u001b[0m), D(\u001b[1m5\u001b[0m,\u001b[1m1\u001b[0m)\n",
      "\u001b[1m4\u001b[0m:\tD(\u001b[1m2\u001b[0m,\u001b[1m3\u001b[0m), D(\u001b[1m4\u001b[0m,\u001b[1m1\u001b[0m)\n",
      "\u001b[1m3\u001b[0m:\tD(\u001b[1m2\u001b[0m,\u001b[1m2\u001b[0m), D(\u001b[1m3\u001b[0m,\u001b[1m1\u001b[0m)\n",
      "\u001b[1m2\u001b[0m:\tD(\u001b[1m2\u001b[0m,\u001b[1m1\u001b[0m)\n"
     ]
    }
   ],
   "source": [
    "D_spam(ofnum=5)\n",
    "D_spam(ofnum=4)\n",
    "D_spam(ofnum=3)\n",
    "D_spam(ofnum=2)"
   ]
  },
  {
   "cell_type": "code",
   "execution_count": 16,
   "metadata": {},
   "outputs": [
    {
     "name": "stdout",
     "output_type": "stream",
     "text": [
      "\u001b[1m1\u001b[0m:\tD(\u001b[1m1\u001b[0m,\u001b[1m1\u001b[0m), D(\u001b[1m1\u001b[0m,\u001b[1m2\u001b[0m), D(\u001b[1m1\u001b[0m,\u001b[1m3\u001b[0m), D(\u001b[1m1\u001b[0m,\u001b[1m4\u001b[0m), D(\u001b[1m1\u001b[0m,\u001b[1m5\u001b[0m), D(\u001b[1m1\u001b[0m,\u001b[1m6\u001b[0m), D(\u001b[1m1\u001b[0m,\u001b[1m7\u001b[0m), D(\u001b[1m1\u001b[0m,\u001b[1m8\u001b[0m), D(\u001b[1m1\u001b[0m,\u001b[1m9\u001b[0m), D(\u001b[1m1\u001b[0m,\u001b[1m10\u001b[0m)\n",
      "\u001b[1m2\u001b[0m:\tD(\u001b[1m2\u001b[0m,\u001b[1m1\u001b[0m)\n",
      "\u001b[1m3\u001b[0m:\tD(\u001b[1m2\u001b[0m,\u001b[1m2\u001b[0m), D(\u001b[1m3\u001b[0m,\u001b[1m1\u001b[0m)\n",
      "\u001b[1m4\u001b[0m:\tD(\u001b[1m2\u001b[0m,\u001b[1m3\u001b[0m), D(\u001b[1m4\u001b[0m,\u001b[1m1\u001b[0m)\n",
      "\u001b[1m5\u001b[0m:\tD(\u001b[1m2\u001b[0m,\u001b[1m4\u001b[0m), D(\u001b[1m5\u001b[0m,\u001b[1m1\u001b[0m)\n",
      "\u001b[1m6\u001b[0m:\tD(\u001b[1m2\u001b[0m,\u001b[1m5\u001b[0m), D(\u001b[1m3\u001b[0m,\u001b[1m2\u001b[0m), D(\u001b[1m6\u001b[0m,\u001b[1m1\u001b[0m)\n",
      "\u001b[1m7\u001b[0m:\tD(\u001b[1m2\u001b[0m,\u001b[1m6\u001b[0m), D(\u001b[1m7\u001b[0m,\u001b[1m1\u001b[0m)\n",
      "\u001b[1m8\u001b[0m:\tD(\u001b[1m2\u001b[0m,\u001b[1m7\u001b[0m), D(\u001b[1m8\u001b[0m,\u001b[1m1\u001b[0m)\n",
      "\u001b[1m9\u001b[0m:\tD(\u001b[1m2\u001b[0m,\u001b[1m8\u001b[0m), D(\u001b[1m9\u001b[0m,\u001b[1m1\u001b[0m)\n",
      "\u001b[1m10\u001b[0m:\tD(\u001b[1m2\u001b[0m,\u001b[1m9\u001b[0m), D(\u001b[1m3\u001b[0m,\u001b[1m3\u001b[0m), D(\u001b[1m4\u001b[0m,\u001b[1m2\u001b[0m), D(\u001b[1m10\u001b[0m,\u001b[1m1\u001b[0m)\n",
      "\u001b[1m11\u001b[0m:\tD(\u001b[1m2\u001b[0m,\u001b[1m10\u001b[0m)\n",
      "\u001b[1m15\u001b[0m:\tD(\u001b[1m3\u001b[0m,\u001b[1m4\u001b[0m), D(\u001b[1m5\u001b[0m,\u001b[1m2\u001b[0m)\n",
      "\u001b[1m20\u001b[0m:\tD(\u001b[1m4\u001b[0m,\u001b[1m3\u001b[0m)\n",
      "\u001b[1m21\u001b[0m:\tD(\u001b[1m3\u001b[0m,\u001b[1m5\u001b[0m), D(\u001b[1m6\u001b[0m,\u001b[1m2\u001b[0m)\n",
      "\u001b[1m28\u001b[0m:\tD(\u001b[1m3\u001b[0m,\u001b[1m6\u001b[0m), D(\u001b[1m7\u001b[0m,\u001b[1m2\u001b[0m)\n",
      "\u001b[1m35\u001b[0m:\tD(\u001b[1m4\u001b[0m,\u001b[1m4\u001b[0m), D(\u001b[1m5\u001b[0m,\u001b[1m3\u001b[0m)\n",
      "\u001b[1m36\u001b[0m:\tD(\u001b[1m3\u001b[0m,\u001b[1m7\u001b[0m), D(\u001b[1m8\u001b[0m,\u001b[1m2\u001b[0m)\n",
      "\u001b[1m45\u001b[0m:\tD(\u001b[1m3\u001b[0m,\u001b[1m8\u001b[0m), D(\u001b[1m9\u001b[0m,\u001b[1m2\u001b[0m)\n",
      "\u001b[1m55\u001b[0m:\tD(\u001b[1m3\u001b[0m,\u001b[1m9\u001b[0m), D(\u001b[1m10\u001b[0m,\u001b[1m2\u001b[0m)\n",
      "\u001b[1m56\u001b[0m:\tD(\u001b[1m4\u001b[0m,\u001b[1m5\u001b[0m), D(\u001b[1m6\u001b[0m,\u001b[1m3\u001b[0m)\n",
      "\u001b[1m66\u001b[0m:\tD(\u001b[1m3\u001b[0m,\u001b[1m10\u001b[0m)\n",
      "\u001b[1m70\u001b[0m:\tD(\u001b[1m5\u001b[0m,\u001b[1m4\u001b[0m)\n",
      "\u001b[1m84\u001b[0m:\tD(\u001b[1m4\u001b[0m,\u001b[1m6\u001b[0m), D(\u001b[1m7\u001b[0m,\u001b[1m3\u001b[0m)\n",
      "\u001b[1m120\u001b[0m:\tD(\u001b[1m4\u001b[0m,\u001b[1m7\u001b[0m), D(\u001b[1m8\u001b[0m,\u001b[1m3\u001b[0m)\n",
      "\u001b[1m126\u001b[0m:\tD(\u001b[1m5\u001b[0m,\u001b[1m5\u001b[0m), D(\u001b[1m6\u001b[0m,\u001b[1m4\u001b[0m)\n",
      "\u001b[1m165\u001b[0m:\tD(\u001b[1m4\u001b[0m,\u001b[1m8\u001b[0m), D(\u001b[1m9\u001b[0m,\u001b[1m3\u001b[0m)\n",
      "\u001b[1m210\u001b[0m:\tD(\u001b[1m5\u001b[0m,\u001b[1m6\u001b[0m), D(\u001b[1m7\u001b[0m,\u001b[1m4\u001b[0m)\n",
      "\u001b[1m220\u001b[0m:\tD(\u001b[1m4\u001b[0m,\u001b[1m9\u001b[0m), D(\u001b[1m10\u001b[0m,\u001b[1m3\u001b[0m)\n",
      "\u001b[1m252\u001b[0m:\tD(\u001b[1m6\u001b[0m,\u001b[1m5\u001b[0m)\n",
      "\u001b[1m286\u001b[0m:\tD(\u001b[1m4\u001b[0m,\u001b[1m10\u001b[0m)\n",
      "\u001b[1m330\u001b[0m:\tD(\u001b[1m5\u001b[0m,\u001b[1m7\u001b[0m), D(\u001b[1m8\u001b[0m,\u001b[1m4\u001b[0m)\n",
      "\u001b[1m462\u001b[0m:\tD(\u001b[1m6\u001b[0m,\u001b[1m6\u001b[0m), D(\u001b[1m7\u001b[0m,\u001b[1m5\u001b[0m)\n",
      "\u001b[1m495\u001b[0m:\tD(\u001b[1m5\u001b[0m,\u001b[1m8\u001b[0m), D(\u001b[1m9\u001b[0m,\u001b[1m4\u001b[0m)\n",
      "\u001b[1m715\u001b[0m:\tD(\u001b[1m5\u001b[0m,\u001b[1m9\u001b[0m), D(\u001b[1m10\u001b[0m,\u001b[1m4\u001b[0m)\n",
      "\u001b[1m792\u001b[0m:\tD(\u001b[1m6\u001b[0m,\u001b[1m7\u001b[0m), D(\u001b[1m8\u001b[0m,\u001b[1m5\u001b[0m)\n",
      "\u001b[1m924\u001b[0m:\tD(\u001b[1m7\u001b[0m,\u001b[1m6\u001b[0m)\n",
      "\u001b[1m1001\u001b[0m:\tD(\u001b[1m5\u001b[0m,\u001b[1m10\u001b[0m)\n",
      "\u001b[1m1287\u001b[0m:\tD(\u001b[1m6\u001b[0m,\u001b[1m8\u001b[0m), D(\u001b[1m9\u001b[0m,\u001b[1m5\u001b[0m)\n",
      "\u001b[1m1716\u001b[0m:\tD(\u001b[1m7\u001b[0m,\u001b[1m7\u001b[0m), D(\u001b[1m8\u001b[0m,\u001b[1m6\u001b[0m)\n",
      "\u001b[1m2002\u001b[0m:\tD(\u001b[1m6\u001b[0m,\u001b[1m9\u001b[0m), D(\u001b[1m10\u001b[0m,\u001b[1m5\u001b[0m)\n",
      "\u001b[1m3003\u001b[0m:\tD(\u001b[1m6\u001b[0m,\u001b[1m10\u001b[0m), D(\u001b[1m7\u001b[0m,\u001b[1m8\u001b[0m), D(\u001b[1m9\u001b[0m,\u001b[1m6\u001b[0m)\n",
      "\u001b[1m3432\u001b[0m:\tD(\u001b[1m8\u001b[0m,\u001b[1m7\u001b[0m)\n",
      "\u001b[1m5005\u001b[0m:\tD(\u001b[1m7\u001b[0m,\u001b[1m9\u001b[0m), D(\u001b[1m10\u001b[0m,\u001b[1m6\u001b[0m)\n",
      "\u001b[1m6435\u001b[0m:\tD(\u001b[1m8\u001b[0m,\u001b[1m8\u001b[0m), D(\u001b[1m9\u001b[0m,\u001b[1m7\u001b[0m)\n",
      "\u001b[1m8008\u001b[0m:\tD(\u001b[1m7\u001b[0m,\u001b[1m10\u001b[0m)\n",
      "\u001b[1m11440\u001b[0m:\tD(\u001b[1m8\u001b[0m,\u001b[1m9\u001b[0m), D(\u001b[1m10\u001b[0m,\u001b[1m7\u001b[0m)\n",
      "\u001b[1m12870\u001b[0m:\tD(\u001b[1m9\u001b[0m,\u001b[1m8\u001b[0m)\n",
      "\u001b[1m19448\u001b[0m:\tD(\u001b[1m8\u001b[0m,\u001b[1m10\u001b[0m)\n",
      "\u001b[1m24310\u001b[0m:\tD(\u001b[1m9\u001b[0m,\u001b[1m9\u001b[0m), D(\u001b[1m10\u001b[0m,\u001b[1m8\u001b[0m)\n",
      "\u001b[1m43758\u001b[0m:\tD(\u001b[1m9\u001b[0m,\u001b[1m10\u001b[0m)\n",
      "\u001b[1m48620\u001b[0m:\tD(\u001b[1m10\u001b[0m,\u001b[1m9\u001b[0m)\n",
      "\u001b[1m92378\u001b[0m:\tD(\u001b[1m10\u001b[0m,\u001b[1m10\u001b[0m)\n"
     ]
    }
   ],
   "source": [
    "D_spam(byres=True)"
   ]
  },
  {
   "cell_type": "code",
   "execution_count": 17,
   "metadata": {},
   "outputs": [
    {
     "name": "stdout",
     "output_type": "stream",
     "text": [
      "P(\u001b[1m2\u001b[0m,\u001b[1m2\u001b[0m) = \u001b[1m2\u001b[0m ways to organize \u001b[1m2\u001b[0m letters from a collection of \u001b[1m2\u001b[0m letters\n",
      "\tOrder matters, so 'BA' and 'AB' are both counted.\n",
      "\tNo repetitions allowed\n"
     ]
    },
    {
     "data": {
      "text/plain": [
       "2"
      ]
     },
     "execution_count": 17,
     "metadata": {},
     "output_type": "execute_result"
    }
   ],
   "source": [
    "P(2,2,explain=True)"
   ]
  },
  {
   "cell_type": "code",
   "execution_count": 11,
   "metadata": {},
   "outputs": [
    {
     "name": "stdout",
     "output_type": "stream",
     "text": [
      "\n",
      "\n",
      "\n",
      "\n",
      "\n",
      "\n",
      "\n",
      "\n",
      "\n",
      "\u001b[1m3\u001b[0m:\tP(\u001b[1m3\u001b[0m; \u001b[1m1\u001b[0m,\u001b[1m2\u001b[0m)\n"
     ]
    }
   ],
   "source": [
    "Pnk_spam(ofnum=3)"
   ]
  },
  {
   "cell_type": "code",
   "execution_count": 12,
   "metadata": {},
   "outputs": [
    {
     "name": "stdout",
     "output_type": "stream",
     "text": [
      "\n",
      "\n",
      "\n",
      "\n",
      "\n",
      "\n",
      "\n",
      "\n",
      "\n",
      "\u001b[1m4\u001b[0m:\tP(\u001b[1m4\u001b[0m; \u001b[1m1\u001b[0m,\u001b[1m3\u001b[0m)\n"
     ]
    }
   ],
   "source": [
    "Pnk_spam(ofnum=4)"
   ]
  },
  {
   "cell_type": "code",
   "execution_count": 13,
   "metadata": {},
   "outputs": [
    {
     "name": "stdout",
     "output_type": "stream",
     "text": [
      "P(\u001b[1m2\u001b[0m; \u001b[1m1\u001b[0m,\u001b[1m1\u001b[0m): \u001b[1m2\u001b[0m\n",
      "\n",
      "P(\u001b[1m3\u001b[0m; \u001b[1m1\u001b[0m,\u001b[1m2\u001b[0m): \u001b[1m3\u001b[0m\n",
      "\n",
      "P(\u001b[1m4\u001b[0m; \u001b[1m1\u001b[0m,\u001b[1m3\u001b[0m): \u001b[1m4\u001b[0m\n",
      "P(\u001b[1m4\u001b[0m; \u001b[1m2\u001b[0m,\u001b[1m2\u001b[0m): \u001b[1m6\u001b[0m\n",
      "\n",
      "P(\u001b[1m5\u001b[0m; \u001b[1m1\u001b[0m,\u001b[1m4\u001b[0m): \u001b[1m5\u001b[0m\n",
      "P(\u001b[1m5\u001b[0m; \u001b[1m2\u001b[0m,\u001b[1m3\u001b[0m): \u001b[1m10\u001b[0m\n",
      "\n",
      "P(\u001b[1m6\u001b[0m; \u001b[1m1\u001b[0m,\u001b[1m5\u001b[0m): \u001b[1m6\u001b[0m\n",
      "P(\u001b[1m6\u001b[0m; \u001b[1m2\u001b[0m,\u001b[1m4\u001b[0m): \u001b[1m15\u001b[0m\n",
      "P(\u001b[1m6\u001b[0m; \u001b[1m3\u001b[0m,\u001b[1m3\u001b[0m): \u001b[1m20\u001b[0m\n",
      "\n",
      "P(\u001b[1m7\u001b[0m; \u001b[1m1\u001b[0m,\u001b[1m6\u001b[0m): \u001b[1m7\u001b[0m\n",
      "P(\u001b[1m7\u001b[0m; \u001b[1m2\u001b[0m,\u001b[1m5\u001b[0m): \u001b[1m21\u001b[0m\n",
      "P(\u001b[1m7\u001b[0m; \u001b[1m3\u001b[0m,\u001b[1m4\u001b[0m): \u001b[1m35\u001b[0m\n",
      "\n",
      "P(\u001b[1m8\u001b[0m; \u001b[1m1\u001b[0m,\u001b[1m7\u001b[0m): \u001b[1m8\u001b[0m\n",
      "P(\u001b[1m8\u001b[0m; \u001b[1m2\u001b[0m,\u001b[1m6\u001b[0m): \u001b[1m28\u001b[0m\n",
      "P(\u001b[1m8\u001b[0m; \u001b[1m3\u001b[0m,\u001b[1m5\u001b[0m): \u001b[1m56\u001b[0m\n",
      "P(\u001b[1m8\u001b[0m; \u001b[1m4\u001b[0m,\u001b[1m4\u001b[0m): \u001b[1m70\u001b[0m\n",
      "\n",
      "P(\u001b[1m9\u001b[0m; \u001b[1m1\u001b[0m,\u001b[1m8\u001b[0m): \u001b[1m9\u001b[0m\n",
      "P(\u001b[1m9\u001b[0m; \u001b[1m2\u001b[0m,\u001b[1m7\u001b[0m): \u001b[1m36\u001b[0m\n",
      "P(\u001b[1m9\u001b[0m; \u001b[1m3\u001b[0m,\u001b[1m6\u001b[0m): \u001b[1m84\u001b[0m\n",
      "P(\u001b[1m9\u001b[0m; \u001b[1m4\u001b[0m,\u001b[1m5\u001b[0m): \u001b[1m126\u001b[0m\n",
      "\n",
      "P(\u001b[1m10\u001b[0m; \u001b[1m1\u001b[0m,\u001b[1m9\u001b[0m): \u001b[1m10\u001b[0m\n",
      "P(\u001b[1m10\u001b[0m; \u001b[1m2\u001b[0m,\u001b[1m8\u001b[0m): \u001b[1m45\u001b[0m\n",
      "P(\u001b[1m10\u001b[0m; \u001b[1m3\u001b[0m,\u001b[1m7\u001b[0m): \u001b[1m120\u001b[0m\n",
      "P(\u001b[1m10\u001b[0m; \u001b[1m4\u001b[0m,\u001b[1m6\u001b[0m): \u001b[1m210\u001b[0m\n",
      "P(\u001b[1m10\u001b[0m; \u001b[1m5\u001b[0m,\u001b[1m5\u001b[0m): \u001b[1m252\u001b[0m\n",
      "\n"
     ]
    },
    {
     "ename": "TypeError",
     "evalue": "'NoneType' object is not iterable",
     "output_type": "error",
     "traceback": [
      "\u001b[0;31m---------------------------------------------------------------------------\u001b[0m",
      "\u001b[0;31mTypeError\u001b[0m                                 Traceback (most recent call last)",
      "\u001b[0;32m<ipython-input-13-32080c0ecbb6>\u001b[0m in \u001b[0;36m<module>\u001b[0;34m\u001b[0m\n\u001b[0;32m----> 1\u001b[0;31m \u001b[0mlist\u001b[0m\u001b[0;34m(\u001b[0m\u001b[0mPnk_spam\u001b[0m\u001b[0;34m(\u001b[0m\u001b[0;34m)\u001b[0m\u001b[0;34m)\u001b[0m\u001b[0;34m\u001b[0m\u001b[0;34m\u001b[0m\u001b[0m\n\u001b[0m",
      "\u001b[0;31mTypeError\u001b[0m: 'NoneType' object is not iterable"
     ]
    }
   ],
   "source": [
    "list(Pnk_spam())"
   ]
  },
  {
   "cell_type": "code",
   "execution_count": null,
   "metadata": {},
   "outputs": [],
   "source": []
  }
 ],
 "metadata": {
  "kernelspec": {
   "display_name": "Python 3",
   "language": "python",
   "name": "python3"
  },
  "language_info": {
   "codemirror_mode": {
    "name": "ipython",
    "version": 3
   },
   "file_extension": ".py",
   "mimetype": "text/x-python",
   "name": "python",
   "nbconvert_exporter": "python",
   "pygments_lexer": "ipython3",
   "version": "3.8.5"
  },
  "toc-showcode": true,
  "varInspector": {
   "cols": {
    "lenName": 16,
    "lenType": 16,
    "lenVar": 40
   },
   "kernels_config": {
    "python": {
     "delete_cmd_postfix": "",
     "delete_cmd_prefix": "del ",
     "library": "var_list.py",
     "varRefreshCmd": "print(var_dic_list())"
    },
    "r": {
     "delete_cmd_postfix": ") ",
     "delete_cmd_prefix": "rm(",
     "library": "var_list.r",
     "varRefreshCmd": "cat(var_dic_list()) "
    }
   },
   "types_to_exclude": [
    "module",
    "function",
    "builtin_function_or_method",
    "instance",
    "_Feature"
   ],
   "window_display": false
  }
 },
 "nbformat": 4,
 "nbformat_minor": 4
}
