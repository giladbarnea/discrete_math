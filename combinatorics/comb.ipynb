{
 "cells": [
  {
   "cell_type": "code",
   "execution_count": 1,
   "metadata": {
    "run_control": {
     "marked": false
    }
   },
   "outputs": [
    {
     "name": "stdout",
     "output_type": "stream",
     "text": [
      "combinatorics/comb.py\n"
     ]
    }
   ],
   "source": [
    "from itertools import permutations, product, combinations_with_replacement as comb_w_rep\n",
    "from comb import *"
   ]
  },
  {
   "cell_type": "code",
   "execution_count": 34,
   "metadata": {
    "cell_style": "center",
    "collapsed": true,
    "jupyter": {
     "outputs_hidden": true
    },
    "run_control": {
     "marked": false
    }
   },
   "outputs": [
    {
     "name": "stdout",
     "output_type": "stream",
     "text": [
      "\u001b[1m1\u001b[0m:\tP(\u001b[1m1\u001b[0m,\u001b[1m1\u001b[0m)\n",
      "\u001b[1m2\u001b[0m:\tP(\u001b[1m2\u001b[0m,\u001b[1m1\u001b[0m), P(\u001b[1m2\u001b[0m,\u001b[1m2\u001b[0m)\n",
      "\u001b[1m3\u001b[0m:\tP(\u001b[1m3\u001b[0m,\u001b[1m1\u001b[0m)\n",
      "\u001b[1m4\u001b[0m:\tP(\u001b[1m4\u001b[0m,\u001b[1m1\u001b[0m)\n",
      "\u001b[1m5\u001b[0m:\tP(\u001b[1m5\u001b[0m,\u001b[1m1\u001b[0m)\n",
      "\u001b[1m6\u001b[0m:\tP(\u001b[1m3\u001b[0m,\u001b[1m2\u001b[0m), P(\u001b[1m3\u001b[0m,\u001b[1m3\u001b[0m), P(\u001b[1m6\u001b[0m,\u001b[1m1\u001b[0m)\n",
      "\u001b[1m7\u001b[0m:\tP(\u001b[1m7\u001b[0m,\u001b[1m1\u001b[0m)\n",
      "\u001b[1m8\u001b[0m:\tP(\u001b[1m8\u001b[0m,\u001b[1m1\u001b[0m)\n",
      "\u001b[1m9\u001b[0m:\tP(\u001b[1m9\u001b[0m,\u001b[1m1\u001b[0m)\n",
      "\u001b[1m12\u001b[0m:\tP(\u001b[1m4\u001b[0m,\u001b[1m2\u001b[0m)\n",
      "\u001b[1m20\u001b[0m:\tP(\u001b[1m5\u001b[0m,\u001b[1m2\u001b[0m)\n",
      "\u001b[1m24\u001b[0m:\tP(\u001b[1m4\u001b[0m,\u001b[1m3\u001b[0m), P(\u001b[1m4\u001b[0m,\u001b[1m4\u001b[0m)\n",
      "\u001b[1m30\u001b[0m:\tP(\u001b[1m6\u001b[0m,\u001b[1m2\u001b[0m)\n",
      "\u001b[1m42\u001b[0m:\tP(\u001b[1m7\u001b[0m,\u001b[1m2\u001b[0m)\n",
      "\u001b[1m56\u001b[0m:\tP(\u001b[1m8\u001b[0m,\u001b[1m2\u001b[0m)\n",
      "\u001b[1m60\u001b[0m:\tP(\u001b[1m5\u001b[0m,\u001b[1m3\u001b[0m)\n",
      "\u001b[1m72\u001b[0m:\tP(\u001b[1m9\u001b[0m,\u001b[1m2\u001b[0m)\n",
      "\u001b[1m120\u001b[0m:\tP(\u001b[1m5\u001b[0m,\u001b[1m4\u001b[0m), P(\u001b[1m5\u001b[0m,\u001b[1m5\u001b[0m), P(\u001b[1m6\u001b[0m,\u001b[1m3\u001b[0m)\n",
      "\u001b[1m210\u001b[0m:\tP(\u001b[1m7\u001b[0m,\u001b[1m3\u001b[0m)\n",
      "\u001b[1m336\u001b[0m:\tP(\u001b[1m8\u001b[0m,\u001b[1m3\u001b[0m)\n",
      "\u001b[1m360\u001b[0m:\tP(\u001b[1m6\u001b[0m,\u001b[1m4\u001b[0m)\n",
      "\u001b[1m504\u001b[0m:\tP(\u001b[1m9\u001b[0m,\u001b[1m3\u001b[0m)\n",
      "\u001b[1m720\u001b[0m:\tP(\u001b[1m6\u001b[0m,\u001b[1m5\u001b[0m), P(\u001b[1m6\u001b[0m,\u001b[1m6\u001b[0m)\n",
      "\u001b[1m840\u001b[0m:\tP(\u001b[1m7\u001b[0m,\u001b[1m4\u001b[0m)\n",
      "\u001b[1m1680\u001b[0m:\tP(\u001b[1m8\u001b[0m,\u001b[1m4\u001b[0m)\n",
      "\u001b[1m2520\u001b[0m:\tP(\u001b[1m7\u001b[0m,\u001b[1m5\u001b[0m)\n",
      "\u001b[1m3024\u001b[0m:\tP(\u001b[1m9\u001b[0m,\u001b[1m4\u001b[0m)\n",
      "\u001b[1m5040\u001b[0m:\tP(\u001b[1m7\u001b[0m,\u001b[1m6\u001b[0m), P(\u001b[1m7\u001b[0m,\u001b[1m7\u001b[0m)\n",
      "\u001b[1m6720\u001b[0m:\tP(\u001b[1m8\u001b[0m,\u001b[1m5\u001b[0m)\n",
      "\u001b[1m15120\u001b[0m:\tP(\u001b[1m9\u001b[0m,\u001b[1m5\u001b[0m)\n",
      "\u001b[1m20160\u001b[0m:\tP(\u001b[1m8\u001b[0m,\u001b[1m6\u001b[0m)\n",
      "\u001b[1m40320\u001b[0m:\tP(\u001b[1m8\u001b[0m,\u001b[1m7\u001b[0m), P(\u001b[1m8\u001b[0m,\u001b[1m8\u001b[0m)\n",
      "\u001b[1m60480\u001b[0m:\tP(\u001b[1m9\u001b[0m,\u001b[1m6\u001b[0m)\n",
      "\u001b[1m181440\u001b[0m:\tP(\u001b[1m9\u001b[0m,\u001b[1m7\u001b[0m)\n",
      "\u001b[1m362880\u001b[0m:\tP(\u001b[1m9\u001b[0m,\u001b[1m8\u001b[0m), P(\u001b[1m9\u001b[0m,\u001b[1m9\u001b[0m)\n"
     ]
    }
   ],
   "source": [
    "P_spam(byres=True)"
   ]
  },
  {
   "cell_type": "code",
   "execution_count": 30,
   "metadata": {
    "collapsed": true,
    "jupyter": {
     "outputs_hidden": true
    }
   },
   "outputs": [
    {
     "name": "stdout",
     "output_type": "stream",
     "text": [
      "\u001b[1m1\u001b[0m:\tD(\u001b[1m1\u001b[0m,\u001b[1m1\u001b[0m), D(\u001b[1m1\u001b[0m,\u001b[1m2\u001b[0m), D(\u001b[1m1\u001b[0m,\u001b[1m3\u001b[0m), D(\u001b[1m1\u001b[0m,\u001b[1m4\u001b[0m), D(\u001b[1m1\u001b[0m,\u001b[1m5\u001b[0m), D(\u001b[1m1\u001b[0m,\u001b[1m6\u001b[0m), D(\u001b[1m1\u001b[0m,\u001b[1m7\u001b[0m), D(\u001b[1m1\u001b[0m,\u001b[1m8\u001b[0m), D(\u001b[1m1\u001b[0m,\u001b[1m9\u001b[0m), D(\u001b[1m1\u001b[0m,\u001b[1m10\u001b[0m)\n",
      "\u001b[1m2\u001b[0m:\tD(\u001b[1m2\u001b[0m,\u001b[1m1\u001b[0m)\n",
      "\u001b[1m3\u001b[0m:\tD(\u001b[1m2\u001b[0m,\u001b[1m2\u001b[0m), D(\u001b[1m3\u001b[0m,\u001b[1m1\u001b[0m)\n",
      "\u001b[1m4\u001b[0m:\tD(\u001b[1m2\u001b[0m,\u001b[1m3\u001b[0m), D(\u001b[1m4\u001b[0m,\u001b[1m1\u001b[0m)\n",
      "\u001b[1m5\u001b[0m:\tD(\u001b[1m2\u001b[0m,\u001b[1m4\u001b[0m), D(\u001b[1m5\u001b[0m,\u001b[1m1\u001b[0m)\n",
      "\u001b[1m6\u001b[0m:\tD(\u001b[1m2\u001b[0m,\u001b[1m5\u001b[0m), D(\u001b[1m3\u001b[0m,\u001b[1m2\u001b[0m), D(\u001b[1m6\u001b[0m,\u001b[1m1\u001b[0m)\n",
      "\u001b[1m7\u001b[0m:\tD(\u001b[1m2\u001b[0m,\u001b[1m6\u001b[0m), D(\u001b[1m7\u001b[0m,\u001b[1m1\u001b[0m)\n",
      "\u001b[1m8\u001b[0m:\tD(\u001b[1m2\u001b[0m,\u001b[1m7\u001b[0m), D(\u001b[1m8\u001b[0m,\u001b[1m1\u001b[0m)\n",
      "\u001b[1m9\u001b[0m:\tD(\u001b[1m2\u001b[0m,\u001b[1m8\u001b[0m), D(\u001b[1m9\u001b[0m,\u001b[1m1\u001b[0m)\n",
      "\u001b[1m10\u001b[0m:\tD(\u001b[1m2\u001b[0m,\u001b[1m9\u001b[0m), D(\u001b[1m3\u001b[0m,\u001b[1m3\u001b[0m), D(\u001b[1m4\u001b[0m,\u001b[1m2\u001b[0m), D(\u001b[1m10\u001b[0m,\u001b[1m1\u001b[0m)\n",
      "\u001b[1m11\u001b[0m:\tD(\u001b[1m2\u001b[0m,\u001b[1m10\u001b[0m)\n",
      "\u001b[1m15\u001b[0m:\tD(\u001b[1m3\u001b[0m,\u001b[1m4\u001b[0m), D(\u001b[1m5\u001b[0m,\u001b[1m2\u001b[0m)\n",
      "\u001b[1m20\u001b[0m:\tD(\u001b[1m4\u001b[0m,\u001b[1m3\u001b[0m)\n",
      "\u001b[1m21\u001b[0m:\tD(\u001b[1m3\u001b[0m,\u001b[1m5\u001b[0m), D(\u001b[1m6\u001b[0m,\u001b[1m2\u001b[0m)\n",
      "\u001b[1m28\u001b[0m:\tD(\u001b[1m3\u001b[0m,\u001b[1m6\u001b[0m), D(\u001b[1m7\u001b[0m,\u001b[1m2\u001b[0m)\n",
      "\u001b[1m35\u001b[0m:\tD(\u001b[1m4\u001b[0m,\u001b[1m4\u001b[0m), D(\u001b[1m5\u001b[0m,\u001b[1m3\u001b[0m)\n",
      "\u001b[1m36\u001b[0m:\tD(\u001b[1m3\u001b[0m,\u001b[1m7\u001b[0m), D(\u001b[1m8\u001b[0m,\u001b[1m2\u001b[0m)\n",
      "\u001b[1m45\u001b[0m:\tD(\u001b[1m3\u001b[0m,\u001b[1m8\u001b[0m), D(\u001b[1m9\u001b[0m,\u001b[1m2\u001b[0m)\n",
      "\u001b[1m55\u001b[0m:\tD(\u001b[1m3\u001b[0m,\u001b[1m9\u001b[0m), D(\u001b[1m10\u001b[0m,\u001b[1m2\u001b[0m)\n",
      "\u001b[1m56\u001b[0m:\tD(\u001b[1m4\u001b[0m,\u001b[1m5\u001b[0m), D(\u001b[1m6\u001b[0m,\u001b[1m3\u001b[0m)\n",
      "\u001b[1m66\u001b[0m:\tD(\u001b[1m3\u001b[0m,\u001b[1m10\u001b[0m)\n",
      "\u001b[1m70\u001b[0m:\tD(\u001b[1m5\u001b[0m,\u001b[1m4\u001b[0m)\n",
      "\u001b[1m84\u001b[0m:\tD(\u001b[1m4\u001b[0m,\u001b[1m6\u001b[0m), D(\u001b[1m7\u001b[0m,\u001b[1m3\u001b[0m)\n",
      "\u001b[1m120\u001b[0m:\tD(\u001b[1m4\u001b[0m,\u001b[1m7\u001b[0m), D(\u001b[1m8\u001b[0m,\u001b[1m3\u001b[0m)\n",
      "\u001b[1m126\u001b[0m:\tD(\u001b[1m5\u001b[0m,\u001b[1m5\u001b[0m), D(\u001b[1m6\u001b[0m,\u001b[1m4\u001b[0m)\n",
      "\u001b[1m165\u001b[0m:\tD(\u001b[1m4\u001b[0m,\u001b[1m8\u001b[0m), D(\u001b[1m9\u001b[0m,\u001b[1m3\u001b[0m)\n",
      "\u001b[1m210\u001b[0m:\tD(\u001b[1m5\u001b[0m,\u001b[1m6\u001b[0m), D(\u001b[1m7\u001b[0m,\u001b[1m4\u001b[0m)\n",
      "\u001b[1m220\u001b[0m:\tD(\u001b[1m4\u001b[0m,\u001b[1m9\u001b[0m), D(\u001b[1m10\u001b[0m,\u001b[1m3\u001b[0m)\n",
      "\u001b[1m252\u001b[0m:\tD(\u001b[1m6\u001b[0m,\u001b[1m5\u001b[0m)\n",
      "\u001b[1m286\u001b[0m:\tD(\u001b[1m4\u001b[0m,\u001b[1m10\u001b[0m)\n",
      "\u001b[1m330\u001b[0m:\tD(\u001b[1m5\u001b[0m,\u001b[1m7\u001b[0m), D(\u001b[1m8\u001b[0m,\u001b[1m4\u001b[0m)\n",
      "\u001b[1m462\u001b[0m:\tD(\u001b[1m6\u001b[0m,\u001b[1m6\u001b[0m), D(\u001b[1m7\u001b[0m,\u001b[1m5\u001b[0m)\n",
      "\u001b[1m495\u001b[0m:\tD(\u001b[1m5\u001b[0m,\u001b[1m8\u001b[0m), D(\u001b[1m9\u001b[0m,\u001b[1m4\u001b[0m)\n",
      "\u001b[1m715\u001b[0m:\tD(\u001b[1m5\u001b[0m,\u001b[1m9\u001b[0m), D(\u001b[1m10\u001b[0m,\u001b[1m4\u001b[0m)\n",
      "\u001b[1m792\u001b[0m:\tD(\u001b[1m6\u001b[0m,\u001b[1m7\u001b[0m), D(\u001b[1m8\u001b[0m,\u001b[1m5\u001b[0m)\n",
      "\u001b[1m924\u001b[0m:\tD(\u001b[1m7\u001b[0m,\u001b[1m6\u001b[0m)\n",
      "\u001b[1m1001\u001b[0m:\tD(\u001b[1m5\u001b[0m,\u001b[1m10\u001b[0m)\n",
      "\u001b[1m1287\u001b[0m:\tD(\u001b[1m6\u001b[0m,\u001b[1m8\u001b[0m), D(\u001b[1m9\u001b[0m,\u001b[1m5\u001b[0m)\n",
      "\u001b[1m1716\u001b[0m:\tD(\u001b[1m7\u001b[0m,\u001b[1m7\u001b[0m), D(\u001b[1m8\u001b[0m,\u001b[1m6\u001b[0m)\n",
      "\u001b[1m2002\u001b[0m:\tD(\u001b[1m6\u001b[0m,\u001b[1m9\u001b[0m), D(\u001b[1m10\u001b[0m,\u001b[1m5\u001b[0m)\n",
      "\u001b[1m3003\u001b[0m:\tD(\u001b[1m6\u001b[0m,\u001b[1m10\u001b[0m), D(\u001b[1m7\u001b[0m,\u001b[1m8\u001b[0m), D(\u001b[1m9\u001b[0m,\u001b[1m6\u001b[0m)\n",
      "\u001b[1m3432\u001b[0m:\tD(\u001b[1m8\u001b[0m,\u001b[1m7\u001b[0m)\n",
      "\u001b[1m5005\u001b[0m:\tD(\u001b[1m7\u001b[0m,\u001b[1m9\u001b[0m), D(\u001b[1m10\u001b[0m,\u001b[1m6\u001b[0m)\n",
      "\u001b[1m6435\u001b[0m:\tD(\u001b[1m8\u001b[0m,\u001b[1m8\u001b[0m), D(\u001b[1m9\u001b[0m,\u001b[1m7\u001b[0m)\n",
      "\u001b[1m8008\u001b[0m:\tD(\u001b[1m7\u001b[0m,\u001b[1m10\u001b[0m)\n",
      "\u001b[1m11440\u001b[0m:\tD(\u001b[1m8\u001b[0m,\u001b[1m9\u001b[0m), D(\u001b[1m10\u001b[0m,\u001b[1m7\u001b[0m)\n",
      "\u001b[1m12870\u001b[0m:\tD(\u001b[1m9\u001b[0m,\u001b[1m8\u001b[0m)\n",
      "\u001b[1m19448\u001b[0m:\tD(\u001b[1m8\u001b[0m,\u001b[1m10\u001b[0m)\n",
      "\u001b[1m24310\u001b[0m:\tD(\u001b[1m9\u001b[0m,\u001b[1m9\u001b[0m), D(\u001b[1m10\u001b[0m,\u001b[1m8\u001b[0m)\n",
      "\u001b[1m43758\u001b[0m:\tD(\u001b[1m9\u001b[0m,\u001b[1m10\u001b[0m)\n",
      "\u001b[1m48620\u001b[0m:\tD(\u001b[1m10\u001b[0m,\u001b[1m9\u001b[0m)\n",
      "\u001b[1m92378\u001b[0m:\tD(\u001b[1m10\u001b[0m,\u001b[1m10\u001b[0m)\n"
     ]
    }
   ],
   "source": [
    "D_spam(byres=True)"
   ]
  },
  {
   "cell_type": "code",
   "execution_count": 4,
   "metadata": {
    "jupyter": {
     "outputs_hidden": true
    }
   },
   "outputs": [],
   "source": [
    "C_spam(byres=True)"
   ]
  },
  {
   "cell_type": "code",
   "execution_count": 8,
   "metadata": {
    "collapsed": true
   },
   "outputs": [
    {
     "name": "stdout",
     "output_type": "stream",
     "text": [
      "P(\u001b[1m4\u001b[0m,\u001b[1m2\u001b[0m)\n",
      "\t\u001b[1m12\u001b[0m ways to organize \u001b[1m2\u001b[0m letters from a collection of \u001b[1m4\u001b[0m letters\n",
      "\t• Order matters, so 'BA' and 'AB' are both counted.\n",
      "\t• No repetitions allowed\n",
      "P(\u001b[1m4\u001b[0m,\u001b[1m2\u001b[0m) \u001b[97mvI\u001b[0m  = \u001b[1m4\u001b[0m·\u001b[1m3\u001b[0m\n",
      "P(\u001b[1m4\u001b[0m,\u001b[1m2\u001b[0m) \u001b[97mvII\u001b[0m = (\u001b[1m4\u001b[0m·\u001b[1m3\u001b[0m·\u001b[1m2\u001b[0m·\u001b[1m1\u001b[0m)/(\u001b[1m2\u001b[0m·\u001b[1m1\u001b[0m) = \u001b[1m24\u001b[0m/\u001b[1m2\u001b[0m\n",
      "P(\u001b[1m4\u001b[0m,\u001b[1m2\u001b[0m) \u001b[97mvIII\u001b[0m = (\u001b[1m2\u001b[0m·\u001b[1m1\u001b[0m) · ( (\u001b[1m4\u001b[0m·\u001b[1m3\u001b[0m)/(\u001b[1m2\u001b[0m·\u001b[1m1\u001b[0m) ) = \u001b[1m2\u001b[0m · \u001b[1m12\u001b[0m/\u001b[1m2\u001b[0m\n",
      "\n",
      "\u001b[1mP Examples\u001b[0m\n",
      "P(\u001b[1m4\u001b[0m,\u001b[1m2\u001b[0m) from ABCD:\n",
      "\u001b[1m1\u001b[0m:\tAB\n",
      "\u001b[1m2\u001b[0m:\tAC\n",
      "\u001b[1m3\u001b[0m:\tAD\n",
      "\u001b[1m4\u001b[0m:\tBA\n",
      "\u001b[1m5\u001b[0m:\tBC\n",
      "\u001b[1m6\u001b[0m:\tBD\n",
      "\u001b[1m7\u001b[0m:\tCA\n",
      "\u001b[1m8\u001b[0m:\tCB\n",
      "\u001b[1m9\u001b[0m:\tCD\n",
      "\u001b[1m10\u001b[0m:\tDA\n",
      "\u001b[1m11\u001b[0m:\tDB\n",
      "\u001b[1m12\u001b[0m:\tDC\n"
     ]
    },
    {
     "data": {
      "text/plain": [
       "12"
      ]
     },
     "execution_count": 8,
     "metadata": {},
     "output_type": "execute_result"
    }
   ],
   "source": [
    "P(4,2,explain=True,identities=True, example=True)"
   ]
  },
  {
   "cell_type": "code",
   "execution_count": 48,
   "metadata": {
    "code_folding": []
   },
   "outputs": [
    {
     "name": "stdout",
     "output_type": "stream",
     "text": [
      "\tS\u001b[1m1\u001b[0m(n=\u001b[1m4\u001b[0m,j=\u001b[1m3\u001b[0m)\n",
      "\t\t\u001b[1m0\u001b[0m.\u001b[1m16666666666666666\u001b[0m∙∑\n",
      "\t\t\t(-\u001b[1m1\u001b[0m)^\u001b[1m0\u001b[0m∙C(j,\u001b[1m0\u001b[0m)∙(j-\u001b[1m0\u001b[0m)^\u001b[1m4\u001b[0m = \u001b[1m1\u001b[0m(\u001b[1m1\u001b[0m)∙(\u001b[1m3\u001b[0m)^\u001b[1m4\u001b[0m = \u001b[1m81\u001b[0m\n",
      "\t\t\t(-\u001b[1m1\u001b[0m)^\u001b[1m1\u001b[0m∙C(j,\u001b[1m1\u001b[0m)∙(j-\u001b[1m1\u001b[0m)^\u001b[1m4\u001b[0m = -\u001b[1m1\u001b[0m(\u001b[1m3\u001b[0m)∙(\u001b[1m2\u001b[0m)^\u001b[1m4\u001b[0m = -\u001b[1m48\u001b[0m\n",
      "\t\t\t(-\u001b[1m1\u001b[0m)^\u001b[1m2\u001b[0m∙C(j,\u001b[1m2\u001b[0m)∙(j-\u001b[1m2\u001b[0m)^\u001b[1m4\u001b[0m = \u001b[1m1\u001b[0m(\u001b[1m3\u001b[0m)∙(\u001b[1m1\u001b[0m)^\u001b[1m4\u001b[0m = \u001b[1m3\u001b[0m\n",
      "\t\t\t= \u001b[1m6\u001b[0m.\u001b[1m0\u001b[0m\n"
     ]
    },
    {
     "data": {
      "text/plain": [
       "6.0"
      ]
     },
     "execution_count": 48,
     "metadata": {},
     "output_type": "execute_result"
    }
   ],
   "source": [
    "def S1(n,j):\n",
    "    \"\"\"\n",
    "    n distinguishable objects into j indistinguishable boxes,\n",
    "    so that no box is empty\n",
    "    \"\"\"\n",
    "    print(f'\\tS1({n=},{j=})')\n",
    "    scalar = 1/fac(j)\n",
    "    print(f'\\t\\t{scalar}∙∑')\n",
    "    res = 0\n",
    "    for i in range(j):\n",
    "        \n",
    "        sign = ((-1)**i)\n",
    "        Cji = C(j,i,example=False,explain=False,identities=False)\n",
    "        j_minus_i = j-i\n",
    "        tmp = sign * Cji * (j_minus_i**n)\n",
    "        print(f'\\t\\t\\t(-1)^{i}∙C(j,{i})∙(j-{i})^{n} = {sign}({Cji})∙({j_minus_i})^{n} = {tmp}')\n",
    "        res += tmp\n",
    "    rv = scalar * res\n",
    "    print(f'\\t\\t\\t= {rv}')\n",
    "    return rv\n",
    "\n",
    "\n",
    "S1(4,3)"
   ]
  },
  {
   "cell_type": "code",
   "execution_count": 46,
   "metadata": {
    "code_folding": []
   },
   "outputs": [
    {
     "name": "stdout",
     "output_type": "stream",
     "text": [
      "S\u001b[1m2\u001b[0m(\u001b[1m2\u001b[0m,\u001b[1m3\u001b[0m)\n",
      "\tS\u001b[1m1\u001b[0m(\u001b[1m2\u001b[0m,\u001b[1m1\u001b[0m)\n",
      "\ti=\u001b[1m0\u001b[0m, tmp=\u001b[1m1\u001b[0m, (-\u001b[1m1\u001b[0m)**i=\u001b[1m1\u001b[0m, Cji=\u001b[1m1\u001b[0m, j-i=\u001b[1m1\u001b[0m, (j-i)**n=\u001b[1m1\u001b[0m\n",
      "\n",
      "S\u001b[1m1\u001b[0m(\u001b[1m2\u001b[0m,\u001b[1m1\u001b[0m) -> \u001b[1m1\u001b[0m.\u001b[1m0\u001b[0m | scalar=\u001b[1m1\u001b[0m.\u001b[1m0\u001b[0m\n",
      "\tj=\u001b[1m1\u001b[0m, k=\u001b[1m3\u001b[0m, s=\u001b[1m1\u001b[0m.\u001b[1m0\u001b[0m, res=\u001b[1m1\u001b[0m.\u001b[1m0\u001b[0m\n",
      "\tS\u001b[1m1\u001b[0m(\u001b[1m2\u001b[0m,\u001b[1m2\u001b[0m)\n",
      "\ti=\u001b[1m0\u001b[0m, tmp=\u001b[1m4\u001b[0m, (-\u001b[1m1\u001b[0m)**i=\u001b[1m1\u001b[0m, Cji=\u001b[1m1\u001b[0m, j-i=\u001b[1m2\u001b[0m, (j-i)**n=\u001b[1m4\u001b[0m\n",
      "\ti=\u001b[1m1\u001b[0m, tmp=-\u001b[1m2\u001b[0m, (-\u001b[1m1\u001b[0m)**i=-\u001b[1m1\u001b[0m, Cji=\u001b[1m2\u001b[0m, j-i=\u001b[1m1\u001b[0m, (j-i)**n=\u001b[1m1\u001b[0m\n",
      "\n",
      "S\u001b[1m1\u001b[0m(\u001b[1m2\u001b[0m,\u001b[1m2\u001b[0m) -> \u001b[1m1\u001b[0m.\u001b[1m0\u001b[0m | scalar=\u001b[1m0\u001b[0m.\u001b[1m5\u001b[0m\n",
      "\tj=\u001b[1m2\u001b[0m, k=\u001b[1m3\u001b[0m, s=\u001b[1m1\u001b[0m.\u001b[1m0\u001b[0m, res=\u001b[1m2\u001b[0m.\u001b[1m0\u001b[0m\n",
      "\tS\u001b[1m1\u001b[0m(\u001b[1m2\u001b[0m,\u001b[1m3\u001b[0m)\n",
      "\ti=\u001b[1m0\u001b[0m, tmp=\u001b[1m9\u001b[0m, (-\u001b[1m1\u001b[0m)**i=\u001b[1m1\u001b[0m, Cji=\u001b[1m1\u001b[0m, j-i=\u001b[1m3\u001b[0m, (j-i)**n=\u001b[1m9\u001b[0m\n",
      "\ti=\u001b[1m1\u001b[0m, tmp=-\u001b[1m12\u001b[0m, (-\u001b[1m1\u001b[0m)**i=-\u001b[1m1\u001b[0m, Cji=\u001b[1m3\u001b[0m, j-i=\u001b[1m2\u001b[0m, (j-i)**n=\u001b[1m4\u001b[0m\n",
      "\ti=\u001b[1m2\u001b[0m, tmp=\u001b[1m3\u001b[0m, (-\u001b[1m1\u001b[0m)**i=\u001b[1m1\u001b[0m, Cji=\u001b[1m3\u001b[0m, j-i=\u001b[1m1\u001b[0m, (j-i)**n=\u001b[1m1\u001b[0m\n",
      "\n",
      "S\u001b[1m1\u001b[0m(\u001b[1m2\u001b[0m,\u001b[1m3\u001b[0m) -> \u001b[1m0\u001b[0m.\u001b[1m0\u001b[0m | scalar=\u001b[1m0\u001b[0m.\u001b[1m16666666666666666\u001b[0m\n",
      "\tj=\u001b[1m3\u001b[0m, k=\u001b[1m3\u001b[0m, s=\u001b[1m0\u001b[0m.\u001b[1m0\u001b[0m, res=\u001b[1m2\u001b[0m.\u001b[1m0\u001b[0m\n",
      "\t-> \u001b[1m2\u001b[0m.\u001b[1m0\u001b[0m\n"
     ]
    },
    {
     "data": {
      "text/plain": [
       "2"
      ]
     },
     "execution_count": 46,
     "metadata": {},
     "output_type": "execute_result"
    }
   ],
   "source": [
    "def S2(n,k):\n",
    "    \"\"\"\n",
    "    n distinguishable objects into k indistinguishable boxes\n",
    "    \"\"\"\n",
    "    res = 0\n",
    "    print(f'S2({n},{k})')\n",
    "    for j in range(1,k+1):\n",
    "        s = S1(n,j)\n",
    "        res+=s\n",
    "        print(f'\\t{j=}, {k=}, {s=}, {res=}')\n",
    "    print(f'\\t-> {res}')\n",
    "    return int(res)\n",
    "\n",
    "S2(2,3)"
   ]
  },
  {
   "cell_type": "code",
   "execution_count": 40,
   "metadata": {
    "code_folding": [
     0
    ]
   },
   "outputs": [],
   "source": [
    "def S_spam(*, byres=False):\n",
    "    results = defaultdict(list)\n",
    "    for n in range(1, 10):\n",
    "        for k in range(1, 10):\n",
    "            rv = S2(n,k)\n",
    "            if byres:\n",
    "                results[rv].append(f\"S({n},{k})\")\n",
    "            else:\n",
    "                print(f\"S({n},{k}): {rv}\")\n",
    "        \n",
    "    if byres:\n",
    "        for res, how in sorted(results.items()):\n",
    "            print(f\"{res}:\\t{', '.join(how)}\")"
   ]
  },
  {
   "cell_type": "code",
   "execution_count": 29,
   "metadata": {},
   "outputs": [
    {
     "name": "stdout",
     "output_type": "stream",
     "text": [
      "\u001b[1m1\u001b[0m:\tS(\u001b[1m1\u001b[0m,\u001b[1m1\u001b[0m), S(\u001b[1m1\u001b[0m,\u001b[1m2\u001b[0m), S(\u001b[1m1\u001b[0m,\u001b[1m3\u001b[0m), S(\u001b[1m1\u001b[0m,\u001b[1m4\u001b[0m), S(\u001b[1m1\u001b[0m,\u001b[1m5\u001b[0m), S(\u001b[1m1\u001b[0m,\u001b[1m6\u001b[0m), S(\u001b[1m1\u001b[0m,\u001b[1m7\u001b[0m), S(\u001b[1m1\u001b[0m,\u001b[1m8\u001b[0m), S(\u001b[1m1\u001b[0m,\u001b[1m9\u001b[0m), S(\u001b[1m2\u001b[0m,\u001b[1m1\u001b[0m), S(\u001b[1m3\u001b[0m,\u001b[1m1\u001b[0m), S(\u001b[1m4\u001b[0m,\u001b[1m1\u001b[0m), S(\u001b[1m5\u001b[0m,\u001b[1m1\u001b[0m), S(\u001b[1m6\u001b[0m,\u001b[1m1\u001b[0m), S(\u001b[1m7\u001b[0m,\u001b[1m1\u001b[0m), S(\u001b[1m8\u001b[0m,\u001b[1m1\u001b[0m), S(\u001b[1m9\u001b[0m,\u001b[1m1\u001b[0m)\n",
      "\u001b[1m2\u001b[0m:\tS(\u001b[1m2\u001b[0m,\u001b[1m2\u001b[0m), S(\u001b[1m2\u001b[0m,\u001b[1m3\u001b[0m), S(\u001b[1m2\u001b[0m,\u001b[1m4\u001b[0m), S(\u001b[1m2\u001b[0m,\u001b[1m5\u001b[0m), S(\u001b[1m2\u001b[0m,\u001b[1m6\u001b[0m), S(\u001b[1m2\u001b[0m,\u001b[1m7\u001b[0m), S(\u001b[1m2\u001b[0m,\u001b[1m8\u001b[0m), S(\u001b[1m2\u001b[0m,\u001b[1m9\u001b[0m)\n",
      "\u001b[1m4\u001b[0m:\tS(\u001b[1m3\u001b[0m,\u001b[1m2\u001b[0m)\n",
      "\u001b[1m5\u001b[0m:\tS(\u001b[1m3\u001b[0m,\u001b[1m3\u001b[0m), S(\u001b[1m3\u001b[0m,\u001b[1m4\u001b[0m), S(\u001b[1m3\u001b[0m,\u001b[1m5\u001b[0m), S(\u001b[1m3\u001b[0m,\u001b[1m6\u001b[0m), S(\u001b[1m3\u001b[0m,\u001b[1m7\u001b[0m), S(\u001b[1m3\u001b[0m,\u001b[1m8\u001b[0m), S(\u001b[1m3\u001b[0m,\u001b[1m9\u001b[0m)\n",
      "\u001b[1m8\u001b[0m:\tS(\u001b[1m4\u001b[0m,\u001b[1m2\u001b[0m)\n",
      "\u001b[1m14\u001b[0m:\tS(\u001b[1m4\u001b[0m,\u001b[1m3\u001b[0m)\n",
      "\u001b[1m15\u001b[0m:\tS(\u001b[1m4\u001b[0m,\u001b[1m4\u001b[0m), S(\u001b[1m4\u001b[0m,\u001b[1m5\u001b[0m), S(\u001b[1m4\u001b[0m,\u001b[1m6\u001b[0m), S(\u001b[1m4\u001b[0m,\u001b[1m7\u001b[0m), S(\u001b[1m4\u001b[0m,\u001b[1m8\u001b[0m), S(\u001b[1m4\u001b[0m,\u001b[1m9\u001b[0m)\n",
      "\u001b[1m16\u001b[0m:\tS(\u001b[1m5\u001b[0m,\u001b[1m2\u001b[0m)\n",
      "\u001b[1m32\u001b[0m:\tS(\u001b[1m6\u001b[0m,\u001b[1m2\u001b[0m)\n",
      "\u001b[1m41\u001b[0m:\tS(\u001b[1m5\u001b[0m,\u001b[1m3\u001b[0m)\n",
      "\u001b[1m51\u001b[0m:\tS(\u001b[1m5\u001b[0m,\u001b[1m4\u001b[0m)\n",
      "\u001b[1m52\u001b[0m:\tS(\u001b[1m5\u001b[0m,\u001b[1m5\u001b[0m), S(\u001b[1m5\u001b[0m,\u001b[1m6\u001b[0m), S(\u001b[1m5\u001b[0m,\u001b[1m7\u001b[0m), S(\u001b[1m5\u001b[0m,\u001b[1m8\u001b[0m), S(\u001b[1m5\u001b[0m,\u001b[1m9\u001b[0m)\n",
      "\u001b[1m64\u001b[0m:\tS(\u001b[1m7\u001b[0m,\u001b[1m2\u001b[0m)\n",
      "\u001b[1m122\u001b[0m:\tS(\u001b[1m6\u001b[0m,\u001b[1m3\u001b[0m)\n",
      "\u001b[1m128\u001b[0m:\tS(\u001b[1m8\u001b[0m,\u001b[1m2\u001b[0m)\n",
      "\u001b[1m187\u001b[0m:\tS(\u001b[1m6\u001b[0m,\u001b[1m4\u001b[0m)\n",
      "\u001b[1m202\u001b[0m:\tS(\u001b[1m6\u001b[0m,\u001b[1m5\u001b[0m)\n",
      "\u001b[1m203\u001b[0m:\tS(\u001b[1m6\u001b[0m,\u001b[1m6\u001b[0m), S(\u001b[1m6\u001b[0m,\u001b[1m7\u001b[0m), S(\u001b[1m6\u001b[0m,\u001b[1m8\u001b[0m), S(\u001b[1m6\u001b[0m,\u001b[1m9\u001b[0m)\n",
      "\u001b[1m256\u001b[0m:\tS(\u001b[1m9\u001b[0m,\u001b[1m2\u001b[0m)\n",
      "\u001b[1m365\u001b[0m:\tS(\u001b[1m7\u001b[0m,\u001b[1m3\u001b[0m)\n",
      "\u001b[1m715\u001b[0m:\tS(\u001b[1m7\u001b[0m,\u001b[1m4\u001b[0m)\n",
      "\u001b[1m855\u001b[0m:\tS(\u001b[1m7\u001b[0m,\u001b[1m5\u001b[0m)\n",
      "\u001b[1m876\u001b[0m:\tS(\u001b[1m7\u001b[0m,\u001b[1m6\u001b[0m)\n",
      "\u001b[1m877\u001b[0m:\tS(\u001b[1m7\u001b[0m,\u001b[1m7\u001b[0m), S(\u001b[1m7\u001b[0m,\u001b[1m8\u001b[0m), S(\u001b[1m7\u001b[0m,\u001b[1m9\u001b[0m)\n",
      "\u001b[1m1094\u001b[0m:\tS(\u001b[1m8\u001b[0m,\u001b[1m3\u001b[0m)\n",
      "\u001b[1m2795\u001b[0m:\tS(\u001b[1m8\u001b[0m,\u001b[1m4\u001b[0m)\n",
      "\u001b[1m3281\u001b[0m:\tS(\u001b[1m9\u001b[0m,\u001b[1m3\u001b[0m)\n",
      "\u001b[1m3845\u001b[0m:\tS(\u001b[1m8\u001b[0m,\u001b[1m5\u001b[0m)\n",
      "\u001b[1m4111\u001b[0m:\tS(\u001b[1m8\u001b[0m,\u001b[1m6\u001b[0m)\n",
      "\u001b[1m4139\u001b[0m:\tS(\u001b[1m8\u001b[0m,\u001b[1m7\u001b[0m)\n",
      "\u001b[1m4140\u001b[0m:\tS(\u001b[1m8\u001b[0m,\u001b[1m8\u001b[0m), S(\u001b[1m8\u001b[0m,\u001b[1m9\u001b[0m)\n",
      "\u001b[1m11051\u001b[0m:\tS(\u001b[1m9\u001b[0m,\u001b[1m4\u001b[0m)\n",
      "\u001b[1m18002\u001b[0m:\tS(\u001b[1m9\u001b[0m,\u001b[1m5\u001b[0m)\n",
      "\u001b[1m20648\u001b[0m:\tS(\u001b[1m9\u001b[0m,\u001b[1m6\u001b[0m)\n",
      "\u001b[1m21110\u001b[0m:\tS(\u001b[1m9\u001b[0m,\u001b[1m7\u001b[0m)\n",
      "\u001b[1m21146\u001b[0m:\tS(\u001b[1m9\u001b[0m,\u001b[1m8\u001b[0m)\n",
      "\u001b[1m21147\u001b[0m:\tS(\u001b[1m9\u001b[0m,\u001b[1m9\u001b[0m)\n"
     ]
    }
   ],
   "source": [
    "S_spam(byres=True)"
   ]
  },
  {
   "cell_type": "code",
   "execution_count": 35,
   "metadata": {
    "cell_style": "center"
   },
   "outputs": [
    {
     "name": "stdout",
     "output_type": "stream",
     "text": [
      "D(\u001b[1m3\u001b[0m,\u001b[1m2\u001b[0m) \u001b[97mvI\u001b[0m\n",
      "\t\u001b[1m6\u001b[0m ways to place \u001b[1m2\u001b[0m identical balls in \u001b[1m3\u001b[0m partitions\n",
      "\t\u001b[1m6\u001b[0m ways to choose \u001b[1m2\u001b[0m from 'ABC' with repetition\n",
      "\t\u001b[1m6\u001b[0m possible solutions to a+b+c=\u001b[1m2\u001b[0m\n",
      "\t• With repetitions\n",
      "\t• Order doesn't matter, so '○○' and '○○' count as one thing\n",
      "\n",
      "\u001b[1mD(3,2) Examples\u001b[0m\n",
      "\u001b[1m1\u001b[0m:\t◯|◯|\n",
      "\u001b[1m2\u001b[0m:\t|◯|◯\n",
      "\u001b[1m3\u001b[0m:\t◯||◯\n",
      "\u001b[1m4\u001b[0m:\t◯◯||\n",
      "\u001b[1m5\u001b[0m:\t||◯◯\n",
      "\u001b[1m6\u001b[0m:\t|◯◯|\n",
      "\n"
     ]
    },
    {
     "data": {
      "text/plain": [
       "6"
      ]
     },
     "execution_count": 35,
     "metadata": {},
     "output_type": "execute_result"
    }
   ],
   "source": [
    "D(3,2, example=True)"
   ]
  },
  {
   "cell_type": "code",
   "execution_count": null,
   "metadata": {},
   "outputs": [],
   "source": []
  }
 ],
 "metadata": {
  "hide_input": false,
  "kernelspec": {
   "display_name": "Python 3",
   "language": "python",
   "name": "python3"
  },
  "language_info": {
   "codemirror_mode": {
    "name": "ipython",
    "version": 3
   },
   "file_extension": ".py",
   "mimetype": "text/x-python",
   "name": "python",
   "nbconvert_exporter": "python",
   "pygments_lexer": "ipython3",
   "version": "3.8.6"
  },
  "toc-showcode": true,
  "varInspector": {
   "cols": {
    "lenName": 16,
    "lenType": 16,
    "lenVar": 40
   },
   "kernels_config": {
    "python": {
     "delete_cmd_postfix": "",
     "delete_cmd_prefix": "del ",
     "library": "var_list.py",
     "varRefreshCmd": "print(var_dic_list())"
    },
    "r": {
     "delete_cmd_postfix": ") ",
     "delete_cmd_prefix": "rm(",
     "library": "var_list.r",
     "varRefreshCmd": "cat(var_dic_list()) "
    }
   },
   "position": {
    "height": "138.4px",
    "left": "1177px",
    "right": "20px",
    "top": "120px",
    "width": "340px"
   },
   "types_to_exclude": [
    "module",
    "function",
    "builtin_function_or_method",
    "instance",
    "_Feature"
   ],
   "window_display": false
  }
 },
 "nbformat": 4,
 "nbformat_minor": 4
}
