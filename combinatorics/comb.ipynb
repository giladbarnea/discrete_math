{
 "cells": [
  {
   "cell_type": "code",
   "execution_count": 1,
   "metadata": {},
   "outputs": [],
   "source": [
    "from itertools import permutations, product, combinations_with_replacement as comb_w_rep\n",
    "from comb import *"
   ]
  },
  {
   "cell_type": "code",
   "execution_count": 10,
   "metadata": {
    "collapsed": true,
    "jupyter": {
     "outputs_hidden": true
    }
   },
   "outputs": [
    {
     "name": "stdout",
     "output_type": "stream",
     "text": [
      "D(\u001b[1m1\u001b[0m,\u001b[1m3\u001b[0m) \u001b[97mvI\u001b[0m\n",
      "\t\u001b[1m1\u001b[0m ways to place \u001b[1m3\u001b[0m identical balls in \u001b[1m1\u001b[0m partitions\n",
      "\t\u001b[1m1\u001b[0m ways to choose \u001b[1m3\u001b[0m from 'A' with repetition\n",
      "\t\u001b[1m1\u001b[0m possible solutions to a=\u001b[1m3\u001b[0m\n",
      "\t• With repetitions\n",
      "\t• Order doesn't matter, so '○○○' and '○○○' count as one thing\n",
      "D(\u001b[1m1\u001b[0m,\u001b[1m3\u001b[0m) \u001b[97mvIa\u001b[0m  = C(\u001b[1m3\u001b[0m,\u001b[1m3\u001b[0m) \u001b[97mvI\u001b[0m  = P(\u001b[1m3\u001b[0m,\u001b[1m3\u001b[0m)/P(\u001b[1m3\u001b[0m) = (\u001b[1m3\u001b[0m·\u001b[1m2\u001b[0m·\u001b[1m1\u001b[0m)/(\u001b[1m3\u001b[0m·\u001b[1m2\u001b[0m·\u001b[1m1\u001b[0m) = \u001b[1m6\u001b[0m/\u001b[1m6\u001b[0m = \u001b[1m1\u001b[0m\n",
      "D(\u001b[1m1\u001b[0m,\u001b[1m3\u001b[0m) \u001b[97mvIb\u001b[0m  = C(\u001b[1m3\u001b[0m,\u001b[1m0\u001b[0m) \u001b[97mvII\u001b[0m = P(\u001b[1m3\u001b[0m,\u001b[1m0\u001b[0m)/P(\u001b[1m0\u001b[0m) = (\u001b[1m3\u001b[0m)/(\u001b[1m1\u001b[0m) = \u001b[1m3\u001b[0m/\u001b[1m1\u001b[0m = \u001b[1m1\u001b[0m\n",
      "\n",
      "C(\u001b[1m3\u001b[0m,\u001b[1m3\u001b[0m) \u001b[97mvI\u001b[0m\n",
      "\t\u001b[1m1\u001b[0m ways to select \u001b[1m3\u001b[0m different letters from \u001b[1m3\u001b[0m letters\n",
      "\tset {\u001b[1m1\u001b[0m, \u001b[1m2\u001b[0m, \u001b[1m3\u001b[0m} has \u001b[1m1\u001b[0m subsets whose size=\u001b[1m3\u001b[0m\n",
      "\t• Order doesn't matter, so 'ABC' and 'BCA' count as one thing\n",
      "\t• No repetitions allowed\n",
      "\n",
      "\u001b[1mC Examples\u001b[0m\n",
      "C(\u001b[1m3\u001b[0m,\u001b[1m3\u001b[0m) from ABC:\n",
      "\u001b[1m1\u001b[0m:\tABC\n",
      "\n",
      "\n",
      "D(\u001b[1m4\u001b[0m,\u001b[1m0\u001b[0m) \u001b[97mvII\u001b[0m\n",
      "\t\u001b[1m1\u001b[0m ways to place \u001b[1m0\u001b[0m balls in \u001b[1m4\u001b[0m partitions\n",
      "\t\u001b[1m1\u001b[0m ways to choose \u001b[1m0\u001b[0m from 'ABCD' with repetition\n",
      "\t\u001b[1m1\u001b[0m possible solutions to a+b+c+d=\u001b[1m0\u001b[0m\n",
      "D(\u001b[1m4\u001b[0m,\u001b[1m0\u001b[0m) \u001b[97mvIIa\u001b[0m = C(\u001b[1m3\u001b[0m,\u001b[1m0\u001b[0m) \u001b[97mvI\u001b[0m  = P(\u001b[1m3\u001b[0m,\u001b[1m0\u001b[0m)/P(\u001b[1m0\u001b[0m) = (\u001b[1m3\u001b[0m)/(\u001b[1m1\u001b[0m) = \u001b[1m3\u001b[0m/\u001b[1m1\u001b[0m\n",
      "D(\u001b[1m4\u001b[0m,\u001b[1m0\u001b[0m) \u001b[97mvIIb\u001b[0m = C(\u001b[1m3\u001b[0m,\u001b[1m3\u001b[0m) \u001b[97mvII\u001b[0m = P(\u001b[1m3\u001b[0m,\u001b[1m3\u001b[0m)/P(\u001b[1m3\u001b[0m) = (\u001b[1m3\u001b[0m·\u001b[1m2\u001b[0m·\u001b[1m1\u001b[0m)/(\u001b[1m3\u001b[0m·\u001b[1m2\u001b[0m·\u001b[1m1\u001b[0m) = \u001b[1m6\u001b[0m/\u001b[1m6\u001b[0m\n",
      "\n",
      "C(\u001b[1m3\u001b[0m,\u001b[1m0\u001b[0m) \u001b[97mvI\u001b[0m\n",
      "\t\u001b[1m1\u001b[0m ways to select \u001b[1m0\u001b[0m different letters from \u001b[1m3\u001b[0m letters\n",
      "\tset {\u001b[1m1\u001b[0m, \u001b[1m2\u001b[0m, \u001b[1m3\u001b[0m} has \u001b[1m1\u001b[0m subsets whose size=\u001b[1m0\u001b[0m\n",
      "\t• Order doesn't matter\n",
      "\t• No repetitions allowed\n",
      "\n",
      "\u001b[1mC Examples\u001b[0m\n",
      "C(\u001b[1m3\u001b[0m,\u001b[1m0\u001b[0m) from ABC:\n",
      "\u001b[1m1\u001b[0m:\t\n",
      "\n",
      "\n",
      "\u001b[1mD(1,3) Examples\u001b[0m\n",
      "\u001b[1m1\u001b[0m:\t○○○\n",
      "\n",
      "\u001b[1mD(4,0) Examples\u001b[0m\n",
      "\u001b[1m1\u001b[0m:\t|||\n",
      "\n"
     ]
    },
    {
     "data": {
      "text/plain": [
       "1"
      ]
     },
     "execution_count": 10,
     "metadata": {},
     "output_type": "execute_result"
    }
   ],
   "source": [
    "D(1, 3, explain=True, example=True, identities=True)"
   ]
  },
  {
   "cell_type": "code",
   "execution_count": 11,
   "metadata": {
    "cell_style": "center",
    "jupyter": {
     "outputs_hidden": true
    }
   },
   "outputs": [
    {
     "name": "stdout",
     "output_type": "stream",
     "text": [
      "\u001b[1m1\u001b[0m:\tP(\u001b[1m1\u001b[0m,\u001b[1m1\u001b[0m)\n",
      "\u001b[1m2\u001b[0m:\tP(\u001b[1m2\u001b[0m,\u001b[1m1\u001b[0m), P(\u001b[1m2\u001b[0m,\u001b[1m2\u001b[0m)\n",
      "\u001b[1m3\u001b[0m:\tP(\u001b[1m3\u001b[0m,\u001b[1m1\u001b[0m)\n",
      "\u001b[1m4\u001b[0m:\tP(\u001b[1m4\u001b[0m,\u001b[1m1\u001b[0m)\n",
      "\u001b[1m5\u001b[0m:\tP(\u001b[1m5\u001b[0m,\u001b[1m1\u001b[0m)\n",
      "\u001b[1m6\u001b[0m:\tP(\u001b[1m3\u001b[0m,\u001b[1m2\u001b[0m), P(\u001b[1m3\u001b[0m,\u001b[1m3\u001b[0m), P(\u001b[1m6\u001b[0m,\u001b[1m1\u001b[0m)\n",
      "\u001b[1m7\u001b[0m:\tP(\u001b[1m7\u001b[0m,\u001b[1m1\u001b[0m)\n",
      "\u001b[1m8\u001b[0m:\tP(\u001b[1m8\u001b[0m,\u001b[1m1\u001b[0m)\n",
      "\u001b[1m9\u001b[0m:\tP(\u001b[1m9\u001b[0m,\u001b[1m1\u001b[0m)\n",
      "\u001b[1m12\u001b[0m:\tP(\u001b[1m4\u001b[0m,\u001b[1m2\u001b[0m)\n",
      "\u001b[1m20\u001b[0m:\tP(\u001b[1m5\u001b[0m,\u001b[1m2\u001b[0m)\n",
      "\u001b[1m24\u001b[0m:\tP(\u001b[1m4\u001b[0m,\u001b[1m3\u001b[0m), P(\u001b[1m4\u001b[0m,\u001b[1m4\u001b[0m)\n",
      "\u001b[1m30\u001b[0m:\tP(\u001b[1m6\u001b[0m,\u001b[1m2\u001b[0m)\n",
      "\u001b[1m42\u001b[0m:\tP(\u001b[1m7\u001b[0m,\u001b[1m2\u001b[0m)\n",
      "\u001b[1m56\u001b[0m:\tP(\u001b[1m8\u001b[0m,\u001b[1m2\u001b[0m)\n",
      "\u001b[1m60\u001b[0m:\tP(\u001b[1m5\u001b[0m,\u001b[1m3\u001b[0m)\n",
      "\u001b[1m72\u001b[0m:\tP(\u001b[1m9\u001b[0m,\u001b[1m2\u001b[0m)\n",
      "\u001b[1m120\u001b[0m:\tP(\u001b[1m5\u001b[0m,\u001b[1m4\u001b[0m), P(\u001b[1m5\u001b[0m,\u001b[1m5\u001b[0m), P(\u001b[1m6\u001b[0m,\u001b[1m3\u001b[0m)\n",
      "\u001b[1m210\u001b[0m:\tP(\u001b[1m7\u001b[0m,\u001b[1m3\u001b[0m)\n",
      "\u001b[1m336\u001b[0m:\tP(\u001b[1m8\u001b[0m,\u001b[1m3\u001b[0m)\n",
      "\u001b[1m360\u001b[0m:\tP(\u001b[1m6\u001b[0m,\u001b[1m4\u001b[0m)\n",
      "\u001b[1m504\u001b[0m:\tP(\u001b[1m9\u001b[0m,\u001b[1m3\u001b[0m)\n",
      "\u001b[1m720\u001b[0m:\tP(\u001b[1m6\u001b[0m,\u001b[1m5\u001b[0m), P(\u001b[1m6\u001b[0m,\u001b[1m6\u001b[0m)\n",
      "\u001b[1m840\u001b[0m:\tP(\u001b[1m7\u001b[0m,\u001b[1m4\u001b[0m)\n",
      "\u001b[1m1680\u001b[0m:\tP(\u001b[1m8\u001b[0m,\u001b[1m4\u001b[0m)\n",
      "\u001b[1m2520\u001b[0m:\tP(\u001b[1m7\u001b[0m,\u001b[1m5\u001b[0m)\n",
      "\u001b[1m3024\u001b[0m:\tP(\u001b[1m9\u001b[0m,\u001b[1m4\u001b[0m)\n",
      "\u001b[1m5040\u001b[0m:\tP(\u001b[1m7\u001b[0m,\u001b[1m6\u001b[0m), P(\u001b[1m7\u001b[0m,\u001b[1m7\u001b[0m)\n",
      "\u001b[1m6720\u001b[0m:\tP(\u001b[1m8\u001b[0m,\u001b[1m5\u001b[0m)\n",
      "\u001b[1m15120\u001b[0m:\tP(\u001b[1m9\u001b[0m,\u001b[1m5\u001b[0m)\n",
      "\u001b[1m20160\u001b[0m:\tP(\u001b[1m8\u001b[0m,\u001b[1m6\u001b[0m)\n",
      "\u001b[1m40320\u001b[0m:\tP(\u001b[1m8\u001b[0m,\u001b[1m7\u001b[0m), P(\u001b[1m8\u001b[0m,\u001b[1m8\u001b[0m)\n",
      "\u001b[1m60480\u001b[0m:\tP(\u001b[1m9\u001b[0m,\u001b[1m6\u001b[0m)\n",
      "\u001b[1m181440\u001b[0m:\tP(\u001b[1m9\u001b[0m,\u001b[1m7\u001b[0m)\n",
      "\u001b[1m362880\u001b[0m:\tP(\u001b[1m9\u001b[0m,\u001b[1m8\u001b[0m), P(\u001b[1m9\u001b[0m,\u001b[1m9\u001b[0m)\n"
     ]
    }
   ],
   "source": [
    "P_spam(byres=True)"
   ]
  },
  {
   "cell_type": "code",
   "execution_count": 6,
   "metadata": {
    "collapsed": true,
    "jupyter": {
     "outputs_hidden": true
    }
   },
   "outputs": [
    {
     "name": "stdout",
     "output_type": "stream",
     "text": [
      "\u001b[1m1\u001b[0m:\tD(\u001b[1m1\u001b[0m,\u001b[1m1\u001b[0m), D(\u001b[1m1\u001b[0m,\u001b[1m2\u001b[0m), D(\u001b[1m1\u001b[0m,\u001b[1m3\u001b[0m), D(\u001b[1m1\u001b[0m,\u001b[1m4\u001b[0m), D(\u001b[1m1\u001b[0m,\u001b[1m5\u001b[0m), D(\u001b[1m1\u001b[0m,\u001b[1m6\u001b[0m), D(\u001b[1m1\u001b[0m,\u001b[1m7\u001b[0m), D(\u001b[1m1\u001b[0m,\u001b[1m8\u001b[0m), D(\u001b[1m1\u001b[0m,\u001b[1m9\u001b[0m), D(\u001b[1m1\u001b[0m,\u001b[1m10\u001b[0m)\n",
      "\u001b[1m2\u001b[0m:\tD(\u001b[1m2\u001b[0m,\u001b[1m1\u001b[0m)\n",
      "\u001b[1m3\u001b[0m:\tD(\u001b[1m2\u001b[0m,\u001b[1m2\u001b[0m), D(\u001b[1m3\u001b[0m,\u001b[1m1\u001b[0m)\n",
      "\u001b[1m4\u001b[0m:\tD(\u001b[1m2\u001b[0m,\u001b[1m3\u001b[0m), D(\u001b[1m4\u001b[0m,\u001b[1m1\u001b[0m)\n",
      "\u001b[1m5\u001b[0m:\tD(\u001b[1m2\u001b[0m,\u001b[1m4\u001b[0m), D(\u001b[1m5\u001b[0m,\u001b[1m1\u001b[0m)\n",
      "\u001b[1m6\u001b[0m:\tD(\u001b[1m2\u001b[0m,\u001b[1m5\u001b[0m), D(\u001b[1m3\u001b[0m,\u001b[1m2\u001b[0m), D(\u001b[1m6\u001b[0m,\u001b[1m1\u001b[0m)\n",
      "\u001b[1m7\u001b[0m:\tD(\u001b[1m2\u001b[0m,\u001b[1m6\u001b[0m), D(\u001b[1m7\u001b[0m,\u001b[1m1\u001b[0m)\n",
      "\u001b[1m8\u001b[0m:\tD(\u001b[1m2\u001b[0m,\u001b[1m7\u001b[0m), D(\u001b[1m8\u001b[0m,\u001b[1m1\u001b[0m)\n",
      "\u001b[1m9\u001b[0m:\tD(\u001b[1m2\u001b[0m,\u001b[1m8\u001b[0m), D(\u001b[1m9\u001b[0m,\u001b[1m1\u001b[0m)\n",
      "\u001b[1m10\u001b[0m:\tD(\u001b[1m2\u001b[0m,\u001b[1m9\u001b[0m), D(\u001b[1m3\u001b[0m,\u001b[1m3\u001b[0m), D(\u001b[1m4\u001b[0m,\u001b[1m2\u001b[0m), D(\u001b[1m10\u001b[0m,\u001b[1m1\u001b[0m)\n",
      "\u001b[1m11\u001b[0m:\tD(\u001b[1m2\u001b[0m,\u001b[1m10\u001b[0m)\n",
      "\u001b[1m15\u001b[0m:\tD(\u001b[1m3\u001b[0m,\u001b[1m4\u001b[0m), D(\u001b[1m5\u001b[0m,\u001b[1m2\u001b[0m)\n",
      "\u001b[1m20\u001b[0m:\tD(\u001b[1m4\u001b[0m,\u001b[1m3\u001b[0m)\n",
      "\u001b[1m21\u001b[0m:\tD(\u001b[1m3\u001b[0m,\u001b[1m5\u001b[0m), D(\u001b[1m6\u001b[0m,\u001b[1m2\u001b[0m)\n",
      "\u001b[1m28\u001b[0m:\tD(\u001b[1m3\u001b[0m,\u001b[1m6\u001b[0m), D(\u001b[1m7\u001b[0m,\u001b[1m2\u001b[0m)\n",
      "\u001b[1m35\u001b[0m:\tD(\u001b[1m4\u001b[0m,\u001b[1m4\u001b[0m), D(\u001b[1m5\u001b[0m,\u001b[1m3\u001b[0m)\n",
      "\u001b[1m36\u001b[0m:\tD(\u001b[1m3\u001b[0m,\u001b[1m7\u001b[0m), D(\u001b[1m8\u001b[0m,\u001b[1m2\u001b[0m)\n",
      "\u001b[1m45\u001b[0m:\tD(\u001b[1m3\u001b[0m,\u001b[1m8\u001b[0m), D(\u001b[1m9\u001b[0m,\u001b[1m2\u001b[0m)\n",
      "\u001b[1m55\u001b[0m:\tD(\u001b[1m3\u001b[0m,\u001b[1m9\u001b[0m), D(\u001b[1m10\u001b[0m,\u001b[1m2\u001b[0m)\n",
      "\u001b[1m56\u001b[0m:\tD(\u001b[1m4\u001b[0m,\u001b[1m5\u001b[0m), D(\u001b[1m6\u001b[0m,\u001b[1m3\u001b[0m)\n",
      "\u001b[1m66\u001b[0m:\tD(\u001b[1m3\u001b[0m,\u001b[1m10\u001b[0m)\n",
      "\u001b[1m70\u001b[0m:\tD(\u001b[1m5\u001b[0m,\u001b[1m4\u001b[0m)\n",
      "\u001b[1m84\u001b[0m:\tD(\u001b[1m4\u001b[0m,\u001b[1m6\u001b[0m), D(\u001b[1m7\u001b[0m,\u001b[1m3\u001b[0m)\n",
      "\u001b[1m120\u001b[0m:\tD(\u001b[1m4\u001b[0m,\u001b[1m7\u001b[0m), D(\u001b[1m8\u001b[0m,\u001b[1m3\u001b[0m)\n",
      "\u001b[1m126\u001b[0m:\tD(\u001b[1m5\u001b[0m,\u001b[1m5\u001b[0m), D(\u001b[1m6\u001b[0m,\u001b[1m4\u001b[0m)\n",
      "\u001b[1m165\u001b[0m:\tD(\u001b[1m4\u001b[0m,\u001b[1m8\u001b[0m), D(\u001b[1m9\u001b[0m,\u001b[1m3\u001b[0m)\n",
      "\u001b[1m210\u001b[0m:\tD(\u001b[1m5\u001b[0m,\u001b[1m6\u001b[0m), D(\u001b[1m7\u001b[0m,\u001b[1m4\u001b[0m)\n",
      "\u001b[1m220\u001b[0m:\tD(\u001b[1m4\u001b[0m,\u001b[1m9\u001b[0m), D(\u001b[1m10\u001b[0m,\u001b[1m3\u001b[0m)\n",
      "\u001b[1m252\u001b[0m:\tD(\u001b[1m6\u001b[0m,\u001b[1m5\u001b[0m)\n",
      "\u001b[1m286\u001b[0m:\tD(\u001b[1m4\u001b[0m,\u001b[1m10\u001b[0m)\n",
      "\u001b[1m330\u001b[0m:\tD(\u001b[1m5\u001b[0m,\u001b[1m7\u001b[0m), D(\u001b[1m8\u001b[0m,\u001b[1m4\u001b[0m)\n",
      "\u001b[1m462\u001b[0m:\tD(\u001b[1m6\u001b[0m,\u001b[1m6\u001b[0m), D(\u001b[1m7\u001b[0m,\u001b[1m5\u001b[0m)\n",
      "\u001b[1m495\u001b[0m:\tD(\u001b[1m5\u001b[0m,\u001b[1m8\u001b[0m), D(\u001b[1m9\u001b[0m,\u001b[1m4\u001b[0m)\n",
      "\u001b[1m715\u001b[0m:\tD(\u001b[1m5\u001b[0m,\u001b[1m9\u001b[0m), D(\u001b[1m10\u001b[0m,\u001b[1m4\u001b[0m)\n",
      "\u001b[1m792\u001b[0m:\tD(\u001b[1m6\u001b[0m,\u001b[1m7\u001b[0m), D(\u001b[1m8\u001b[0m,\u001b[1m5\u001b[0m)\n",
      "\u001b[1m924\u001b[0m:\tD(\u001b[1m7\u001b[0m,\u001b[1m6\u001b[0m)\n",
      "\u001b[1m1001\u001b[0m:\tD(\u001b[1m5\u001b[0m,\u001b[1m10\u001b[0m)\n",
      "\u001b[1m1287\u001b[0m:\tD(\u001b[1m6\u001b[0m,\u001b[1m8\u001b[0m), D(\u001b[1m9\u001b[0m,\u001b[1m5\u001b[0m)\n",
      "\u001b[1m1716\u001b[0m:\tD(\u001b[1m7\u001b[0m,\u001b[1m7\u001b[0m), D(\u001b[1m8\u001b[0m,\u001b[1m6\u001b[0m)\n",
      "\u001b[1m2002\u001b[0m:\tD(\u001b[1m6\u001b[0m,\u001b[1m9\u001b[0m), D(\u001b[1m10\u001b[0m,\u001b[1m5\u001b[0m)\n",
      "\u001b[1m3003\u001b[0m:\tD(\u001b[1m6\u001b[0m,\u001b[1m10\u001b[0m), D(\u001b[1m7\u001b[0m,\u001b[1m8\u001b[0m), D(\u001b[1m9\u001b[0m,\u001b[1m6\u001b[0m)\n",
      "\u001b[1m3432\u001b[0m:\tD(\u001b[1m8\u001b[0m,\u001b[1m7\u001b[0m)\n",
      "\u001b[1m5005\u001b[0m:\tD(\u001b[1m7\u001b[0m,\u001b[1m9\u001b[0m), D(\u001b[1m10\u001b[0m,\u001b[1m6\u001b[0m)\n",
      "\u001b[1m6435\u001b[0m:\tD(\u001b[1m8\u001b[0m,\u001b[1m8\u001b[0m), D(\u001b[1m9\u001b[0m,\u001b[1m7\u001b[0m)\n",
      "\u001b[1m8008\u001b[0m:\tD(\u001b[1m7\u001b[0m,\u001b[1m10\u001b[0m)\n",
      "\u001b[1m11440\u001b[0m:\tD(\u001b[1m8\u001b[0m,\u001b[1m9\u001b[0m), D(\u001b[1m10\u001b[0m,\u001b[1m7\u001b[0m)\n",
      "\u001b[1m12870\u001b[0m:\tD(\u001b[1m9\u001b[0m,\u001b[1m8\u001b[0m)\n",
      "\u001b[1m19448\u001b[0m:\tD(\u001b[1m8\u001b[0m,\u001b[1m10\u001b[0m)\n",
      "\u001b[1m24310\u001b[0m:\tD(\u001b[1m9\u001b[0m,\u001b[1m9\u001b[0m), D(\u001b[1m10\u001b[0m,\u001b[1m8\u001b[0m)\n",
      "\u001b[1m43758\u001b[0m:\tD(\u001b[1m9\u001b[0m,\u001b[1m10\u001b[0m)\n",
      "\u001b[1m48620\u001b[0m:\tD(\u001b[1m10\u001b[0m,\u001b[1m9\u001b[0m)\n",
      "\u001b[1m92378\u001b[0m:\tD(\u001b[1m10\u001b[0m,\u001b[1m10\u001b[0m)\n"
     ]
    }
   ],
   "source": [
    "D_spam(byres=True)"
   ]
  },
  {
   "cell_type": "code",
   "execution_count": 4,
   "metadata": {
    "collapsed": true,
    "jupyter": {
     "outputs_hidden": true
    }
   },
   "outputs": [],
   "source": [
    "C_spam(byres=True)"
   ]
  },
  {
   "cell_type": "code",
   "execution_count": 5,
   "metadata": {
    "collapsed": true,
    "jupyter": {
     "outputs_hidden": true
    }
   },
   "outputs": [
    {
     "name": "stdout",
     "output_type": "stream",
     "text": [
      "\u001b[1m5\u001b[0m:\tD(\u001b[1m2\u001b[0m,\u001b[1m4\u001b[0m), D(\u001b[1m5\u001b[0m,\u001b[1m1\u001b[0m)\n",
      "\u001b[1m4\u001b[0m:\tD(\u001b[1m2\u001b[0m,\u001b[1m3\u001b[0m), D(\u001b[1m4\u001b[0m,\u001b[1m1\u001b[0m)\n",
      "\u001b[1m3\u001b[0m:\tD(\u001b[1m2\u001b[0m,\u001b[1m2\u001b[0m), D(\u001b[1m3\u001b[0m,\u001b[1m1\u001b[0m)\n",
      "\u001b[1m2\u001b[0m:\tD(\u001b[1m2\u001b[0m,\u001b[1m1\u001b[0m)\n"
     ]
    }
   ],
   "source": [
    "D_spam(ofnum=5)\n",
    "D_spam(ofnum=4)\n",
    "D_spam(ofnum=3)\n",
    "D_spam(ofnum=2)"
   ]
  },
  {
   "cell_type": "code",
   "execution_count": 7,
   "metadata": {},
   "outputs": [
    {
     "name": "stdout",
     "output_type": "stream",
     "text": [
      "\n",
      "\n",
      "\n",
      "\n",
      "\n",
      "\n",
      "\n",
      "\n",
      "\n",
      "\u001b[1m3\u001b[0m:\tP(\u001b[1m3\u001b[0m; \u001b[1m1\u001b[0m,\u001b[1m2\u001b[0m)\n"
     ]
    }
   ],
   "source": [
    "Pnk_spam(ofnum=3)"
   ]
  },
  {
   "cell_type": "code",
   "execution_count": 8,
   "metadata": {},
   "outputs": [
    {
     "name": "stdout",
     "output_type": "stream",
     "text": [
      "\n",
      "\n",
      "\n",
      "\n",
      "\n",
      "\n",
      "\n",
      "\n",
      "\n",
      "\u001b[1m4\u001b[0m:\tP(\u001b[1m4\u001b[0m; \u001b[1m1\u001b[0m,\u001b[1m3\u001b[0m)\n"
     ]
    }
   ],
   "source": [
    "Pnk_spam(ofnum=4)"
   ]
  },
  {
   "cell_type": "code",
   "execution_count": 9,
   "metadata": {},
   "outputs": [
    {
     "name": "stdout",
     "output_type": "stream",
     "text": [
      "P(\u001b[1m4\u001b[0m,\u001b[1m2\u001b[0m)\n",
      "\t\u001b[1m12\u001b[0m ways to organize \u001b[1m2\u001b[0m letters from a collection of \u001b[1m4\u001b[0m letters\n",
      "\t• Order matters, so 'BA' and 'AB' are both counted.\n",
      "\t• No repetitions allowed\n",
      "P(\u001b[1m4\u001b[0m,\u001b[1m2\u001b[0m) \u001b[97mvI\u001b[0m  = \u001b[1m4\u001b[0m·\u001b[1m3\u001b[0m\n",
      "P(\u001b[1m4\u001b[0m,\u001b[1m2\u001b[0m) \u001b[97mvII\u001b[0m = (\u001b[1m4\u001b[0m·\u001b[1m3\u001b[0m·\u001b[1m2\u001b[0m·\u001b[1m1\u001b[0m)/(\u001b[1m2\u001b[0m·\u001b[1m1\u001b[0m) = \u001b[1m24\u001b[0m/\u001b[1m2\u001b[0m\n",
      "P(\u001b[1m4\u001b[0m,\u001b[1m2\u001b[0m) \u001b[97mvIII\u001b[0m = (\u001b[1m2\u001b[0m·\u001b[1m1\u001b[0m) · ( (\u001b[1m4\u001b[0m·\u001b[1m3\u001b[0m)/(\u001b[1m2\u001b[0m·\u001b[1m1\u001b[0m) ) = \u001b[1m2\u001b[0m · \u001b[1m12\u001b[0m/\u001b[1m2\u001b[0m\n",
      "\n",
      "\u001b[1mP Examples\u001b[0m\n",
      "P(\u001b[1m4\u001b[0m,\u001b[1m2\u001b[0m) from ABCD:\n",
      "\u001b[1m1\u001b[0m:\tAB\n",
      "\u001b[1m2\u001b[0m:\tAC\n",
      "\u001b[1m3\u001b[0m:\tAD\n",
      "\u001b[1m4\u001b[0m:\tBA\n",
      "\u001b[1m5\u001b[0m:\tBC\n",
      "\u001b[1m6\u001b[0m:\tBD\n",
      "\u001b[1m7\u001b[0m:\tCA\n",
      "\u001b[1m8\u001b[0m:\tCB\n",
      "\u001b[1m9\u001b[0m:\tCD\n",
      "\u001b[1m10\u001b[0m:\tDA\n",
      "\u001b[1m11\u001b[0m:\tDB\n",
      "\u001b[1m12\u001b[0m:\tDC\n"
     ]
    },
    {
     "data": {
      "text/plain": [
       "12"
      ]
     },
     "execution_count": 9,
     "metadata": {},
     "output_type": "execute_result"
    }
   ],
   "source": [
    "P(4,2,explain=True,identities=True, example=True)"
   ]
  },
  {
   "cell_type": "code",
   "execution_count": null,
   "metadata": {},
   "outputs": [],
   "source": []
  }
 ],
 "metadata": {
  "hide_input": false,
  "kernelspec": {
   "display_name": "Python 3",
   "language": "python",
   "name": "python3"
  },
  "language_info": {
   "codemirror_mode": {
    "name": "ipython",
    "version": 3
   },
   "file_extension": ".py",
   "mimetype": "text/x-python",
   "name": "python",
   "nbconvert_exporter": "python",
   "pygments_lexer": "ipython3",
   "version": "3.8.6"
  },
  "toc-showcode": true,
  "varInspector": {
   "cols": {
    "lenName": 16,
    "lenType": 16,
    "lenVar": 40
   },
   "kernels_config": {
    "python": {
     "delete_cmd_postfix": "",
     "delete_cmd_prefix": "del ",
     "library": "var_list.py",
     "varRefreshCmd": "print(var_dic_list())"
    },
    "r": {
     "delete_cmd_postfix": ") ",
     "delete_cmd_prefix": "rm(",
     "library": "var_list.r",
     "varRefreshCmd": "cat(var_dic_list()) "
    }
   },
   "types_to_exclude": [
    "module",
    "function",
    "builtin_function_or_method",
    "instance",
    "_Feature"
   ],
   "window_display": true
  }
 },
 "nbformat": 4,
 "nbformat_minor": 4
}
