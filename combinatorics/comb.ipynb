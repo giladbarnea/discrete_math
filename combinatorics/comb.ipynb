{
 "cells": [
  {
   "cell_type": "code",
   "execution_count": 6,
   "metadata": {},
   "outputs": [
    {
     "ename": "ImportError",
     "evalue": "attempted relative import with no known parent package",
     "output_type": "error",
     "traceback": [
      "\u001b[1;31m---------------------------------------------------------------------------\u001b[0m",
      "\u001b[1;31mImportError\u001b[0m                               Traceback (most recent call last)",
      "\u001b[1;32m<ipython-input-6-0e03a81fcdd4>\u001b[0m in \u001b[0;36m<module>\u001b[1;34m\u001b[0m\n\u001b[0;32m      2\u001b[0m \u001b[1;32mfrom\u001b[0m \u001b[0mstring\u001b[0m \u001b[1;32mimport\u001b[0m \u001b[0mascii_uppercase\u001b[0m\u001b[1;33m\u001b[0m\u001b[1;33m\u001b[0m\u001b[0m\n\u001b[0;32m      3\u001b[0m \u001b[1;32mfrom\u001b[0m \u001b[0mpprint\u001b[0m \u001b[1;32mimport\u001b[0m \u001b[0mpprint\u001b[0m\u001b[1;33m\u001b[0m\u001b[1;33m\u001b[0m\u001b[0m\n\u001b[1;32m----> 4\u001b[1;33m \u001b[1;32mfrom\u001b[0m \u001b[1;33m.\u001b[0m \u001b[1;32mimport\u001b[0m \u001b[0mrelations\u001b[0m\u001b[1;33m\u001b[0m\u001b[1;33m\u001b[0m\u001b[0m\n\u001b[0m\u001b[0;32m      5\u001b[0m \u001b[1;32mimport\u001b[0m \u001b[0mre\u001b[0m\u001b[1;33m\u001b[0m\u001b[1;33m\u001b[0m\u001b[0m\n\u001b[0;32m      6\u001b[0m \u001b[1;32mfrom\u001b[0m \u001b[0mcopy\u001b[0m \u001b[1;32mimport\u001b[0m \u001b[0mdeepcopy\u001b[0m\u001b[1;33m\u001b[0m\u001b[1;33m\u001b[0m\u001b[0m\n",
      "\u001b[1;31mImportError\u001b[0m: attempted relative import with no known parent package"
     ]
    }
   ],
   "source": [
    "from itertools import permutations, combinations, combinations_with_replacement as comb_w_rep, product\n",
    "from string import ascii_uppercase\n",
    "from pprint import pprint\n",
    "from . import relations\n",
    "import re\n",
    "from copy import deepcopy\n",
    "\n",
    "_print = deepcopy(__builtins__.__dict__.get(\"print\"))\n",
    "print = lambda s=\"\", *args, **kwargs: _print(dim_ver(bold_num(s)), *args, **kwargs)"
   ]
  },
  {
   "cell_type": "code",
   "execution_count": 5,
   "metadata": {
    "collapsed": true,
    "jupyter": {
     "outputs_hidden": true
    }
   },
   "outputs": [],
   "source": [
    "def fac_str(start, stop=1):\n",
    "    length = start - stop + 1\n",
    "    if length <= 6:\n",
    "        string = f\"{start}\"\n",
    "        for n in reversed(range(stop, start)):\n",
    "            string += f\"·{n}\"\n",
    "        return string\n",
    "    if start - 1 > stop:\n",
    "        return f\"{start}·{start-1}·…·{stop}\"\n",
    "    else:\n",
    "        return f\"{start}·…·{stop}\""
   ]
  },
  {
   "cell_type": "code",
   "execution_count": 6,
   "metadata": {
    "collapsed": true,
    "jupyter": {
     "outputs_hidden": true
    }
   },
   "outputs": [],
   "source": [
    "def fac(start, stop=1):\n",
    "    mult = start\n",
    "    for n in reversed(range(stop, start)):\n",
    "        mult = mult * n\n",
    "    return mult"
   ]
  },
  {
   "cell_type": "code",
   "execution_count": 38,
   "metadata": {
    "collapsed": true,
    "jupyter": {
     "outputs_hidden": true
    }
   },
   "outputs": [],
   "source": [
    "def bold_num(s):\n",
    "    try:\n",
    "        bold = re.sub(r\"\\d+\\b\", lambda match: f\"\\x1b[1m{match.group()}\\x1b[0m\", s)\n",
    "        return bold\n",
    "    except TypeError:\n",
    "        return s\n",
    "\n",
    "\n",
    "def dim_ver(s):\n",
    "    if 'I' in s:\n",
    "        dim = re.sub(r\"(vI+|(?<=\\))I+)\", lambda match: f\"\\x1b[97m{match.group()}\\x1b[0m\", s)\n",
    "        return dim\n",
    "    else:\n",
    "        return s"
   ]
  },
  {
   "cell_type": "code",
   "execution_count": 8,
   "metadata": {},
   "outputs": [],
   "source": [
    "def P(n, k, *, explain=True, example=False, identities=False):\n",
    "    if isinstance(n, int):\n",
    "        rv = len(list(permutations(range(n), k)))\n",
    "        if explain:\n",
    "            print(\n",
    "                f\"P({n},{k}) = {rv} ways to organize {k} letters from a collection of {n} letters\",\n",
    "                \"Order matters, so 'BA' and 'AB' are both counted.\",\n",
    "                \"No repetitions allowed\",\n",
    "                sep=\"\\n\\t\",\n",
    "            )\n",
    "        if identities:\n",
    "            print(P_id(n, k, \"I\"))\n",
    "            print(P_id(n, k, \"II\"))\n",
    "        if example:\n",
    "            letters = ascii_uppercase[:n]\n",
    "            print(f\"P({n},{k}) from {letters}:\")\n",
    "            [print(f\"{i}:\\t\", *perm, sep=\"\") for i, perm in enumerate(permutations(letters, k), 1)]\n",
    "\n",
    "    else:\n",
    "        rv = list(permutations(n, k))\n",
    "    return rv"
   ]
  },
  {
   "cell_type": "code",
   "execution_count": 44,
   "metadata": {
    "collapsed": true,
    "jupyter": {
     "outputs_hidden": true
    }
   },
   "outputs": [],
   "source": [
    "def C(n, k, *, explain=True, example=False, identities=False):\n",
    "    if isinstance(n, int):\n",
    "        rv = len(list(combinations(range(n), k)))\n",
    "        if explain:\n",
    "            kia = ascii_uppercase[:k]\n",
    "            print(\n",
    "                f\"C({n},{k}) vI  = {rv} ways to select {k} different letters from {n} letters\",\n",
    "                f\"Order doesn't matter, so '{kia}' and '{kia[1:]}{kia[0]}' count as one thing\",\n",
    "                f\"No repetitions allowed\",\n",
    "                sep=\"\\n\\t\",\n",
    "            )\n",
    "\n",
    "        if identities:\n",
    "            print(C_id(n, k, v=\"I\"))\n",
    "            _k = n - k\n",
    "            _rv = len(list(combinations(range(n), _k)))\n",
    "            print(f\"C({n},{_k}) vII = {_rv} ways to select {_k} different letters from {n} letters\")\n",
    "            print(C_id(n, k, v=\"II\"))\n",
    "        if example:\n",
    "            print(\"\\n\\x1b[1mC Examples\\x1b[0m\")\n",
    "            letters = ascii_uppercase[:n]\n",
    "            print(f\"C({n},{k}) from {letters}:\")\n",
    "            [print(f\"{i}:\\t\", *comb, sep=\"\") for i, comb in enumerate(combinations(letters, k), 1)]\n",
    "            if identities:\n",
    "                print(f\"C({n},{_k}) from {letters}:\")\n",
    "                [print(f\"{i}:\\t\", *comb, sep=\"\") for i, comb in enumerate(combinations(letters, _k), 1)]\n",
    "            print()\n",
    "\n",
    "    else:\n",
    "        rv = list(combinations(n, k))\n",
    "    return rv"
   ]
  },
  {
   "cell_type": "code",
   "execution_count": 136,
   "metadata": {},
   "outputs": [],
   "source": [
    "def nk(n,k, *, example=False):\n",
    "    if isinstance(n, int):\n",
    "        rv = n**k\n",
    "        if example:\n",
    "            print(\"\\n\\x1b[1mnk Examples\\x1b[0m\")\n",
    "            letters = ascii_uppercase[:n]\n",
    "            print(f\"{n}^{k} from {letters}:\")\n",
    "            \n",
    "            \n",
    "            perms = sorted(set(permutations(letters, k)).union(comb_w_rep(letters, k)))\n",
    "            [print(f\"{i}:\\t\", *perm, sep=\"\") for i, perm in enumerate(perms, 1)]\n",
    "            \n",
    "#             for i in range(n):\n",
    "#                 # print \"AA\", \"BB\"... which `permutations` doesn't yield\n",
    "#                 real_i = len(perms)+i+1\n",
    "#                 print(f\"{real_i}:\\t\", letters[i]*k, sep=\"\")\n",
    "            \n",
    "        print()\n",
    "    else:\n",
    "        raise NotImplementedError\n",
    "    \n",
    "    return rv"
   ]
  },
  {
   "cell_type": "code",
   "execution_count": 105,
   "metadata": {
    "collapsed": true,
    "jupyter": {
     "outputs_hidden": true
    }
   },
   "outputs": [
    {
     "name": "stdout",
     "output_type": "stream",
     "text": [
      "P(\u001b[1m4\u001b[0m,\u001b[1m2\u001b[0m) = \u001b[1m12\u001b[0m ways to organize \u001b[1m2\u001b[0m letters from a collection of \u001b[1m4\u001b[0m letters\n",
      "\tOrder matters, so 'BA' and 'AB' are both counted.\n",
      "\tNo repetitions allowed\n",
      "P(\u001b[1m4\u001b[0m,\u001b[1m2\u001b[0m) from ABCD:\n",
      "\u001b[1m1\u001b[0m:\tAB\n",
      "\u001b[1m2\u001b[0m:\tAC\n",
      "\u001b[1m3\u001b[0m:\tAD\n",
      "\u001b[1m4\u001b[0m:\tBA\n",
      "\u001b[1m5\u001b[0m:\tBC\n",
      "\u001b[1m6\u001b[0m:\tBD\n",
      "\u001b[1m7\u001b[0m:\tCA\n",
      "\u001b[1m8\u001b[0m:\tCB\n",
      "\u001b[1m9\u001b[0m:\tCD\n",
      "\u001b[1m10\u001b[0m:\tDA\n",
      "\u001b[1m11\u001b[0m:\tDB\n",
      "\u001b[1m12\u001b[0m:\tDC\n"
     ]
    },
    {
     "data": {
      "text/plain": [
       "12"
      ]
     },
     "execution_count": 105,
     "metadata": {},
     "output_type": "execute_result"
    }
   ],
   "source": [
    "P(4,2,example=True)"
   ]
  },
  {
   "cell_type": "code",
   "execution_count": 131,
   "metadata": {
    "collapsed": true,
    "jupyter": {
     "outputs_hidden": true
    }
   },
   "outputs": [
    {
     "data": {
      "text/plain": [
       "[('A', 'A', 'A'),\n",
       " ('A', 'A', 'B'),\n",
       " ('A', 'A', 'C'),\n",
       " ('A', 'A', 'D'),\n",
       " ('A', 'B', 'B'),\n",
       " ('A', 'B', 'C'),\n",
       " ('A', 'B', 'D'),\n",
       " ('A', 'C', 'C'),\n",
       " ('A', 'C', 'D'),\n",
       " ('A', 'D', 'D'),\n",
       " ('B', 'B', 'B'),\n",
       " ('B', 'B', 'C'),\n",
       " ('B', 'B', 'D'),\n",
       " ('B', 'C', 'C'),\n",
       " ('B', 'C', 'D'),\n",
       " ('B', 'D', 'D'),\n",
       " ('C', 'C', 'C'),\n",
       " ('C', 'C', 'D'),\n",
       " ('C', 'D', 'D'),\n",
       " ('D', 'D', 'D')]"
      ]
     },
     "execution_count": 131,
     "metadata": {},
     "output_type": "execute_result"
    }
   ],
   "source": [
    "list(comb_w_rep(\"ABCD\", 3))"
   ]
  },
  {
   "cell_type": "code",
   "execution_count": 133,
   "metadata": {
    "collapsed": true,
    "jupyter": {
     "outputs_hidden": true
    }
   },
   "outputs": [
    {
     "data": {
      "text/plain": [
       "{('A', 'A', 'A'),\n",
       " ('A', 'A', 'B'),\n",
       " ('A', 'A', 'C'),\n",
       " ('A', 'A', 'D'),\n",
       " ('A', 'B', 'B'),\n",
       " ('A', 'B', 'C'),\n",
       " ('A', 'B', 'D'),\n",
       " ('A', 'C', 'B'),\n",
       " ('A', 'C', 'C'),\n",
       " ('A', 'C', 'D'),\n",
       " ('A', 'D', 'B'),\n",
       " ('A', 'D', 'C'),\n",
       " ('A', 'D', 'D'),\n",
       " ('B', 'A', 'C'),\n",
       " ('B', 'A', 'D'),\n",
       " ('B', 'B', 'B'),\n",
       " ('B', 'B', 'C'),\n",
       " ('B', 'B', 'D'),\n",
       " ('B', 'C', 'A'),\n",
       " ('B', 'C', 'C'),\n",
       " ('B', 'C', 'D'),\n",
       " ('B', 'D', 'A'),\n",
       " ('B', 'D', 'C'),\n",
       " ('B', 'D', 'D'),\n",
       " ('C', 'A', 'B'),\n",
       " ('C', 'A', 'D'),\n",
       " ('C', 'B', 'A'),\n",
       " ('C', 'B', 'D'),\n",
       " ('C', 'C', 'C'),\n",
       " ('C', 'C', 'D'),\n",
       " ('C', 'D', 'A'),\n",
       " ('C', 'D', 'B'),\n",
       " ('C', 'D', 'D'),\n",
       " ('D', 'A', 'B'),\n",
       " ('D', 'A', 'C'),\n",
       " ('D', 'B', 'A'),\n",
       " ('D', 'B', 'C'),\n",
       " ('D', 'C', 'A'),\n",
       " ('D', 'C', 'B'),\n",
       " ('D', 'D', 'D')}"
      ]
     },
     "execution_count": 133,
     "metadata": {},
     "output_type": "execute_result"
    }
   ],
   "source": [
    "set(permutations(\"ABCD\",3)).union(set(comb_w_rep(\"ABCD\", 3)))"
   ]
  },
  {
   "cell_type": "code",
   "execution_count": 144,
   "metadata": {},
   "outputs": [
    {
     "data": {
      "text/plain": [
       "[('A', 'A'),\n",
       " ('A', 'B'),\n",
       " ('A', 'C'),\n",
       " ('A', 'D'),\n",
       " ('B', 'A'),\n",
       " ('B', 'B'),\n",
       " ('B', 'C'),\n",
       " ('B', 'D'),\n",
       " ('C', 'A'),\n",
       " ('C', 'B'),\n",
       " ('C', 'C'),\n",
       " ('C', 'D'),\n",
       " ('D', 'A'),\n",
       " ('D', 'B'),\n",
       " ('D', 'C'),\n",
       " ('D', 'D')]"
      ]
     },
     "execution_count": 144,
     "metadata": {},
     "output_type": "execute_result"
    }
   ],
   "source": [
    "list(product(\"ABCD\", \"ABCD\"))"
   ]
  },
  {
   "cell_type": "code",
   "execution_count": 137,
   "metadata": {},
   "outputs": [
    {
     "name": "stdout",
     "output_type": "stream",
     "text": [
      "\n",
      "\u001b[1mnk Examples\u001b[0m\n",
      "\u001b[1m4\u001b[0m^\u001b[1m3\u001b[0m from ABCD:\n",
      "\u001b[1m1\u001b[0m:\tAAA\n",
      "\u001b[1m2\u001b[0m:\tAAB\n",
      "\u001b[1m3\u001b[0m:\tAAC\n",
      "\u001b[1m4\u001b[0m:\tAAD\n",
      "\u001b[1m5\u001b[0m:\tABB\n",
      "\u001b[1m6\u001b[0m:\tABC\n",
      "\u001b[1m7\u001b[0m:\tABD\n",
      "\u001b[1m8\u001b[0m:\tACB\n",
      "\u001b[1m9\u001b[0m:\tACC\n",
      "\u001b[1m10\u001b[0m:\tACD\n",
      "\u001b[1m11\u001b[0m:\tADB\n",
      "\u001b[1m12\u001b[0m:\tADC\n",
      "\u001b[1m13\u001b[0m:\tADD\n",
      "\u001b[1m14\u001b[0m:\tBAC\n",
      "\u001b[1m15\u001b[0m:\tBAD\n",
      "\u001b[1m16\u001b[0m:\tBBB\n",
      "\u001b[1m17\u001b[0m:\tBBC\n",
      "\u001b[1m18\u001b[0m:\tBBD\n",
      "\u001b[1m19\u001b[0m:\tBCA\n",
      "\u001b[1m20\u001b[0m:\tBCC\n",
      "\u001b[1m21\u001b[0m:\tBCD\n",
      "\u001b[1m22\u001b[0m:\tBDA\n",
      "\u001b[1m23\u001b[0m:\tBDC\n",
      "\u001b[1m24\u001b[0m:\tBDD\n",
      "\u001b[1m25\u001b[0m:\tCAB\n",
      "\u001b[1m26\u001b[0m:\tCAD\n",
      "\u001b[1m27\u001b[0m:\tCBA\n",
      "\u001b[1m28\u001b[0m:\tCBD\n",
      "\u001b[1m29\u001b[0m:\tCCC\n",
      "\u001b[1m30\u001b[0m:\tCCD\n",
      "\u001b[1m31\u001b[0m:\tCDA\n",
      "\u001b[1m32\u001b[0m:\tCDB\n",
      "\u001b[1m33\u001b[0m:\tCDD\n",
      "\u001b[1m34\u001b[0m:\tDAB\n",
      "\u001b[1m35\u001b[0m:\tDAC\n",
      "\u001b[1m36\u001b[0m:\tDBA\n",
      "\u001b[1m37\u001b[0m:\tDBC\n",
      "\u001b[1m38\u001b[0m:\tDCA\n",
      "\u001b[1m39\u001b[0m:\tDCB\n",
      "\u001b[1m40\u001b[0m:\tDDD\n",
      "\n"
     ]
    },
    {
     "data": {
      "text/plain": [
       "64"
      ]
     },
     "execution_count": 137,
     "metadata": {},
     "output_type": "execute_result"
    }
   ],
   "source": [
    "nk(4,3, example=True)"
   ]
  },
  {
   "cell_type": "code",
   "execution_count": 42,
   "metadata": {
    "collapsed": true,
    "jupyter": {
     "outputs_hidden": true
    }
   },
   "outputs": [],
   "source": [
    "def P_id(n, k=1, v=None):\n",
    "    _k = n - k\n",
    "    v1 = f\"P({n},{k}) vI  = {fac_str(n, n-k+1)}\"\n",
    "    v2 = f\"P({n},{k}) vII = ({fac_str(n)})/({fac_str(n-k)}) = {fac(n)}/{fac(n-k)}\"\n",
    "    v3 = f\"P({n},{k}) vIII = P(k)I · C(n,k) = k!C(n,k)\"\n",
    "    if \"III\" in v:\n",
    "        return v3\n",
    "    elif \"II\" in v:\n",
    "        return v2\n",
    "    else:\n",
    "        return v1"
   ]
  },
  {
   "cell_type": "code",
   "execution_count": 10,
   "metadata": {
    "collapsed": true,
    "jupyter": {
     "outputs_hidden": true
    }
   },
   "outputs": [],
   "source": [
    "def P_spam(start=1,stop=11):\n",
    "    for i in range(start, stop):\n",
    "        for j in range(start, stop):\n",
    "            if j > i:\n",
    "                continue\n",
    "            print(f\"P({i},{j}): {P(i,j,example=False,explain=False,identities=False)}\")\n",
    "        print()"
   ]
  },
  {
   "cell_type": "code",
   "execution_count": 45,
   "metadata": {
    "collapsed": true,
    "jupyter": {
     "outputs_hidden": true
    }
   },
   "outputs": [],
   "source": [
    "def C_id(n, k, v):\n",
    "    _k = n - k\n",
    "    v1 = f\"C({n},{k}) vI  = P({n},{k})/P({k}) = ({fac_str(n, n-k+1)})/({fac_str(k)}) = {fac(n, n-k+1)}/{fac(k)}\"\n",
    "    #     v1 = f\"C({n},{k}) vI  = P({n},{k})/P({k}) = {P_id(n, n-k+1, 'I')}/{fac_str(k)} = {fac(n, n-k+1)}/{fac(k)}\"\n",
    "    v2 = f\"C({n},{_k}) vII = P({n},{_k})/P({_k}) = ({fac_str(n, n-_k+1)})/({fac_str(_k)}) = {fac(n, n-_k+1)}/{fac(_k)}\"\n",
    "    #     v2 = f\"C({n},{_k}) vII = P({n},{_k})/P({_k}) = {P_id(n, n-_k+1, 'I')}/{fac_str(_k)} = {fac(n, n-_k+1)}/{fac(_k)}\"\n",
    "    if \"II\" in v:\n",
    "        return v2\n",
    "    else:\n",
    "        return v1"
   ]
  },
  {
   "cell_type": "code",
   "execution_count": 46,
   "metadata": {
    "collapsed": true,
    "jupyter": {
     "outputs_hidden": true
    }
   },
   "outputs": [],
   "source": [
    "def C_spam():\n",
    "    for i in range(1, 11):\n",
    "        for j in range(1, 11):\n",
    "            if j > i:\n",
    "                continue\n",
    "            print(f\"C({i},{j}): {C(i,j,example=False,explain=False,identities=False)}\")\n",
    "        print()"
   ]
  },
  {
   "cell_type": "code",
   "execution_count": 48,
   "metadata": {
    "collapsed": true,
    "jupyter": {
     "outputs_hidden": true
    }
   },
   "outputs": [],
   "source": [
    "def D(n, k, *, explain=True, example=False, identities=False):\n",
    "    if isinstance(n, int):\n",
    "        _Cn1 = n - 1 + k\n",
    "        rv = C(_Cn1, k, explain=False, example=False, identities=False)\n",
    "        kia = \"○\" * k\n",
    "        if explain:\n",
    "            print(\n",
    "                f\"D({n},{k}) vI  = {rv} ways to place {k} balls in {n} partitions\",\n",
    "                \"With repetitions\",\n",
    "                f\"Order doesn't matter, so '{kia}' and '{kia}' count as one thing\",\n",
    "                sep=\"\\n\\t\",\n",
    "            )\n",
    "        if identities:\n",
    "            print(f\"D({n},{k}) vI  = {C_id(_Cn1, k, 'I')} = 21\")\n",
    "            print(f\"D({n},{k}) vI  = {C_id(_Cn1, k, 'II')} = 21\")\n",
    "            C(_Cn1, k, explain=explain, example=example, identities=False)\n",
    "            # D(n,k) = D(k+1, n-1)\n",
    "            _Dk2 = n - 1\n",
    "            _Dn2 = k + 1\n",
    "            if explain:\n",
    "                print(f\"D({_Dn2},{_Dk2}) vII = {rv} ways to place {_Dk2} balls in {_Dn2} partitions\")\n",
    "            print(f\"D({_Dn2},{_Dk2}) vII = {C_id(_Cn1, _Dk2, 'I')}\")\n",
    "            print(f\"D({_Dn2},{_Dk2}) vII = {C_id(_Cn1, _Dk2, 'II')}\")\n",
    "            C(_Cn1, _Dk2, explain=explain, example=example, identities=False)\n",
    "        if example:\n",
    "            _print(f\"\\n\\x1b[1mD({n},{k}) Examples\\x1b[0m\")\n",
    "            letters = \"○\" * k + \"|\" * (n - 1)\n",
    "            [print(f\"{i}:\\t\", *comb, sep=\"\") for i, comb in enumerate(set(permutations(letters, len(letters))), 1)]\n",
    "            if identities:\n",
    "                _print(f\"\\n\\x1b[1mD({_Dn2},{_Dk2}) Examples\\x1b[0m\")\n",
    "                letters = \"○\" * _Dk2 + \"|\" * (_Dn2 - 1)\n",
    "                [print(f\"{i}:\\t\", *comb, sep=\"\") for i, comb in enumerate(set(permutations(letters, len(letters))), 1)]\n",
    "\n",
    "            print()\n",
    "    else:\n",
    "        letters = ascii_uppercase[:k] + \"|\" * (n - 1)\n",
    "        rv = C(letters, k, example=example)\n",
    "    return rv"
   ]
  },
  {
   "cell_type": "code",
   "execution_count": 50,
   "metadata": {
    "collapsed": true,
    "jupyter": {
     "outputs_hidden": true
    }
   },
   "outputs": [],
   "source": [
    "def C2D(n, k):\n",
    "    \"\"\"\n",
    "    D(3,5) prints C(7,5) and C(7,2).\n",
    "    C2D(7,2) prints D(6,2), D(6,5)\n",
    "    \"\"\"\n",
    "    D(n - k + 1, k, identities=True)"
   ]
  },
  {
   "cell_type": "code",
   "execution_count": 51,
   "metadata": {
    "collapsed": true,
    "jupyter": {
     "outputs_hidden": true
    }
   },
   "outputs": [
    {
     "name": "stdout",
     "output_type": "stream",
     "text": [
      "D(\u001b[1m3\u001b[0m,\u001b[1m2\u001b[0m) \u001b[97mvI\u001b[0m  = \u001b[1m6\u001b[0m ways to place \u001b[1m2\u001b[0m balls in \u001b[1m3\u001b[0m partitions\n",
      "\tWith repetitions\n",
      "\tOrder doesn't matter, so '○○' and '○○' count as one thing\n",
      "D(\u001b[1m3\u001b[0m,\u001b[1m2\u001b[0m) \u001b[97mvI\u001b[0m  = C(\u001b[1m4\u001b[0m,\u001b[1m2\u001b[0m) \u001b[97mvI\u001b[0m  = P(\u001b[1m4\u001b[0m,\u001b[1m2\u001b[0m)/P(\u001b[1m2\u001b[0m) = (\u001b[1m4\u001b[0m·\u001b[1m3\u001b[0m)/(\u001b[1m2\u001b[0m·\u001b[1m1\u001b[0m) = \u001b[1m12\u001b[0m/\u001b[1m2\u001b[0m = \u001b[1m21\u001b[0m\n",
      "D(\u001b[1m3\u001b[0m,\u001b[1m2\u001b[0m) \u001b[97mvI\u001b[0m  = C(\u001b[1m4\u001b[0m,\u001b[1m2\u001b[0m) \u001b[97mvII\u001b[0m = P(\u001b[1m4\u001b[0m,\u001b[1m2\u001b[0m)/P(\u001b[1m2\u001b[0m) = (\u001b[1m4\u001b[0m·\u001b[1m3\u001b[0m)/(\u001b[1m2\u001b[0m·\u001b[1m1\u001b[0m) = \u001b[1m12\u001b[0m/\u001b[1m2\u001b[0m = \u001b[1m21\u001b[0m\n",
      "C(\u001b[1m4\u001b[0m,\u001b[1m2\u001b[0m) \u001b[97mvI\u001b[0m  = \u001b[1m6\u001b[0m ways to select \u001b[1m2\u001b[0m different letters from \u001b[1m4\u001b[0m letters\n",
      "\tOrder doesn't matter, so 'AB' and 'BA' count as one thing\n",
      "\tNo repetitions allowed\n",
      "D(\u001b[1m3\u001b[0m,\u001b[1m2\u001b[0m) \u001b[97mvII\u001b[0m = \u001b[1m6\u001b[0m ways to place \u001b[1m2\u001b[0m balls in \u001b[1m3\u001b[0m partitions\n",
      "D(\u001b[1m3\u001b[0m,\u001b[1m2\u001b[0m) \u001b[97mvII\u001b[0m = C(\u001b[1m4\u001b[0m,\u001b[1m2\u001b[0m) \u001b[97mvI\u001b[0m  = P(\u001b[1m4\u001b[0m,\u001b[1m2\u001b[0m)/P(\u001b[1m2\u001b[0m) = (\u001b[1m4\u001b[0m·\u001b[1m3\u001b[0m)/(\u001b[1m2\u001b[0m·\u001b[1m1\u001b[0m) = \u001b[1m12\u001b[0m/\u001b[1m2\u001b[0m\n",
      "D(\u001b[1m3\u001b[0m,\u001b[1m2\u001b[0m) \u001b[97mvII\u001b[0m = C(\u001b[1m4\u001b[0m,\u001b[1m2\u001b[0m) \u001b[97mvII\u001b[0m = P(\u001b[1m4\u001b[0m,\u001b[1m2\u001b[0m)/P(\u001b[1m2\u001b[0m) = (\u001b[1m4\u001b[0m·\u001b[1m3\u001b[0m)/(\u001b[1m2\u001b[0m·\u001b[1m1\u001b[0m) = \u001b[1m12\u001b[0m/\u001b[1m2\u001b[0m\n",
      "C(\u001b[1m4\u001b[0m,\u001b[1m2\u001b[0m) \u001b[97mvI\u001b[0m  = \u001b[1m6\u001b[0m ways to select \u001b[1m2\u001b[0m different letters from \u001b[1m4\u001b[0m letters\n",
      "\tOrder doesn't matter, so 'AB' and 'BA' count as one thing\n",
      "\tNo repetitions allowed\n"
     ]
    }
   ],
   "source": [
    "C2D(4, 2)"
   ]
  },
  {
   "cell_type": "code",
   "execution_count": 52,
   "metadata": {
    "collapsed": true,
    "jupyter": {
     "outputs_hidden": true
    }
   },
   "outputs": [
    {
     "name": "stdout",
     "output_type": "stream",
     "text": [
      "D(\u001b[1m2\u001b[0m,\u001b[1m8\u001b[0m) \u001b[97mvI\u001b[0m  = \u001b[1m9\u001b[0m ways to place \u001b[1m8\u001b[0m balls in \u001b[1m2\u001b[0m partitions\n",
      "\tWith repetitions\n",
      "\tOrder doesn't matter, so '○○○○○○○○' and '○○○○○○○○' count as one thing\n",
      "D(\u001b[1m2\u001b[0m,\u001b[1m8\u001b[0m) \u001b[97mvI\u001b[0m  = C(\u001b[1m9\u001b[0m,\u001b[1m8\u001b[0m) \u001b[97mvI\u001b[0m  = P(\u001b[1m9\u001b[0m,\u001b[1m8\u001b[0m)/P(\u001b[1m8\u001b[0m) = (\u001b[1m9\u001b[0m·\u001b[1m8\u001b[0m·…·\u001b[1m2\u001b[0m)/(\u001b[1m8\u001b[0m·\u001b[1m7\u001b[0m·…·\u001b[1m1\u001b[0m) = \u001b[1m362880\u001b[0m/\u001b[1m40320\u001b[0m = \u001b[1m21\u001b[0m\n",
      "D(\u001b[1m2\u001b[0m,\u001b[1m8\u001b[0m) \u001b[97mvI\u001b[0m  = C(\u001b[1m9\u001b[0m,\u001b[1m1\u001b[0m) \u001b[97mvII\u001b[0m = P(\u001b[1m9\u001b[0m,\u001b[1m1\u001b[0m)/P(\u001b[1m1\u001b[0m) = (\u001b[1m9\u001b[0m)/(\u001b[1m1\u001b[0m) = \u001b[1m9\u001b[0m/\u001b[1m1\u001b[0m = \u001b[1m21\u001b[0m\n",
      "C(\u001b[1m9\u001b[0m,\u001b[1m8\u001b[0m) \u001b[97mvI\u001b[0m  = \u001b[1m9\u001b[0m ways to select \u001b[1m8\u001b[0m different letters from \u001b[1m9\u001b[0m letters\n",
      "\tOrder doesn't matter, so 'ABCDEFGH' and 'BCDEFGHA' count as one thing\n",
      "\tNo repetitions allowed\n",
      "\n",
      "\u001b[1mC Examples\u001b[0m\n",
      "C(\u001b[1m9\u001b[0m,\u001b[1m8\u001b[0m) from ABCDEFGHI:\n",
      "\u001b[1m1\u001b[0m:\tABCDEFGH\n",
      "\u001b[1m2\u001b[0m:\tABCDEFGI\n",
      "\u001b[1m3\u001b[0m:\tABCDEFHI\n",
      "\u001b[1m4\u001b[0m:\tABCDEGHI\n",
      "\u001b[1m5\u001b[0m:\tABCDFGHI\n",
      "\u001b[1m6\u001b[0m:\tABCEFGHI\n",
      "\u001b[1m7\u001b[0m:\tABDEFGHI\n",
      "\u001b[1m8\u001b[0m:\tACDEFGHI\n",
      "\u001b[1m9\u001b[0m:\tBCDEFGHI\n",
      "\n",
      "D(\u001b[1m9\u001b[0m,\u001b[1m1\u001b[0m) \u001b[97mvII\u001b[0m = \u001b[1m9\u001b[0m ways to place \u001b[1m1\u001b[0m balls in \u001b[1m9\u001b[0m partitions\n",
      "D(\u001b[1m9\u001b[0m,\u001b[1m1\u001b[0m) \u001b[97mvII\u001b[0m = C(\u001b[1m9\u001b[0m,\u001b[1m1\u001b[0m) \u001b[97mvI\u001b[0m  = P(\u001b[1m9\u001b[0m,\u001b[1m1\u001b[0m)/P(\u001b[1m1\u001b[0m) = (\u001b[1m9\u001b[0m)/(\u001b[1m1\u001b[0m) = \u001b[1m9\u001b[0m/\u001b[1m1\u001b[0m\n",
      "D(\u001b[1m9\u001b[0m,\u001b[1m1\u001b[0m) \u001b[97mvII\u001b[0m = C(\u001b[1m9\u001b[0m,\u001b[1m8\u001b[0m) \u001b[97mvII\u001b[0m = P(\u001b[1m9\u001b[0m,\u001b[1m8\u001b[0m)/P(\u001b[1m8\u001b[0m) = (\u001b[1m9\u001b[0m·\u001b[1m8\u001b[0m·…·\u001b[1m2\u001b[0m)/(\u001b[1m8\u001b[0m·\u001b[1m7\u001b[0m·…·\u001b[1m1\u001b[0m) = \u001b[1m362880\u001b[0m/\u001b[1m40320\u001b[0m\n",
      "C(\u001b[1m9\u001b[0m,\u001b[1m1\u001b[0m) \u001b[97mvI\u001b[0m  = \u001b[1m9\u001b[0m ways to select \u001b[1m1\u001b[0m different letters from \u001b[1m9\u001b[0m letters\n",
      "\tOrder doesn't matter, so 'A' and 'A' count as one thing\n",
      "\tNo repetitions allowed\n",
      "\n",
      "\u001b[1mC Examples\u001b[0m\n",
      "C(\u001b[1m9\u001b[0m,\u001b[1m1\u001b[0m) from ABCDEFGHI:\n",
      "\u001b[1m1\u001b[0m:\tA\n",
      "\u001b[1m2\u001b[0m:\tB\n",
      "\u001b[1m3\u001b[0m:\tC\n",
      "\u001b[1m4\u001b[0m:\tD\n",
      "\u001b[1m5\u001b[0m:\tE\n",
      "\u001b[1m6\u001b[0m:\tF\n",
      "\u001b[1m7\u001b[0m:\tG\n",
      "\u001b[1m8\u001b[0m:\tH\n",
      "\u001b[1m9\u001b[0m:\tI\n",
      "\n",
      "\n",
      "\u001b[1mD(2,8) Examples\u001b[0m\n",
      "\u001b[1m1\u001b[0m:\t○○○○○○○○|\n",
      "\u001b[1m2\u001b[0m:\t○○|○○○○○○\n",
      "\u001b[1m3\u001b[0m:\t|○○○○○○○○\n",
      "\u001b[1m4\u001b[0m:\t○○○○|○○○○\n",
      "\u001b[1m5\u001b[0m:\t○○○|○○○○○\n",
      "\u001b[1m6\u001b[0m:\t○○○○○|○○○\n",
      "\u001b[1m7\u001b[0m:\t○○○○○○|○○\n",
      "\u001b[1m8\u001b[0m:\t○|○○○○○○○\n",
      "\u001b[1m9\u001b[0m:\t○○○○○○○|○\n",
      "\n",
      "\u001b[1mD(9,1) Examples\u001b[0m\n",
      "\u001b[1m1\u001b[0m:\t|○|||||||\n",
      "\u001b[1m2\u001b[0m:\t○||||||||\n",
      "\u001b[1m3\u001b[0m:\t|||||||○|\n",
      "\u001b[1m4\u001b[0m:\t||○||||||\n",
      "\u001b[1m5\u001b[0m:\t|||||○|||\n",
      "\u001b[1m6\u001b[0m:\t||||||○||\n",
      "\u001b[1m7\u001b[0m:\t||||||||○\n",
      "\u001b[1m8\u001b[0m:\t|||○|||||\n",
      "\u001b[1m9\u001b[0m:\t||||○||||\n",
      "\n"
     ]
    },
    {
     "data": {
      "text/plain": [
       "9"
      ]
     },
     "execution_count": 52,
     "metadata": {},
     "output_type": "execute_result"
    }
   ],
   "source": [
    "D(2, 8, explain=True, example=True, identities=True)"
   ]
  },
  {
   "cell_type": "code",
   "execution_count": null,
   "metadata": {},
   "outputs": [],
   "source": []
  },
  {
   "cell_type": "code",
   "execution_count": 55,
   "metadata": {},
   "outputs": [
    {
     "name": "stdout",
     "output_type": "stream",
     "text": [
      "P(\u001b[1m5\u001b[0m,\u001b[1m3\u001b[0m) \u001b[97mvIII\u001b[0m = P(k)\u001b[97mI\u001b[0m · C(n,k) = k!C(n,k)\n"
     ]
    }
   ],
   "source": [
    "print(P_id(5, 3, 'III'))"
   ]
  },
  {
   "cell_type": "code",
   "execution_count": 56,
   "metadata": {},
   "outputs": [
    {
     "name": "stdout",
     "output_type": "stream",
     "text": [
      "P(\u001b[1m1\u001b[0m,\u001b[1m1\u001b[0m): \u001b[1m1\u001b[0m\n",
      "\n",
      "P(\u001b[1m2\u001b[0m,\u001b[1m1\u001b[0m): \u001b[1m2\u001b[0m\n",
      "P(\u001b[1m2\u001b[0m,\u001b[1m2\u001b[0m): \u001b[1m2\u001b[0m\n",
      "\n",
      "P(\u001b[1m3\u001b[0m,\u001b[1m1\u001b[0m): \u001b[1m3\u001b[0m\n",
      "P(\u001b[1m3\u001b[0m,\u001b[1m2\u001b[0m): \u001b[1m6\u001b[0m\n",
      "P(\u001b[1m3\u001b[0m,\u001b[1m3\u001b[0m): \u001b[1m6\u001b[0m\n",
      "\n",
      "P(\u001b[1m4\u001b[0m,\u001b[1m1\u001b[0m): \u001b[1m4\u001b[0m\n",
      "P(\u001b[1m4\u001b[0m,\u001b[1m2\u001b[0m): \u001b[1m12\u001b[0m\n",
      "P(\u001b[1m4\u001b[0m,\u001b[1m3\u001b[0m): \u001b[1m24\u001b[0m\n",
      "P(\u001b[1m4\u001b[0m,\u001b[1m4\u001b[0m): \u001b[1m24\u001b[0m\n",
      "\n",
      "P(\u001b[1m5\u001b[0m,\u001b[1m1\u001b[0m): \u001b[1m5\u001b[0m\n",
      "P(\u001b[1m5\u001b[0m,\u001b[1m2\u001b[0m): \u001b[1m20\u001b[0m\n",
      "P(\u001b[1m5\u001b[0m,\u001b[1m3\u001b[0m): \u001b[1m60\u001b[0m\n",
      "P(\u001b[1m5\u001b[0m,\u001b[1m4\u001b[0m): \u001b[1m120\u001b[0m\n",
      "P(\u001b[1m5\u001b[0m,\u001b[1m5\u001b[0m): \u001b[1m120\u001b[0m\n",
      "\n",
      "P(\u001b[1m6\u001b[0m,\u001b[1m1\u001b[0m): \u001b[1m6\u001b[0m\n",
      "P(\u001b[1m6\u001b[0m,\u001b[1m2\u001b[0m): \u001b[1m30\u001b[0m\n",
      "P(\u001b[1m6\u001b[0m,\u001b[1m3\u001b[0m): \u001b[1m120\u001b[0m\n",
      "P(\u001b[1m6\u001b[0m,\u001b[1m4\u001b[0m): \u001b[1m360\u001b[0m\n",
      "P(\u001b[1m6\u001b[0m,\u001b[1m5\u001b[0m): \u001b[1m720\u001b[0m\n",
      "P(\u001b[1m6\u001b[0m,\u001b[1m6\u001b[0m): \u001b[1m720\u001b[0m\n",
      "\n",
      "P(\u001b[1m7\u001b[0m,\u001b[1m1\u001b[0m): \u001b[1m7\u001b[0m\n",
      "P(\u001b[1m7\u001b[0m,\u001b[1m2\u001b[0m): \u001b[1m42\u001b[0m\n",
      "P(\u001b[1m7\u001b[0m,\u001b[1m3\u001b[0m): \u001b[1m210\u001b[0m\n",
      "P(\u001b[1m7\u001b[0m,\u001b[1m4\u001b[0m): \u001b[1m840\u001b[0m\n",
      "P(\u001b[1m7\u001b[0m,\u001b[1m5\u001b[0m): \u001b[1m2520\u001b[0m\n",
      "P(\u001b[1m7\u001b[0m,\u001b[1m6\u001b[0m): \u001b[1m5040\u001b[0m\n",
      "P(\u001b[1m7\u001b[0m,\u001b[1m7\u001b[0m): \u001b[1m5040\u001b[0m\n",
      "\n",
      "P(\u001b[1m8\u001b[0m,\u001b[1m1\u001b[0m): \u001b[1m8\u001b[0m\n",
      "P(\u001b[1m8\u001b[0m,\u001b[1m2\u001b[0m): \u001b[1m56\u001b[0m\n",
      "P(\u001b[1m8\u001b[0m,\u001b[1m3\u001b[0m): \u001b[1m336\u001b[0m\n",
      "P(\u001b[1m8\u001b[0m,\u001b[1m4\u001b[0m): \u001b[1m1680\u001b[0m\n",
      "P(\u001b[1m8\u001b[0m,\u001b[1m5\u001b[0m): \u001b[1m6720\u001b[0m\n",
      "P(\u001b[1m8\u001b[0m,\u001b[1m6\u001b[0m): \u001b[1m20160\u001b[0m\n",
      "P(\u001b[1m8\u001b[0m,\u001b[1m7\u001b[0m): \u001b[1m40320\u001b[0m\n",
      "P(\u001b[1m8\u001b[0m,\u001b[1m8\u001b[0m): \u001b[1m40320\u001b[0m\n",
      "\n",
      "P(\u001b[1m9\u001b[0m,\u001b[1m1\u001b[0m): \u001b[1m9\u001b[0m\n",
      "P(\u001b[1m9\u001b[0m,\u001b[1m2\u001b[0m): \u001b[1m72\u001b[0m\n",
      "P(\u001b[1m9\u001b[0m,\u001b[1m3\u001b[0m): \u001b[1m504\u001b[0m\n",
      "P(\u001b[1m9\u001b[0m,\u001b[1m4\u001b[0m): \u001b[1m3024\u001b[0m\n",
      "P(\u001b[1m9\u001b[0m,\u001b[1m5\u001b[0m): \u001b[1m15120\u001b[0m\n",
      "P(\u001b[1m9\u001b[0m,\u001b[1m6\u001b[0m): \u001b[1m60480\u001b[0m\n",
      "P(\u001b[1m9\u001b[0m,\u001b[1m7\u001b[0m): \u001b[1m181440\u001b[0m\n",
      "P(\u001b[1m9\u001b[0m,\u001b[1m8\u001b[0m): \u001b[1m362880\u001b[0m\n",
      "P(\u001b[1m9\u001b[0m,\u001b[1m9\u001b[0m): \u001b[1m362880\u001b[0m\n",
      "\n",
      "P(\u001b[1m10\u001b[0m,\u001b[1m1\u001b[0m): \u001b[1m10\u001b[0m\n",
      "P(\u001b[1m10\u001b[0m,\u001b[1m2\u001b[0m): \u001b[1m90\u001b[0m\n",
      "P(\u001b[1m10\u001b[0m,\u001b[1m3\u001b[0m): \u001b[1m720\u001b[0m\n",
      "P(\u001b[1m10\u001b[0m,\u001b[1m4\u001b[0m): \u001b[1m5040\u001b[0m\n",
      "P(\u001b[1m10\u001b[0m,\u001b[1m5\u001b[0m): \u001b[1m30240\u001b[0m\n",
      "P(\u001b[1m10\u001b[0m,\u001b[1m6\u001b[0m): \u001b[1m151200\u001b[0m\n",
      "P(\u001b[1m10\u001b[0m,\u001b[1m7\u001b[0m): \u001b[1m604800\u001b[0m\n",
      "P(\u001b[1m10\u001b[0m,\u001b[1m8\u001b[0m): \u001b[1m1814400\u001b[0m\n",
      "P(\u001b[1m10\u001b[0m,\u001b[1m9\u001b[0m): \u001b[1m3628800\u001b[0m\n",
      "P(\u001b[1m10\u001b[0m,\u001b[1m10\u001b[0m): \u001b[1m3628800\u001b[0m\n",
      "\n"
     ]
    }
   ],
   "source": [
    "P_spam()"
   ]
  },
  {
   "cell_type": "code",
   "execution_count": 57,
   "metadata": {},
   "outputs": [
    {
     "name": "stdout",
     "output_type": "stream",
     "text": [
      "C(\u001b[1m1\u001b[0m,\u001b[1m1\u001b[0m): \u001b[1m1\u001b[0m\n",
      "\n",
      "C(\u001b[1m2\u001b[0m,\u001b[1m1\u001b[0m): \u001b[1m2\u001b[0m\n",
      "C(\u001b[1m2\u001b[0m,\u001b[1m2\u001b[0m): \u001b[1m1\u001b[0m\n",
      "\n",
      "C(\u001b[1m3\u001b[0m,\u001b[1m1\u001b[0m): \u001b[1m3\u001b[0m\n",
      "C(\u001b[1m3\u001b[0m,\u001b[1m2\u001b[0m): \u001b[1m3\u001b[0m\n",
      "C(\u001b[1m3\u001b[0m,\u001b[1m3\u001b[0m): \u001b[1m1\u001b[0m\n",
      "\n",
      "C(\u001b[1m4\u001b[0m,\u001b[1m1\u001b[0m): \u001b[1m4\u001b[0m\n",
      "C(\u001b[1m4\u001b[0m,\u001b[1m2\u001b[0m): \u001b[1m6\u001b[0m\n",
      "C(\u001b[1m4\u001b[0m,\u001b[1m3\u001b[0m): \u001b[1m4\u001b[0m\n",
      "C(\u001b[1m4\u001b[0m,\u001b[1m4\u001b[0m): \u001b[1m1\u001b[0m\n",
      "\n",
      "C(\u001b[1m5\u001b[0m,\u001b[1m1\u001b[0m): \u001b[1m5\u001b[0m\n",
      "C(\u001b[1m5\u001b[0m,\u001b[1m2\u001b[0m): \u001b[1m10\u001b[0m\n",
      "C(\u001b[1m5\u001b[0m,\u001b[1m3\u001b[0m): \u001b[1m10\u001b[0m\n",
      "C(\u001b[1m5\u001b[0m,\u001b[1m4\u001b[0m): \u001b[1m5\u001b[0m\n",
      "C(\u001b[1m5\u001b[0m,\u001b[1m5\u001b[0m): \u001b[1m1\u001b[0m\n",
      "\n",
      "C(\u001b[1m6\u001b[0m,\u001b[1m1\u001b[0m): \u001b[1m6\u001b[0m\n",
      "C(\u001b[1m6\u001b[0m,\u001b[1m2\u001b[0m): \u001b[1m15\u001b[0m\n",
      "C(\u001b[1m6\u001b[0m,\u001b[1m3\u001b[0m): \u001b[1m20\u001b[0m\n",
      "C(\u001b[1m6\u001b[0m,\u001b[1m4\u001b[0m): \u001b[1m15\u001b[0m\n",
      "C(\u001b[1m6\u001b[0m,\u001b[1m5\u001b[0m): \u001b[1m6\u001b[0m\n",
      "C(\u001b[1m6\u001b[0m,\u001b[1m6\u001b[0m): \u001b[1m1\u001b[0m\n",
      "\n",
      "C(\u001b[1m7\u001b[0m,\u001b[1m1\u001b[0m): \u001b[1m7\u001b[0m\n",
      "C(\u001b[1m7\u001b[0m,\u001b[1m2\u001b[0m): \u001b[1m21\u001b[0m\n",
      "C(\u001b[1m7\u001b[0m,\u001b[1m3\u001b[0m): \u001b[1m35\u001b[0m\n",
      "C(\u001b[1m7\u001b[0m,\u001b[1m4\u001b[0m): \u001b[1m35\u001b[0m\n",
      "C(\u001b[1m7\u001b[0m,\u001b[1m5\u001b[0m): \u001b[1m21\u001b[0m\n",
      "C(\u001b[1m7\u001b[0m,\u001b[1m6\u001b[0m): \u001b[1m7\u001b[0m\n",
      "C(\u001b[1m7\u001b[0m,\u001b[1m7\u001b[0m): \u001b[1m1\u001b[0m\n",
      "\n",
      "C(\u001b[1m8\u001b[0m,\u001b[1m1\u001b[0m): \u001b[1m8\u001b[0m\n",
      "C(\u001b[1m8\u001b[0m,\u001b[1m2\u001b[0m): \u001b[1m28\u001b[0m\n",
      "C(\u001b[1m8\u001b[0m,\u001b[1m3\u001b[0m): \u001b[1m56\u001b[0m\n",
      "C(\u001b[1m8\u001b[0m,\u001b[1m4\u001b[0m): \u001b[1m70\u001b[0m\n",
      "C(\u001b[1m8\u001b[0m,\u001b[1m5\u001b[0m): \u001b[1m56\u001b[0m\n",
      "C(\u001b[1m8\u001b[0m,\u001b[1m6\u001b[0m): \u001b[1m28\u001b[0m\n",
      "C(\u001b[1m8\u001b[0m,\u001b[1m7\u001b[0m): \u001b[1m8\u001b[0m\n",
      "C(\u001b[1m8\u001b[0m,\u001b[1m8\u001b[0m): \u001b[1m1\u001b[0m\n",
      "\n",
      "C(\u001b[1m9\u001b[0m,\u001b[1m1\u001b[0m): \u001b[1m9\u001b[0m\n",
      "C(\u001b[1m9\u001b[0m,\u001b[1m2\u001b[0m): \u001b[1m36\u001b[0m\n",
      "C(\u001b[1m9\u001b[0m,\u001b[1m3\u001b[0m): \u001b[1m84\u001b[0m\n",
      "C(\u001b[1m9\u001b[0m,\u001b[1m4\u001b[0m): \u001b[1m126\u001b[0m\n",
      "C(\u001b[1m9\u001b[0m,\u001b[1m5\u001b[0m): \u001b[1m126\u001b[0m\n",
      "C(\u001b[1m9\u001b[0m,\u001b[1m6\u001b[0m): \u001b[1m84\u001b[0m\n",
      "C(\u001b[1m9\u001b[0m,\u001b[1m7\u001b[0m): \u001b[1m36\u001b[0m\n",
      "C(\u001b[1m9\u001b[0m,\u001b[1m8\u001b[0m): \u001b[1m9\u001b[0m\n",
      "C(\u001b[1m9\u001b[0m,\u001b[1m9\u001b[0m): \u001b[1m1\u001b[0m\n",
      "\n",
      "C(\u001b[1m10\u001b[0m,\u001b[1m1\u001b[0m): \u001b[1m10\u001b[0m\n",
      "C(\u001b[1m10\u001b[0m,\u001b[1m2\u001b[0m): \u001b[1m45\u001b[0m\n",
      "C(\u001b[1m10\u001b[0m,\u001b[1m3\u001b[0m): \u001b[1m120\u001b[0m\n",
      "C(\u001b[1m10\u001b[0m,\u001b[1m4\u001b[0m): \u001b[1m210\u001b[0m\n",
      "C(\u001b[1m10\u001b[0m,\u001b[1m5\u001b[0m): \u001b[1m252\u001b[0m\n",
      "C(\u001b[1m10\u001b[0m,\u001b[1m6\u001b[0m): \u001b[1m210\u001b[0m\n",
      "C(\u001b[1m10\u001b[0m,\u001b[1m7\u001b[0m): \u001b[1m120\u001b[0m\n",
      "C(\u001b[1m10\u001b[0m,\u001b[1m8\u001b[0m): \u001b[1m45\u001b[0m\n",
      "C(\u001b[1m10\u001b[0m,\u001b[1m9\u001b[0m): \u001b[1m10\u001b[0m\n",
      "C(\u001b[1m10\u001b[0m,\u001b[1m10\u001b[0m): \u001b[1m1\u001b[0m\n",
      "\n"
     ]
    }
   ],
   "source": [
    "C_spam()"
   ]
  },
  {
   "cell_type": "code",
   "execution_count": 58,
   "metadata": {},
   "outputs": [
    {
     "data": {
      "text/plain": [
       "[('A', 'B'),\n",
       " ('A', 'C'),\n",
       " ('A', 'D'),\n",
       " ('B', 'A'),\n",
       " ('B', 'C'),\n",
       " ('B', 'D'),\n",
       " ('C', 'A'),\n",
       " ('C', 'B'),\n",
       " ('C', 'D'),\n",
       " ('D', 'A'),\n",
       " ('D', 'B'),\n",
       " ('D', 'C')]"
      ]
     },
     "execution_count": 58,
     "metadata": {},
     "output_type": "execute_result"
    }
   ],
   "source": [
    "P(\"ABCD\",2)"
   ]
  },
  {
   "cell_type": "code",
   "execution_count": null,
   "metadata": {},
   "outputs": [],
   "source": []
  }
 ],
 "metadata": {
  "kernelspec": {
   "display_name": "Python 3",
   "language": "python",
   "name": "python3"
  },
  "language_info": {
   "codemirror_mode": {
    "name": "ipython",
    "version": 3
   },
   "file_extension": ".py",
   "mimetype": "text/x-python",
   "name": "python",
   "nbconvert_exporter": "python",
   "pygments_lexer": "ipython3",
   "version": "3.8.6"
  },
  "toc-showcode": true
 },
 "nbformat": 4,
 "nbformat_minor": 4
}
