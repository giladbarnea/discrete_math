{
 "cells": [
  {
   "cell_type": "code",
   "execution_count": 2,
   "metadata": {},
   "outputs": [],
   "source": [
    "from itertools import product as prod, combinations, combinations_with_replacement as cwr\n",
    "from typing import Callable, Union, Tuple, Set, overload, Optional\n",
    "from operator import le, lt, ge, gt, ne  # lower-equal, lower-than, greater-equal, greater-than, not-equal\n",
    "from random import randint\n",
    "import inspect\n",
    "from pprint import pformat\n",
    "\n",
    "powerset = lambda v: {tuple(combo) for r in range(len(v) + 1) for combo in combinations(v, r)}\n",
    "cartesian_prod = lambda v:prod(v, v) # cartesian_prod({1,2}) = [(1, 1), (1, 2), (2, 1), (2, 2)]\n",
    "universal_rel = lambda a,b:True\n",
    "empty_rel = lambda a,b:False\n",
    "identity_rel = lambda a,b:a==b\n",
    "opposite_rel = lambda a,b:a==-b\n",
    "\n",
    "# inverse_rel = lambda a,b:\n",
    "R = Callable[[int, int], bool]\n",
    "Prod = Set[Tuple[int, int]] # {<1,2>, <3,4>}\n",
    "Vec = Set[int] # {1, 2, 3, 4}\n",
    "RawRelation = Tuple[R, Vec, Optional[Vec]] # ( lambda a,b:... , {1,2,3}, {3,4,5}? )\n",
    "Relation = Union[\n",
    "    Prod, \n",
    "    RawRelation\n",
    "    ] "
   ]
  },
  {
   "cell_type": "code",
   "execution_count": 3,
   "metadata": {},
   "outputs": [],
   "source": [
    "def is_product(thing):\n",
    "    \"\"\"\n",
    "    Returns True if thing is Prod, i.e. is of the form { <a,b>, <c,d>, ... }. Don't care about exact types (tuples, sets, etc)\n",
    "    \"\"\"\n",
    "    try:\n",
    "        for x in thing:\n",
    "            if not isinstance(x, (tuple, list)):\n",
    "                return False\n",
    "        return True\n",
    "            \n",
    "    except:\n",
    "        return False"
   ]
  },
  {
   "cell_type": "code",
   "execution_count": 4,
   "metadata": {},
   "outputs": [],
   "source": [
    "def is_raw_relation(thing):\n",
    "    \"\"\"\n",
    "    Returns True if thing is (lambda, Vec, Vec?)\n",
    "    \"\"\"\n",
    "    try:\n",
    "        length = len(thing)\n",
    "        if not isinstance(thing, (tuple, list)) or length < 2 or length > 3:\n",
    "            return False\n",
    "        \n",
    "        maybe_ok = callable(thing[0]) and isinstance(thing[1], (list,tuple,set))\n",
    "        if length == 3:\n",
    "            return maybe_ok and isinstance(thing[2], (list,tuple,set))\n",
    "        else:\n",
    "            return maybe_ok\n",
    "        \n",
    "    except:\n",
    "        return False"
   ]
  },
  {
   "cell_type": "code",
   "execution_count": 5,
   "metadata": {},
   "outputs": [
    {
     "output_type": "execute_result",
     "data": {
      "text/plain": [
       "[]"
      ]
     },
     "metadata": {},
     "execution_count": 5
    }
   ],
   "source": [
    "list(cartesian_prod({}))\n",
    "# empty"
   ]
  },
  {
   "cell_type": "code",
   "execution_count": 6,
   "metadata": {},
   "outputs": [
    {
     "output_type": "execute_result",
     "data": {
      "text/plain": [
       "[(1, 1)]"
      ]
     },
     "metadata": {},
     "execution_count": 6
    }
   ],
   "source": [
    "list(cartesian_prod({1}))\n",
    "# (1, 1)"
   ]
  },
  {
   "cell_type": "code",
   "execution_count": 7,
   "metadata": {},
   "outputs": [
    {
     "output_type": "execute_result",
     "data": {
      "text/plain": [
       "[(1, 1), (1, 2), (2, 1), (2, 2)]"
      ]
     },
     "metadata": {},
     "execution_count": 7
    }
   ],
   "source": [
    "list(cartesian_prod({1,2}))\n",
    "# (1, 1), (1, 2), \n",
    "# (2, 1), (2, 2)"
   ]
  },
  {
   "cell_type": "code",
   "execution_count": 8,
   "metadata": {},
   "outputs": [
    {
     "output_type": "execute_result",
     "data": {
      "text/plain": [
       "[(1, 1), (1, 2), (1, 3), (2, 1), (2, 2), (2, 3), (3, 1), (3, 2), (3, 3)]"
      ]
     },
     "metadata": {},
     "execution_count": 8
    }
   ],
   "source": [
    "list(cartesian_prod({1,2,3}))\n",
    "# (1, 1), (1, 2), (1, 3), \n",
    "# (2, 1), (2, 2), (2, 3), \n",
    "# (3, 1), (3, 2), (3, 3)"
   ]
  },
  {
   "cell_type": "code",
   "execution_count": 9,
   "metadata": {},
   "outputs": [
    {
     "output_type": "execute_result",
     "data": {
      "text/plain": [
       "[(1, 1),\n",
       " (1, 2),\n",
       " (1, 3),\n",
       " (1, 4),\n",
       " (2, 1),\n",
       " (2, 2),\n",
       " (2, 3),\n",
       " (2, 4),\n",
       " (3, 1),\n",
       " (3, 2),\n",
       " (3, 3),\n",
       " (3, 4),\n",
       " (4, 1),\n",
       " (4, 2),\n",
       " (4, 3),\n",
       " (4, 4)]"
      ]
     },
     "metadata": {},
     "execution_count": 9
    }
   ],
   "source": [
    "list(cartesian_prod({1,2,3,4}))\n",
    "# (1, 1), (1, 2), (1, 3), (1, 4),\n",
    "# (2, 1), (2, 2), (2, 3), (2, 4),\n",
    "# (3, 1), (3, 2), (3, 3), (3, 4),\n",
    "# (4, 1), (4, 2), (4, 3), (4, 4)"
   ]
  },
  {
   "cell_type": "code",
   "execution_count": 10,
   "metadata": {},
   "outputs": [
    {
     "output_type": "execute_result",
     "data": {
      "text/plain": [
       "{(),\n",
       " (1,),\n",
       " (1, 2),\n",
       " (1, 2, 3),\n",
       " (1, 2, 3, 4),\n",
       " (1, 2, 4),\n",
       " (1, 3),\n",
       " (1, 3, 4),\n",
       " (1, 4),\n",
       " (2,),\n",
       " (2, 3),\n",
       " (2, 3, 4),\n",
       " (2, 4),\n",
       " (3,),\n",
       " (3, 4),\n",
       " (4,)}"
      ]
     },
     "metadata": {},
     "execution_count": 10
    }
   ],
   "source": [
    "powerset({1,2,3,4})\n",
    "# (),\n",
    "# (1,), (2,), (3,), (4,)\n",
    "# (1, 2), (1, 3), (1, 4), (2, 3), (2, 4), (3, 4),\n",
    "# (1, 2, 3), (1, 2, 4), (1, 3, 4), (2, 3, 4),\n",
    "# (1, 2, 3, 4)"
   ]
  },
  {
   "cell_type": "code",
   "execution_count": 11,
   "metadata": {},
   "outputs": [],
   "source": [
    "def partition_to_equiv_classes(prod:Prod)->Set[Prod]:\n",
    "    \"\"\"\n",
    "    >>> partition = { (1,2,), (3,) }\n",
    "    >>> partition_to_equiv_classes(partition)\n",
    "    {(1, 1), (1, 2), (2, 1), (2, 2), (3, 3)}\n",
    "    \"\"\"\n",
    "    if not is_product(prod):\n",
    "        raise ValueError(f\"partition_to_equiv_classes(prod) expecting a 2D+ structure, got {pformat(prod)}\")\n",
    "    equiv_classes = set()\n",
    "    for subset in prod:\n",
    "        for x in cartesian_prod(subset):\n",
    "            equiv_classes.add(x)\n",
    "    return equiv_classes\n",
    "    "
   ]
  },
  {
   "cell_type": "code",
   "execution_count": 12,
   "metadata": {},
   "outputs": [
    {
     "output_type": "stream",
     "name": "stdout",
     "text": [
      "\ncombos=[(1,), (2,), (3,)]\nequiv_classes={(1, 1), (3, 3), (2, 2)}\n\ncombo=(1, 2), remainder={3}\nequiv_classes={(1, 2), (2, 1), (1, 1), (3, 3), (2, 2)}\ncombo=(1, 3), remainder={2}\nequiv_classes={(3, 1), (1, 1), (3, 3), (2, 2), (1, 3)}\ncombo=(2, 3), remainder={1}\nequiv_classes={(1, 1), (2, 3), (3, 3), (2, 2), (3, 2)}\n\ncombos=[(1, 2, 3)]\nequiv_classes={(1, 2), (2, 1), (3, 1), (1, 1), (2, 3), (3, 3), (2, 2), (3, 2), (1, 3)}\n"
     ]
    }
   ],
   "source": [
    "A = {1,2,3}\n",
    "for i in range(1, len(A)+1):\n",
    "    print()\n",
    "    combos = list(combinations(A,i))\n",
    "    if sum(map(len,combos)) != len(A):\n",
    "        for combo in combos:\n",
    "            remainder = A-set(combo)\n",
    "            print(f'{combo=}, {remainder=}')\n",
    "            partition = {combo, tuple(remainder)}\n",
    "            equiv_classes = partition_to_equiv_classes(partition)\n",
    "            print(f'{equiv_classes=}')\n",
    "    else:\n",
    "        print(f'{combos=}')\n",
    "        equiv_classes = partition_to_equiv_classes(combos)\n",
    "        print(f'{equiv_classes=}')"
   ]
  },
  {
   "cell_type": "code",
   "execution_count": 13,
   "metadata": {},
   "outputs": [
    {
     "output_type": "execute_result",
     "data": {
      "text/plain": [
       "{(1, 1), (1, 2), (2, 1), (2, 2), (3, 3)}"
      ]
     },
     "metadata": {},
     "execution_count": 13
    }
   ],
   "source": [
    "\n",
    "partition = { (1,2,), (3,) }\n",
    "partition_to_equiv_classes(partition)"
   ]
  },
  {
   "cell_type": "code",
   "execution_count": 14,
   "metadata": {},
   "outputs": [
    {
     "output_type": "error",
     "ename": "NameError",
     "evalue": "name 'relate' is not defined",
     "traceback": [
      "\u001b[1;31m---------------------------------------------------------------------------\u001b[0m",
      "\u001b[1;31mNameError\u001b[0m                                 Traceback (most recent call last)",
      "\u001b[1;32m<ipython-input-14-803cf43d44c6>\u001b[0m in \u001b[0;36m<module>\u001b[1;34m\u001b[0m\n\u001b[0;32m      1\u001b[0m \u001b[0mrelR\u001b[0m \u001b[1;33m=\u001b[0m \u001b[1;32mlambda\u001b[0m \u001b[0ma\u001b[0m\u001b[1;33m,\u001b[0m\u001b[0mb\u001b[0m\u001b[1;33m:\u001b[0m\u001b[1;33m{\u001b[0m\u001b[1;36m1\u001b[0m\u001b[1;33m,\u001b[0m\u001b[1;36m2\u001b[0m\u001b[1;33m}\u001b[0m\u001b[1;33m-\u001b[0m\u001b[0mset\u001b[0m\u001b[1;33m(\u001b[0m\u001b[0ma\u001b[0m\u001b[1;33m)\u001b[0m\u001b[1;33m==\u001b[0m\u001b[1;33m{\u001b[0m\u001b[1;36m1\u001b[0m\u001b[1;33m,\u001b[0m\u001b[1;36m2\u001b[0m\u001b[1;33m}\u001b[0m\u001b[1;33m-\u001b[0m\u001b[0mset\u001b[0m\u001b[1;33m(\u001b[0m\u001b[0mb\u001b[0m\u001b[1;33m)\u001b[0m\u001b[1;33m\u001b[0m\u001b[1;33m\u001b[0m\u001b[0m\n\u001b[0;32m      2\u001b[0m \u001b[0mM\u001b[0m \u001b[1;33m=\u001b[0m \u001b[0mpowerset\u001b[0m\u001b[1;33m(\u001b[0m\u001b[1;33m{\u001b[0m\u001b[1;36m1\u001b[0m\u001b[1;33m,\u001b[0m\u001b[1;36m2\u001b[0m\u001b[1;33m,\u001b[0m\u001b[1;36m3\u001b[0m\u001b[1;33m,\u001b[0m\u001b[1;36m4\u001b[0m\u001b[1;33m}\u001b[0m\u001b[1;33m)\u001b[0m\u001b[1;33m\u001b[0m\u001b[1;33m\u001b[0m\u001b[0m\n\u001b[1;32m----> 3\u001b[1;33m \u001b[0mrelate\u001b[0m\u001b[1;33m(\u001b[0m\u001b[1;33m(\u001b[0m\u001b[0mrelR\u001b[0m\u001b[1;33m,\u001b[0m\u001b[0mM\u001b[0m\u001b[1;33m)\u001b[0m\u001b[1;33m)\u001b[0m\u001b[1;33m\u001b[0m\u001b[1;33m\u001b[0m\u001b[0m\n\u001b[0m",
      "\u001b[1;31mNameError\u001b[0m: name 'relate' is not defined"
     ]
    }
   ],
   "source": [
    "relR = lambda a,b:{1,2}-set(a)=={1,2}-set(b)\n",
    "M = powerset({1,2,3,4})\n",
    "relate((relR,M))"
   ]
  },
  {
   "cell_type": "code",
   "execution_count": null,
   "metadata": {},
   "outputs": [],
   "source": [
    "# from collections import defaultdict, OrderedDict\n",
    "# A_equiv_classes = OrderedDict()\n",
    "# for Aa in sorted(A):\n",
    "#     A_equiv_classes[Aa] = set()\n",
    "#     for Ra, Rb in A_relation:\n",
    "#         if Aa == Ra:\n",
    "#             A_equiv_classes[Aa].add(Rb)\n",
    "# dict(A_equiv_classes)\n",
    "# # 0,0 | 0,0\n",
    "# # 0,1 | 0,1\n",
    "# # 0,2 | 0,2 1,1\n",
    "# # 0,3 | 0,3 1,2\n",
    "# # 0,4 | 0,4 1,3 2,2\n",
    "# # 0,5 | 0,5 1,4 2,3\n",
    "# # 1,5 | 1,5 2,4 3,3\n",
    "# # 2,5 | 2,5 3,4\n",
    "# # 3,5 | 3,5 4,4\n",
    "# # 4,5 | 4,5\n",
    "# # 5,5 | 5,5"
   ]
  },
  {
   "cell_type": "code",
   "execution_count": null,
   "metadata": {},
   "outputs": [],
   "source": [
    "# relate_sqr(relate(lambda a,b: 0<=a<=b<=5, {0, 1,2,3,4, 5}))\n",
    "# (0, 0), (0, 1), (0, 2), (0, 3), (0, 4), (0, 5),\n",
    "# (1, 1), (1, 2), (1, 3), (1, 4), (1, 5),\n",
    "# (2, 2), (2, 3), (2, 4), (2, 5),\n",
    "# (3, 3), (3, 4), (3, 5),\n",
    "# (4, 4), (4, 5),\n",
    "# (5, 5)"
   ]
  },
  {
   "cell_type": "code",
   "execution_count": 15,
   "metadata": {},
   "outputs": [],
   "source": [
    "def get_lambda_src(rel:R):\n",
    "    try:\n",
    "        fn_srcline:str=inspect.getsourcelines(rel)[0][0].strip()\n",
    "    except TypeError:\n",
    "        return rel.__qualname__\n",
    "    if 'lambda' in fn_srcline:\n",
    "        _,_,after_lam = map(str.strip,fn_srcline.partition('lambda'))\n",
    "        lam_content,_,_=map(str.strip,after_lam.partition(' '))\n",
    "        if ' ' in after_lam:\n",
    "            return f'`lambda {lam_content[:-1]}`'\n",
    "        else:\n",
    "            return f'`lambda {lam_content}`'\n",
    "    else:\n",
    "        return fn_srcline"
   ]
  },
  {
   "cell_type": "code",
   "execution_count": 16,
   "metadata": {},
   "outputs": [],
   "source": [
    "def randset(length, start=None, stop=None) -> set:\n",
    "    \"\"\"\n",
    "    `start` is inclusive, `stop` is exclusive.\n",
    "    >>> randset(10) == {-4, -3, -2, -1, 0, 1, 2, 3, 4}\n",
    "    True\n",
    "\n",
    "    >>> randset(5, 1, 4)\n",
    "    {1, 2, 3}\n",
    "    \n",
    "    >>> 15 <= sum(randset(5, 1, 7)) <= 20\n",
    "    True\n",
    "    \"\"\"\n",
    "    if start is None and stop is None:\n",
    "        if length % 2 == 0:\n",
    "            length -= 1\n",
    "        half = length // 2\n",
    "        start = -half\n",
    "        stop = half + 1\n",
    "        tmp = set(range(start, stop))\n",
    "        return tmp\n",
    "    tmp = set()\n",
    "    stop -= 1  # randint stop is inclusive\n",
    "    tmp_len = len(tmp)\n",
    "    while tmp_len < length and tmp_len < stop - start + 1:\n",
    "        tmp.add(randint(start, stop))\n",
    "        tmp_len = len(tmp)\n",
    "    return tmp\n"
   ]
  },
  {
   "cell_type": "code",
   "execution_count": 17,
   "metadata": {},
   "outputs": [],
   "source": [
    "def relate(rawrelation: RawRelation, *, quiet=True)->Prod:\n",
    "    \"\"\"Creates a relation between vec1 and vec2? by filtering their cartesian product.\n",
    "    If only one vector is given, creates a relation between it and itself (vec1×vec1).\n",
    "    Basically, `for x in A: for y in B: yield <x,y> if rel(x,y)`\n",
    "    Returns a set of ordered pairs that's a subset of cart product.\n",
    "    Examples:\n",
    "    \n",
    "    >>> V = {1, 2, 3}\n",
    "    >>> relate(lambda a,b: a>b, V)\n",
    "    {(3, 1), (3, 2), (2, 1)}\n",
    "    \n",
    "    >>> relate(gt, V) # same as example above\n",
    "    {(3, 1), (3, 2), (2, 1)}\n",
    "    \n",
    "    >>> V_cart_prod = set(cartesian_prod(V))\n",
    "    >>> relate(universal_rel, V) == V_cart_prod\n",
    "    True\n",
    "    \"\"\"\n",
    "    if quiet:\n",
    "        qprint= lambda *args, **kwargs: True\n",
    "    else:\n",
    "        qprint = print\n",
    "    if not is_raw_relation(rawrelation):\n",
    "        if not is_product(rawrelation):\n",
    "            raise ValueError(f\"relate() | not a raw relation, not a product: {rawrelation}\")\n",
    "        print(f\"WARN relate() | got a product, returning as is: {rawrelation}\")\n",
    "        return rawrelation\n",
    "    relation = set()\n",
    "    \n",
    "    \n",
    "    if len(rawrelation) == 3:\n",
    "        fn, vec1, vec2 = rawrelation\n",
    "    else:\n",
    "        fn, vec1 = rawrelation\n",
    "        vec2 = None\n",
    "    fn_src=get_lambda_src(fn)\n",
    "    if vec2 is None:\n",
    "        sig_repr=f'relate({fn_src}, vec1 ({len(vec1)}) × vec1)'\n",
    "            \n",
    "        vec2=vec1\n",
    "    else:\n",
    "        \n",
    "        sig_repr=f'relate({fn_src}, vec1 ({len(vec1)}) × vec2 (({len(vec2)}))'\n",
    "            \n",
    "\n",
    "    print(f'{sig_repr} |\\n\\t{vec1=}\\n\\t{vec2=}')\n",
    "    \n",
    "    for x,y in prod(vec1,vec2):\n",
    "        if fn(x, y):\n",
    "            relation.add((x, y))        \n",
    "            qprint(f'\\trelate() | added <x:{x}, y:{y}>')\n",
    "    if quiet:\n",
    "        print(f'{sig_repr} → {{ < , > ... }}({len(relation)})')\n",
    "    else:\n",
    "        print(f'{sig_repr} → {relation}')\n",
    "    return relation"
   ]
  },
  {
   "cell_type": "code",
   "execution_count": 18,
   "metadata": {},
   "outputs": [],
   "source": [
    "@overload\n",
    "def multiply(relation: Relation,*, quiet=True)->Prod:\n",
    "    \"\"\"\n",
    "    If (R:lambda, vec1, vec2), then R^2 of vec1 × vec2. \n",
    "    If (R:lambda, vec1), then R^2 of vec1 × vec1.\n",
    "    If a single product, then product·product.\n",
    "    \"\"\"\n",
    "    ...\n",
    "@overload\n",
    "def multiply(relation1: Relation, relation2:Relation,*, quiet=True)->Prod:\n",
    "    \"\"\"\n",
    "    If (R1:lambda, vec1a, vec1b?), (R2:lambda, vec2a, vec2b?), then (R1 over vec1a×vec1b)·(R2 over vec2a×vec2b)\n",
    "    if two products, then prod1 · prod2\n",
    "    \"\"\"\n",
    "    ...\n",
    "\n",
    "def multiply(relation1, relation2 = None, *, quiet=True)->Prod:\n",
    "    \"\"\"\n",
    "    R1: A -> B, R2: B -> C; R1·R2 = {<a,c> ∈ A×C | ∃b ∈ B(aR1b ∧ bR2c)}\n",
    "    \n",
    "    Each pair from R1 (a,b) is compared against each pair from R2 (b,c).\n",
    "    If a pair can shake hands (b1 == b2), then <a, c> is in the multipication result.\n",
    "    \n",
    "    >>> multiply({(2,3),(2,5)}, {(3,3),(5,9),(6,9)})\n",
    "    ...\n",
    "    {(2, 3), (2, 9)}\n",
    "    \n",
    "    >>> vec = {-1, 0, 1}\n",
    "    >>> vec_cart = relate((universal_rel, vec))\n",
    "    >>> just_vec = relate((identity_rel, vec))\n",
    "    >>> multiply(vec_cart, just_vec) == vec_cart\n",
    "    True\n",
    "    \"\"\"\n",
    "    if is_raw_relation(relation1):\n",
    "        R1 = relate(relation1)\n",
    "        if relation2:\n",
    "            R2 = relate(relation2)\n",
    "            print(f'multiply | two pairs of (fn:R, vec:Vec), (fn:R, vec:Vec) overload | {R1=} | {R2=}')\n",
    "        else:\n",
    "            R2 = None\n",
    "            print(f'multiply | one pair of (fn:R, vec:Vec) overload')\n",
    "    else:\n",
    "        R1 = relation1\n",
    "        R2 = relation2\n",
    "        print(f'multiply | products multiplication overload')\n",
    "    \n",
    "    mutiplied = set()\n",
    "    if R2 is None:\n",
    "        R2 = R1\n",
    "    for a, b1 in R1:\n",
    "        for b2, c in R2:\n",
    "            if b1 == b2:\n",
    "                mutiplied.add((a, c))\n",
    "                print(f'multiply() | <\\x1b[1ma:{a}\\x1b[0m → b:{b1} → \\x1b[1mc:{c}\\x1b[0m>')\n",
    "    return mutiplied"
   ]
  },
  {
   "cell_type": "code",
   "execution_count": 19,
   "metadata": {},
   "outputs": [],
   "source": [
    "def inverse(A: Prod)->Prod:\n",
    "    inverted = set()\n",
    "    for a, b in A:\n",
    "        inverted.add((b, a))\n",
    "    return inverted\n"
   ]
  },
  {
   "cell_type": "code",
   "execution_count": 20,
   "metadata": {},
   "outputs": [],
   "source": [
    "def relate_sqr(rel_or_product: Union[R, Prod], vec:Vec=None, quiet=True, alt=False):\n",
    "    \"\"\"Computes the squared relation.\n",
    "    ⟨a,c⟩ ∈ 𝑹×𝑹: {⟨a,c⟩ | ∃b ∈ A (⟨a,b⟩ ∈ 𝑹 ∧ ⟨b,c⟩ ∈ 𝑹)}\n",
    "    \n",
    "    Forms:\n",
    "    \n",
    "    Returns a set of {} \n",
    "    >>> relate_sqr(lambda a,b:a>b, {1,2,3})\n",
    "    {(3, 1)}\n",
    "    \n",
    "    \n",
    "    >>> r2 = relate_sqr({(1, 1),(2, 2)})\n",
    "    identity_rel\n",
    "    \n",
    "    Examples:\n",
    "    \n",
    "    >>> V = randset(30)\n",
    "    >>> opposite_of_opposite = relate_sqr(opposite_rel, V)\n",
    "    >>> I = relate(identity_rel, V)\n",
    "    >>> I == opposite_of_opposite\n",
    "    True\n",
    "\n",
    "    \n",
    "    \n",
    "    \"\"\"\n",
    "    \n",
    "    r2 = set()\n",
    "    if callable(rel_or_product):\n",
    "        rel = rel_or_product\n",
    "        print(f'relate_sql({get_lambda_src(rel)}, vec:{vec})')\n",
    "        # relate_sqr(lambda a,b:..., {1,2,3})\n",
    "        if not alt:\n",
    "            for a, c in cartesian_prod(vec):\n",
    "                for b in vec:\n",
    "                    if rel(a, b) and rel(b, c):\n",
    "                        r2.add((a, c))\n",
    "                        if not quiet:\n",
    "                            print(f'relate_sqr() | added <a:{a}, c:{c}> (b:{b})')\n",
    "        else:\n",
    "            print(f'relate_sqr() | creating relation of {get_lambda_src(rel)} over vec={vec}')\n",
    "            product:Prod = relate(rel, vec, quiet=quiet)\n",
    "            print(f'relate_sqr() | multiplying {product} with itself')\n",
    "            r2 = multiply(product, product, quiet=quiet) \n",
    "            print(f'relate_sqr() | multiply result = r2: {r2}')\n",
    "            return r2\n",
    "            #return relate_sqr(product, v, quiet=quiet, alt=False)\n",
    "    \n",
    "    else:\n",
    "        # relate_sqr({<5,6>,<7,8>})\n",
    "        # p111 / q15\n",
    "        \n",
    "        product = rel_or_product\n",
    "        if not isinstance(next(iter(product)), tuple):\n",
    "            raise TypeError((f\"Can create a squared relation only with either a vector and a filter function, \"\n",
    "                             f\"or with a product (set of ordered pairs).\\n\"\n",
    "                            f\"got: {product}\"))\n",
    "        print(f'relate_sql({product})\\n\\tmultiplying product * product')\n",
    "        r2 = multiply(product, product, quiet=quiet)\n",
    "        print(f'relate_sqr() | multiply result = r2: {r2}')\n",
    "        if vec is not None:\n",
    "            # ONLY FOR DEBUGGING, v has no use here\n",
    "            try:\n",
    "                known_rels = dict(\n",
    "                        universal_rel=universal_rel,\n",
    "                        empty_rel=empty_rel,\n",
    "                        identity_rel=identity_rel,\n",
    "                        opposite_rel=opposite_rel,\n",
    "                        lower_equal=le,\n",
    "                        lower_then=lt,\n",
    "                        greater_equal=ge,\n",
    "                        greater_then=gt,\n",
    "                        not_equal=ne\n",
    "                        )\n",
    "                print(next(name for name, rel in known_rels.items() if r2 == relate(product, vec)))\n",
    "            except StopIteration:\n",
    "                pass\n",
    "    return r2"
   ]
  },
  {
   "cell_type": "code",
   "execution_count": 21,
   "metadata": {},
   "outputs": [],
   "source": [
    "def is_symmetric(rel: R, v1:Vec, quiet=True):\n",
    "    \"\"\"A relation is symmetric if for every pair <a,b> in R, also <b,a> in R\n",
    "    In other words: rel(a,b) is True and rel(b,a) is True\n",
    "    >>> symmetric = [universal_rel, empty_rel, identity_rel, opposite_rel, ne]\n",
    "    >>> all(is_symmetric(_,randset(100)) for _ in symmetric)\n",
    "    |R|: ...\n",
    "    |R|: ...\n",
    "    True\n",
    "    \n",
    "    >>> not_symmetric = [lt, le, gt, ge]\n",
    "    >>> any(is_symmetric(_,randset(100)) for _ in not_symmetric)\n",
    "    |R|: ...\n",
    "    |R|: ...\n",
    "    False\n",
    "    \n",
    "    \"\"\"\n",
    "    relation = relate(rel, v1, quiet=quiet)\n",
    "    rel_len = len(relation)\n",
    "    if not quiet:\n",
    "        try:\n",
    "            print(f'|R|: {rel_len} ({(rel_len / len((set(prod(v1, v1))))) * 100}%)')\n",
    "        except ZeroDivisionError:\n",
    "            pass\n",
    "    for x, y in relation:\n",
    "        if not rel(y, x):\n",
    "            if not quiet:\n",
    "                print(f'fail: rel(<x:{x}, y:{y}>) is True but rel(<y:{y}, x:{x}>) is False')\n",
    "            return False\n",
    "        if not quiet:\n",
    "            print(f'good: rel(<x:{x}, y:{y}>) is True and rel(<y:{y}, x:{x}>) is True')\n",
    "    return True"
   ]
  },
  {
   "cell_type": "code",
   "execution_count": 22,
   "metadata": {},
   "outputs": [],
   "source": [
    "def is_anti_symmetric(rel: R, v1, v2=None, *, quiet=True):\n",
    "    \"\"\"A relation is anti symmetric if for every pair <a,b> in R, <b,a> is not in R\n",
    "    In other words: rel(a,b) is True but rel(b,a) is False\n",
    "    >>> anti_symmetric = [lt, gt, empty_rel] # also \"⊆\"\n",
    "    >>> all(is_anti_symmetric(_,randset(100)) for _ in anti_symmetric)\n",
    "    |R|: ...\n",
    "    |R|: ...\n",
    "    True\n",
    "    \n",
    "    >>> not_anti_symmetric = [universal_rel, identity_rel, opposite_rel, ne, le, ge, lambda a,b:b<a**2]\n",
    "    >>> any(is_anti_symmetric(_,randset(100)) for _ in not_anti_symmetric)\n",
    "    |R|: ...\n",
    "    False\n",
    "    \"\"\"\n",
    "    relation = relate(rel, v1, v2, quiet=quiet)\n",
    "    rel_len = len(relation)\n",
    "    print(f'|R|: {rel_len} ({(rel_len / len((set(prod(v1, v2 if v2 else v1))))) * 100}%)')\n",
    "    for x, y in relation:\n",
    "        if rel(y, x):\n",
    "            if not quiet:\n",
    "                print(f'fail: rel(<x:{x}, y:{y}>) is True but also rel(<y:{y}, x:{x}>) is True')\n",
    "            return False\n",
    "        if not quiet:\n",
    "            print(f'good: rel(<x:{x}, y:{y}>) is True and rel(<y:{y}, x:{x}>) is False')\n",
    "    return True\n"
   ]
  },
  {
   "cell_type": "code",
   "execution_count": 23,
   "metadata": {},
   "outputs": [],
   "source": [
    "def is_reflexive(relation: Relation, *, quiet=True):\n",
    "    \"\"\"A relation is reflexive if every x in v satisfies rel(x,x)\n",
    "    >>> reflexive = [universal_rel, identity_rel, le, ge]\n",
    "    >>> all(is_reflexive(_,randset(100)) for _ in reflexive)\n",
    "    ...\n",
    "    True\n",
    "    >>> not_reflexive = [ne, lt, gt, empty_rel, opposite_rel]\n",
    "    >>> any(is_reflexive(_,randset(100)) for _ in not_reflexive)\n",
    "    ...\n",
    "    False\n",
    "    \n",
    "    \"\"\"\n",
    "    if is_raw_relation(relation):\n",
    "        if len(relation) == 3:\n",
    "            fn, vec1, vec2 = rawrelation\n",
    "        else:\n",
    "            fn, vec1 = rawrelation\n",
    "            vec2 = None\n",
    "    elif is_product(relation):\n",
    "        raise NotImplementedError\n",
    "    for x in v:\n",
    "        if not rel(x, x):\n",
    "            if not quiet:\n",
    "                print(f'fail: rel(<{x},{x}>) is False')\n",
    "            return False\n",
    "        if not quiet:\n",
    "            print(f'good: rel(<{x},{x}>) is True')\n",
    "    return True"
   ]
  },
  {
   "cell_type": "code",
   "execution_count": 24,
   "metadata": {},
   "outputs": [
    {
     "output_type": "stream",
     "name": "stdout",
     "text": [
      "relate(`lambda a,b:True`, vec1 (4) × vec1) |\n\tvec1={27, 28, -4, 6}\n\tvec2={27, 28, -4, 6}\nrelate(`lambda a,b:True`, vec1 (4) × vec1) → { < , > ... }(16)\nrelate(`lambda a,b:a==b`, vec1 (4) × vec1) |\n\tvec1={-8, 2, 26, 7}\n\tvec2={-8, 2, 26, 7}\nrelate(`lambda a,b:a==b`, vec1 (4) × vec1) → { < , > ... }(4)\nrelate(le, vec1 (4) × vec1) |\n\tvec1={-7, 10, 25, 6}\n\tvec2={-7, 10, 25, 6}\nrelate(le, vec1 (4) × vec1) → { < , > ... }(10)\nrelate(ge, vec1 (4) × vec1) |\n\tvec1={-5, 12, 20, 15}\n\tvec2={-5, 12, 20, 15}\nrelate(ge, vec1 (4) × vec1) → { < , > ... }(10)\n"
     ]
    }
   ],
   "source": [
    "for reflexive in [universal_rel, identity_rel, le, ge]:\n",
    "    vec = randset(4, -10, 30)\n",
    "    # 1st way:\n",
    "    for a in vec:\n",
    "        if reflexive(a,a) is False:\n",
    "            raise Exception\n",
    "    \n",
    "    # 2nd way:\n",
    "    relation = relate((reflexive, vec))\n",
    "    for a in vec:\n",
    "        if (a,a) not in relation:\n",
    "            raise Exception"
   ]
  },
  {
   "cell_type": "code",
   "execution_count": 25,
   "metadata": {},
   "outputs": [],
   "source": [
    "# for not_reflexive in [ne, lt, gt, empty_rel, opposite_rel]:\n",
    "#     vec = randset(3, -10, 30)\n",
    "#     # 1st way:\n",
    "#     for a in vec:\n",
    "#         if not_reflexive(a,a):\n",
    "#             raise Exception\n",
    "    \n",
    "#     # 2nd way:\n",
    "#     relation = relate(not_reflexive, vec)\n",
    "#     for a in vec:\n",
    "#         if (a,a) in relation:\n",
    "#             raise Exception"
   ]
  },
  {
   "cell_type": "code",
   "execution_count": 26,
   "metadata": {},
   "outputs": [],
   "source": [
    "# for i in range(1,50):\n",
    "#     mat = list(prod(randset(i, -5*i, i*10)))\n",
    "#     if not is_symmetric(relR,mat):\n",
    "#         raise Exception\n",
    "#     if not is_reflexive(relR,mat):\n",
    "#         raise Exception"
   ]
  },
  {
   "cell_type": "code",
   "execution_count": 27,
   "metadata": {},
   "outputs": [],
   "source": [
    "# for i in range(1,50):\n",
    "#     mat = list(prod(randset(i, -5*i, i*10)))\n",
    "#     if not is_symmetric(relS,mat):\n",
    "#         raise Exception\n",
    "#     if not is_reflexive(relS,mat):\n",
    "#         raise Exception"
   ]
  },
  {
   "cell_type": "code",
   "execution_count": 28,
   "metadata": {},
   "outputs": [],
   "source": [
    "def is_anti_reflexive(rel: R, v, *, quiet=True):\n",
    "    \"\"\"A relation is anti reflexive if no x in v satisfies rel(x,x)\n",
    "    >>> anti_reflexive = [ne, lt, gt, empty_rel]\n",
    "    >>> all(is_anti_reflexive(_,randset(100)) for _ in anti_reflexive)\n",
    "    ...\n",
    "    True\n",
    "    >>> not_anti_reflexive = [universal_rel, identity_rel, opposite_rel, le, ge]\n",
    "    >>> any(is_anti_reflexive(_,randset(100)) for _ in not_anti_reflexive)\n",
    "    ...\n",
    "    False\n",
    "    \n",
    "    \"\"\"\n",
    "    for x in v:\n",
    "        if rel(x, x):\n",
    "            if not quiet:\n",
    "                print(f'fail: rel(<{x},{x}>) is True')\n",
    "            return False\n",
    "        if not quiet:\n",
    "            print(f'good: rel(<{x},{x}>) is False')\n",
    "    return True"
   ]
  },
  {
   "cell_type": "code",
   "execution_count": 29,
   "metadata": {},
   "outputs": [],
   "source": [
    "def is_empty_relation(rel: R, v1, v2=None, *, quiet=True):\n",
    "    if v2 is None:\n",
    "        product = set(prod(v1, v1))\n",
    "    else:\n",
    "        product = set(prod(v1, v2))\n",
    "    for x, y in product:\n",
    "        if rel(x, y) and (x, y) in product:\n",
    "            return False\n",
    "    return True"
   ]
  },
  {
   "cell_type": "code",
   "execution_count": 30,
   "metadata": {},
   "outputs": [],
   "source": [
    "def is_universal_relation(rel: R, v1, v2=None, *, quiet=True):\n",
    "    if v2 is None:\n",
    "        product = set(prod(v1, v1))\n",
    "    else:\n",
    "        product = set(prod(v1, v2))\n",
    "    for x, y in product:\n",
    "        if rel(x, y) and (x, y) not in product:\n",
    "            return False\n",
    "    return True\n"
   ]
  },
  {
   "cell_type": "code",
   "execution_count": 31,
   "metadata": {},
   "outputs": [],
   "source": [
    "def is_identity_relation(rel: Union[R, Prod], v1, v2=None, *, quiet=True):\n",
    "    \"\"\"\n",
    "    >>> is_identity_relation(lambda a,b: a == b, {-1,0,1})\n",
    "    True\n",
    "    \n",
    "    >>> is_identity_relation({(-1,-1), (0,0), (1,1)}, {-1,0,1})\n",
    "    True\n",
    "    \n",
    "    >>> is_identity_relation({(-1,-1), (0,0), (1,1)}, {-1,0,1}, {-1,0,1,2})\n",
    "    True\n",
    "    \"\"\"\n",
    "    identity = relate(identity_rel, v1, v2, quiet=quiet)\n",
    "    if callable(rel):\n",
    "        relation = relate(rel, v1, v2, quiet=quiet)\n",
    "        return identity == relation\n",
    "    return identity == rel\n"
   ]
  },
  {
   "cell_type": "code",
   "execution_count": null,
   "metadata": {},
   "outputs": [],
   "source": []
  }
 ],
 "metadata": {
  "kernelspec": {
   "name": "Python 3.8.6 64-bit",
   "display_name": "Python 3.8.6 64-bit",
   "metadata": {
    "interpreter": {
     "hash": "9d5f4575e3bef968fd5939794da03c5ffc8075150d25c5a0c4958ede76876e8b"
    }
   }
  },
  "language_info": {
   "codemirror_mode": {
    "name": "ipython",
    "version": 3
   },
   "file_extension": ".py",
   "mimetype": "text/x-python",
   "name": "python",
   "nbconvert_exporter": "python",
   "pygments_lexer": "ipython3",
   "version": "3.8.6-final"
  },
  "toc-autonumbering": false,
  "toc-showcode": true,
  "toc-showtags": true
 },
 "nbformat": 4,
 "nbformat_minor": 4
}