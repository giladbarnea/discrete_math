{
 "cells": [
  {
   "cell_type": "code",
   "execution_count": 1,
   "metadata": {},
   "outputs": [],
   "source": [
    "from relations import *"
   ]
  },
  {
   "cell_type": "code",
   "execution_count": null,
   "metadata": {},
   "outputs": [],
   "source": [
    "list(cartesian_prod({}))\n",
    "# empty"
   ]
  },
  {
   "cell_type": "code",
   "execution_count": null,
   "metadata": {},
   "outputs": [],
   "source": [
    "list(cartesian_prod({1}))\n",
    "# (1, 1)"
   ]
  },
  {
   "cell_type": "code",
   "execution_count": null,
   "metadata": {},
   "outputs": [],
   "source": [
    "list(cartesian_prod({1,2}))\n",
    "# (1, 1), (1, 2), \n",
    "# (2, 1), (2, 2)"
   ]
  },
  {
   "cell_type": "code",
   "execution_count": null,
   "metadata": {},
   "outputs": [],
   "source": [
    "list(cartesian_prod({1,2,3}))\n",
    "# (1, 1), (1, 2), (1, 3), \n",
    "# (2, 1), (2, 2), (2, 3), \n",
    "# (3, 1), (3, 2), (3, 3)"
   ]
  },
  {
   "cell_type": "code",
   "execution_count": null,
   "metadata": {},
   "outputs": [],
   "source": [
    "list(cartesian_prod({1,2,3,4}))\n",
    "# (1, 1), (1, 2), (1, 3), (1, 4),\n",
    "# (2, 1), (2, 2), (2, 3), (2, 4),\n",
    "# (3, 1), (3, 2), (3, 3), (3, 4),\n",
    "# (4, 1), (4, 2), (4, 3), (4, 4)"
   ]
  },
  {
   "cell_type": "code",
   "execution_count": null,
   "metadata": {},
   "outputs": [],
   "source": [
    "powerset({0, 1,2})\n",
    "# (), \n",
    "# (0), (1), (2), \n",
    "# (0, 1), (0, 2), (1, 2), \n",
    "# (0, 1, 2)"
   ]
  },
  {
   "cell_type": "code",
   "execution_count": null,
   "metadata": {},
   "outputs": [],
   "source": [
    "powerset({1,2,3})\n",
    "# (),\n",
    "# (1), (2), (3),\n",
    "# (1, 2), (1, 3), (2, 3),\n",
    "# (1, 2, 3)"
   ]
  },
  {
   "cell_type": "code",
   "execution_count": null,
   "metadata": {},
   "outputs": [],
   "source": [
    "powerset({1,2,3,4})\n",
    "# (),\n",
    "# (1), (2), (3), (4)\n",
    "# (1, 2), (1, 3), (1, 4), (2, 3), (2, 4), (3, 4),\n",
    "# (1, 2, 3), (1, 2, 4), (1, 3, 4), (2, 3, 4),\n",
    "# (1, 2, 3, 4)"
   ]
  },
  {
   "cell_type": "code",
   "execution_count": null,
   "metadata": {},
   "outputs": [],
   "source": [
    "for reflexive in [universal_rel, identity_rel, le, ge]:\n",
    "    vec = randset(4, -10, 30)\n",
    "    if not is_reflexive((reflexive,vec)):\n",
    "        raise Exception"
   ]
  },
  {
   "cell_type": "code",
   "execution_count": null,
   "metadata": {},
   "outputs": [],
   "source": [
    "reflexive = (\n",
    "    (1,1),\n",
    "    (2,2),\n",
    "    (3,3)\n",
    ")\n",
    "is_reflexive(reflexive, {1,2})"
   ]
  },
  {
   "cell_type": "code",
   "execution_count": null,
   "metadata": {},
   "outputs": [],
   "source": [
    "# for not_reflexive in [ne, lt, gt, empty_rel, opposite_rel]:\n",
    "#     vec = randset(3, -10, 30)\n",
    "#     # 1st way:\n",
    "#     for a in vec:\n",
    "#         if not_reflexive(a,a):\n",
    "#             raise Exception\n",
    "    \n",
    "#     # 2nd way:\n",
    "#     relation = relate(not_reflexive, vec)\n",
    "#     for a in vec:\n",
    "#         if (a,a) in relation:\n",
    "#             raise Exception"
   ]
  },
  {
   "cell_type": "code",
   "execution_count": null,
   "metadata": {},
   "outputs": [],
   "source": [
    "# for i in range(1,50):\n",
    "#     mat = list(prod(randset(i, -5*i, i*10)))\n",
    "#     if not is_symmetric(relR,mat):\n",
    "#         raise Exception\n",
    "#     if not is_reflexive(relR,mat):\n",
    "#         raise Exception"
   ]
  },
  {
   "cell_type": "code",
   "execution_count": null,
   "metadata": {},
   "outputs": [],
   "source": [
    "# for i in range(1,50):\n",
    "#     mat = list(prod(randset(i, -5*i, i*10)))\n",
    "#     if not is_symmetric(relS,mat):\n",
    "#         raise Exception\n",
    "#     if not is_reflexive(relS,mat):\n",
    "#         raise Exception"
   ]
  }
 ],
 "metadata": {
  "kernelspec": {
   "display_name": "Python 3",
   "language": "python",
   "name": "python3"
  },
  "language_info": {
   "codemirror_mode": {
    "name": "ipython",
    "version": 3
   },
   "file_extension": ".py",
   "mimetype": "text/x-python",
   "name": "python",
   "nbconvert_exporter": "python",
   "pygments_lexer": "ipython3",
   "version": "3.8.6"
  }
 },
 "nbformat": 4,
 "nbformat_minor": 4
}
