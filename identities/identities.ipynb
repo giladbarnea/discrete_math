{
 "cells": [
  {
   "cell_type": "code",
   "execution_count": 59,
   "metadata": {},
   "outputs": [],
   "source": [
    "from sympy.logic.boolalg import to_anf,to_cnf,to_dnf,to_nnf,simplify_logic,truth_table\n",
    "from collections import defaultdict\n",
    "import re\n",
    "dct = defaultdict(set)\n",
    "TAUTOLOGY_RE = re.compile(r'~?([a-zA-Z]{1}) ?[|&] ?~?\\1')\n",
    "\n",
    "\n",
    "def _set_identities(fmt_str, name_bool_pairs:list):\n",
    "    \"\"\"\n",
    "    `name_bool_pairs` is of the form `[('p', True), ('q', True)]`, so that `args` will be built as e.g. `['p', '~q']`,\n",
    "    then formatted via `fmt_str`.\n",
    "    \"\"\"\n",
    "    args = []\n",
    "    \n",
    "    for name,boolean in name_bool_pairs:\n",
    "        args.append(name if boolean else f'~{name}')\n",
    "    try:\n",
    "        expr = fmt_str.format(*args)\n",
    "    except IndexError:\n",
    "        print(f'IndexError, {args=}')\n",
    "        return\n",
    "    try:\n",
    "        anf = to_anf(expr)\n",
    "    except TypeError:\n",
    "        anf = \"\"\n",
    "    try:\n",
    "        cnf = to_cnf(expr)\n",
    "    except TypeError:\n",
    "        cnf = \"\"\n",
    "    try:\n",
    "        dnf = to_dnf(expr)\n",
    "    except TypeError:\n",
    "        dnf=\"\"\n",
    "    try:\n",
    "        nnf = to_nnf(expr)\n",
    "    except AttributeError:\n",
    "        nnf = \"\"\n",
    "    try:\n",
    "        simple = str(simplify_logic(expr))\n",
    "    except TypeError:\n",
    "        simple=\"\"\n",
    "    _is_ok = lambda s: (\n",
    "        bool(str(s))\n",
    "        and \n",
    "        not '^' in s\n",
    "        and \n",
    "        not TAUTOLOGY_RE.search(s)\n",
    "        and \n",
    "        not s in [simple,expr_str]\n",
    "        )\n",
    "    \n",
    "    if len(simple) > 2: # skip if simple == 'p' or simple == '~p'\n",
    "        print(f'[{expr}] ≡ {simple}')\n",
    "#         print(list(truth_table(expr,set(args))))\n",
    "        if _is_ok(expr_str := str(expr)):\n",
    "            dct[simple].add(expr)\n",
    "        if _is_ok(str(anf)):\n",
    "            print(f'\\tanf: \"{anf}\"')\n",
    "            dct[simple].add(anf)\n",
    "        if _is_ok(str(cnf)):\n",
    "            print(f'\\tcnf: \"{cnf}\"')\n",
    "            dct[simple].add(cnf)\n",
    "        if _is_ok(str(dnf)):\n",
    "            print(f'\\tdnf: \"{dnf}\"')\n",
    "            dct[simple].add(dnf)\n",
    "        if _is_ok(str(nnf)):\n",
    "            print(f'\\tnnf: \"{nnf}\"')\n",
    "            dct[simple].add(nnf)\n",
    "        print()\n",
    "    \n",
    "\n",
    "def set_identities_ij(fmt_str, *symbols):\n",
    "    if len(symbols) != 2:\n",
    "        raise ValueError(f\"because ij, expecting 2 symbols. got {symbols=}\")\n",
    "    for i in (True, False):\n",
    "        for j in (True, False):\n",
    "            pairs = zip(symbols, (i,j))\n",
    "            _set_identities(fmt_str, pairs)\n",
    "\n",
    "        \n",
    "def set_identities_ijk(fmt_str, *symbols):\n",
    "    if len(symbols) != 3:\n",
    "        raise ValueError(f\"because ijk, expecting 3 symbols. got {symbols=}\")\n",
    "    for i in (True, False):\n",
    "        for j in (True, False):\n",
    "            for k in (True, False):\n",
    "                pairs = zip(symbols, (i,j,k))\n",
    "                _set_identities(fmt_str, pairs)\n",
    "def set_identities_ijkl(fmt_str, *symbols):\n",
    "    if len(symbols) != 4:\n",
    "        raise ValueError(f\"because ijkl, expecting 4 symbols. got {symbols=}\")\n",
    "    for i in (True, False):\n",
    "        for j in (True, False):\n",
    "            for k in (True, False):\n",
    "                for l in (True, False):\n",
    "                    pairs = zip(symbols, (i,j,k,l))\n",
    "                    _set_identities(fmt_str, pairs)\n",
    "                \n",
    "                \n",
    "\n"
   ]
  },
  {
   "cell_type": "code",
   "execution_count": null,
   "metadata": {
    "tags": []
   },
   "outputs": [],
   "source": [
    "p_or_q__and_p = set_identities('({} | {}) & {}', 'p','q','p')\n",
    "p_and_q__or_p = set_identities('({} & {}) | {}', 'p','q','p')\n",
    "p_or_q__and_q = set_identities('({} | {}) & {}','p','q','q')\n",
    "p_and_q__or_q = set_identities('({} & {}) | {}','p','q','q')"
   ]
  },
  {
   "cell_type": "code",
   "execution_count": 61,
   "metadata": {},
   "outputs": [
    {
     "name": "stdout",
     "output_type": "stream",
     "text": [
      "[p >> (q & r)] ≡ ~p | (q & r)\n",
      "\tcnf: \"(q | ~p) & (r | ~p)\"\n",
      "\n",
      "[p >> (q & ~r)] ≡ ~p | (q & ~r)\n",
      "\tcnf: \"(q | ~p) & (~p | ~r)\"\n",
      "\n",
      "[p >> (~q & r)] ≡ ~p | (r & ~q)\n",
      "\tcnf: \"(r | ~p) & (~p | ~q)\"\n",
      "\n",
      "[p >> (~q & ~r)] ≡ ~p | (~q & ~r)\n",
      "\tcnf: \"(~p | ~q) & (~p | ~r)\"\n",
      "\n",
      "[~p >> (q & r)] ≡ p | (q & r)\n",
      "\tcnf: \"(p | q) & (p | r)\"\n",
      "\n",
      "[~p >> (q & ~r)] ≡ p | (q & ~r)\n",
      "\tcnf: \"(p | q) & (p | ~r)\"\n",
      "\n",
      "[~p >> (~q & r)] ≡ p | (r & ~q)\n",
      "\tcnf: \"(p | r) & (p | ~q)\"\n",
      "\n",
      "[~p >> (~q & ~r)] ≡ p | (~q & ~r)\n",
      "\tcnf: \"(p | ~q) & (p | ~r)\"\n",
      "\n"
     ]
    }
   ],
   "source": [
    "set_identities_ijk('{} >> ({} & {})', 'p','q', 'r')"
   ]
  },
  {
   "cell_type": "code",
   "execution_count": 53,
   "metadata": {},
   "outputs": [
    {
     "name": "stdout",
     "output_type": "stream",
     "text": [
      "[p & q] ≡ p & q\n",
      "\n",
      "[p & ~q] ≡ p & ~q\n",
      "\tanf: \"p ^ (p & q)\"\n",
      "\n",
      "[~p & q] ≡ q & ~p\n",
      "\tanf: \"q ^ (p & q)\"\n",
      "\n",
      "[~p & ~q] ≡ ~p & ~q\n",
      "\tanf: \"p ^ q ^ True ^ (p & q)\"\n",
      "\n"
     ]
    }
   ],
   "source": [
    "set_identities_ij('{} & {}', 'p','q')"
   ]
  },
  {
   "cell_type": "code",
   "execution_count": null,
   "metadata": {
    "tags": []
   },
   "outputs": [],
   "source": [
    "set_identities('{} >> {} | {} >> {}', 'p','q','p','r')"
   ]
  },
  {
   "cell_type": "code",
   "execution_count": null,
   "metadata": {},
   "outputs": [],
   "source": []
  }
 ],
 "metadata": {
  "hide_input": false,
  "kernelspec": {
   "display_name": "Python 3",
   "language": "python",
   "name": "python3"
  },
  "language_info": {
   "codemirror_mode": {
    "name": "ipython",
    "version": 3
   },
   "file_extension": ".py",
   "mimetype": "text/x-python",
   "name": "python",
   "nbconvert_exporter": "python",
   "pygments_lexer": "ipython3",
   "version": "3.8.6"
  },
  "varInspector": {
   "cols": {
    "lenName": 16,
    "lenType": 16,
    "lenVar": 40
   },
   "kernels_config": {
    "python": {
     "delete_cmd_postfix": "",
     "delete_cmd_prefix": "del ",
     "library": "var_list.py",
     "varRefreshCmd": "print(var_dic_list())"
    },
    "r": {
     "delete_cmd_postfix": ") ",
     "delete_cmd_prefix": "rm(",
     "library": "var_list.r",
     "varRefreshCmd": "cat(var_dic_list()) "
    }
   },
   "types_to_exclude": [
    "module",
    "function",
    "builtin_function_or_method",
    "instance",
    "_Feature"
   ],
   "window_display": false
  }
 },
 "nbformat": 4,
 "nbformat_minor": 4
}
